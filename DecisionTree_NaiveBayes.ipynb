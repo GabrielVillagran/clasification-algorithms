{
  "cells": [
    {
      "cell_type": "markdown",
      "metadata": {
        "id": "view-in-github",
        "colab_type": "text"
      },
      "source": [
        "<a href=\"https://colab.research.google.com/github/GabrielVillagran/clasification-algorithms/blob/main/DecisionTree_NaiveBayes.ipynb\" target=\"_parent\"><img src=\"https://colab.research.google.com/assets/colab-badge.svg\" alt=\"Open In Colab\"/></a>"
      ]
    },
    {
      "cell_type": "markdown",
      "metadata": {
        "id": "MyD40aFvuL3s"
      },
      "source": [
        "# Algoritmos: Árboles de Decisión y Naive Bayes\n",
        "Villagran Sacuedo Gabriel Aldair \\\\\n",
        "Code developed by Dr. Juan Carlos Cuevas Tello \\\\\n",
        "Gen 2017 \\\\\n",
        "267572 \\\\\n",
        "201702370947"
      ]
    },
    {
      "cell_type": "markdown",
      "metadata": {
        "id": "2oz6vLxGT7XM"
      },
      "source": [
        "##Introduction\n",
        "In this homework we are going to develop the decistion tree and the naive bayes algorithm for the wine and iris dataset of the UCI ML repository. \\\\\n",
        "The file is divided in 4 sections:\n",
        "- 1 Iris dataset for 20% and 80%\n",
        "- 2 Iris dataset for 50% and 50%\n",
        "- 3 Wine dataset for 20% and 80%\n",
        "- 4 Wine dataset for 50% and 50%\n",
        "\n",
        "On each section is explained how the data is divided and how the algorithms were calculated.\\\\\n",
        "**NOTE: for each dataset was neccesary to modify adding the attributes indicated on the page, for instance:\n",
        "- on iris section the atributes were:\n",
        "1. sepal length in cm\n",
        "2. sepal width in cm\n",
        "3. petal length in cm\n",
        "4. petal width in cm\n",
        "5. class:\n",
        "-- Iris Setosa\n",
        "-- Iris Versicolour\n",
        "-- Iris Virginica **"
      ]
    },
    {
      "cell_type": "markdown",
      "metadata": {
        "id": "3uB9amnQixes"
      },
      "source": [
        "##Get access to Google Drive\n",
        "in this section I'm giving access to colab to my google drive content"
      ]
    },
    {
      "cell_type": "markdown",
      "metadata": {
        "id": "W9pghqv-zRd1"
      },
      "source": [
        ""
      ]
    },
    {
      "cell_type": "code",
      "execution_count": 77,
      "metadata": {
        "colab": {
          "base_uri": "https://localhost:8080/"
        },
        "id": "klDIGeR9ikB0",
        "outputId": "37c87ff3-4dc8-4e54-e194-1856b8b5113c"
      },
      "outputs": [
        {
          "output_type": "stream",
          "name": "stdout",
          "text": [
            "Drive already mounted at /content/gdrive; to attempt to forcibly remount, call drive.mount(\"/content/gdrive\", force_remount=True).\n"
          ]
        }
      ],
      "source": [
        "from google.colab import drive\n",
        "drive.mount('/content/gdrive')"
      ]
    },
    {
      "cell_type": "markdown",
      "metadata": {
        "id": "YE7-bHWnGQZx"
      },
      "source": [
        "##iris dataset\n",
        "Reading the dataset and splitting the data into x and y axis, I'm also printing tha data just to see the content of the dataset"
      ]
    },
    {
      "cell_type": "code",
      "execution_count": 78,
      "metadata": {
        "colab": {
          "base_uri": "https://localhost:8080/"
        },
        "id": "Iqip11WUGTK8",
        "outputId": "f1668ad8-6574-43a4-af9e-01660e826a2d"
      },
      "outputs": [
        {
          "output_type": "stream",
          "name": "stdout",
          "text": [
            "     sepal length  sepal width  petal length  petal width           class\n",
            "0             5.1          3.5           1.4          0.2     Iris-setosa\n",
            "1             4.9          3.0           1.4          0.2     Iris-setosa\n",
            "2             4.7          3.2           1.3          0.2     Iris-setosa\n",
            "3             4.6          3.1           1.5          0.2     Iris-setosa\n",
            "4             5.0          3.6           1.4          0.2     Iris-setosa\n",
            "..            ...          ...           ...          ...             ...\n",
            "145           6.7          3.0           5.2          2.3  Iris-virginica\n",
            "146           6.3          2.5           5.0          1.9  Iris-virginica\n",
            "147           6.5          3.0           5.2          2.0  Iris-virginica\n",
            "148           6.2          3.4           5.4          2.3  Iris-virginica\n",
            "149           5.9          3.0           5.1          1.8  Iris-virginica\n",
            "\n",
            "[150 rows x 5 columns]\n"
          ]
        }
      ],
      "source": [
        "import pandas as pd\n",
        "df_data_1 = pd.read_csv(\"/content/gdrive/My Drive/Colab Notebooks/MachineLearning/datasetClassification/iris.data\")\n",
        "df_data_1.head()\n",
        "\n",
        "print(df_data_1)\n",
        "X = df_data_1[[\"sepal length\",\"sepal width\",\"petal length\",\"petal width\"]].to_numpy()\n",
        "Y = df_data_1[\"class\"].to_numpy()"
      ]
    },
    {
      "cell_type": "markdown",
      "metadata": {
        "id": "i5PdlTfLVn52"
      },
      "source": [
        "## Printing the data for verification\n",
        "Here we are printing the values for x and y just to be sure that everything is working fine"
      ]
    },
    {
      "cell_type": "code",
      "execution_count": 79,
      "metadata": {
        "id": "m1nNo5PtG5zJ"
      },
      "outputs": [],
      "source": [
        "#X"
      ]
    },
    {
      "cell_type": "code",
      "execution_count": 80,
      "metadata": {
        "id": "Dw9dn9ImHD2H"
      },
      "outputs": [],
      "source": [
        "#Y"
      ]
    },
    {
      "cell_type": "markdown",
      "metadata": {
        "id": "jmtrMy-nLoyB"
      },
      "source": [
        "Convert category data that was previosly divided to numbers\n",
        "\n"
      ]
    },
    {
      "cell_type": "code",
      "execution_count": 81,
      "metadata": {
        "id": "kUzNj2w3LSdZ"
      },
      "outputs": [],
      "source": [
        "from sklearn.preprocessing import OrdinalEncoder\n",
        "\n",
        "#Convertir the classes: sepal length, sepal width, petal length and petal width into numbers\n",
        "enc = OrdinalEncoder()\n",
        "enc.fit(X)\n",
        "x_train_enc = enc.transform(X)\n"
      ]
    },
    {
      "cell_type": "code",
      "execution_count": 82,
      "metadata": {
        "id": "kdXWxog2MSCZ"
      },
      "outputs": [],
      "source": [
        "#x_train_enc"
      ]
    },
    {
      "cell_type": "code",
      "execution_count": 83,
      "metadata": {
        "id": "K6VdjNlbMZ1C"
      },
      "outputs": [],
      "source": [
        "from sklearn import preprocessing\n",
        "\n",
        "#Convert the class called class= {Iris-setosa, Iris-versicolor, Iris-virginica} into numbers\n",
        "le = preprocessing.LabelEncoder()\n",
        "le.fit(Y)\n",
        "y_train_enc = le.transform(Y)\n"
      ]
    },
    {
      "cell_type": "code",
      "execution_count": 84,
      "metadata": {
        "id": "BhwXiLRzt-sH"
      },
      "outputs": [],
      "source": [
        "#y_train_enc"
      ]
    },
    {
      "cell_type": "markdown",
      "metadata": {
        "id": "V7_-i8LUpvlp"
      },
      "source": [
        "## 1-. Decision tree 20% for test and 80%\n",
        "using functios of scikitlearn we are developing the decision tree based on the iris dataset. \\\\\n",
        "Compare the performance (confusion matrix and classification error/accuracy) of different methods for the classification task"
      ]
    },
    {
      "cell_type": "code",
      "execution_count": 85,
      "metadata": {
        "colab": {
          "base_uri": "https://localhost:8080/",
          "height": 699
        },
        "id": "M4yRBEsup1SM",
        "outputId": "85fe0490-c3d8-401a-e239-93753735be32"
      },
      "outputs": [
        {
          "output_type": "stream",
          "name": "stdout",
          "text": [
            "[[41  0  0]\n",
            " [ 0 45  0]\n",
            " [ 0  0 34]]\n",
            "                 precision    recall  f1-score   support\n",
            "\n",
            "    Iris-setosa       1.00      1.00      1.00        41\n",
            "Iris-versicolor       1.00      1.00      1.00        45\n",
            " Iris-virginica       1.00      1.00      1.00        34\n",
            "\n",
            "       accuracy                           1.00       120\n",
            "      macro avg       1.00      1.00      1.00       120\n",
            "   weighted avg       1.00      1.00      1.00       120\n",
            "\n"
          ]
        },
        {
          "output_type": "execute_result",
          "data": {
            "text/plain": [
              "[Text(0.4, 0.9, 'X[3] <= 0.8\\ngini = 0.662\\nsamples = 120\\nvalue = [41, 45, 34]'),\n",
              " Text(0.3, 0.7, 'gini = 0.0\\nsamples = 41\\nvalue = [41, 0, 0]'),\n",
              " Text(0.5, 0.7, 'X[3] <= 1.75\\ngini = 0.49\\nsamples = 79\\nvalue = [0, 45, 34]'),\n",
              " Text(0.2, 0.5, 'X[2] <= 4.95\\ngini = 0.12\\nsamples = 47\\nvalue = [0, 44, 3]'),\n",
              " Text(0.1, 0.3, 'gini = 0.0\\nsamples = 42\\nvalue = [0, 42, 0]'),\n",
              " Text(0.3, 0.3, 'X[3] <= 1.55\\ngini = 0.48\\nsamples = 5\\nvalue = [0, 2, 3]'),\n",
              " Text(0.2, 0.1, 'gini = 0.0\\nsamples = 3\\nvalue = [0, 0, 3]'),\n",
              " Text(0.4, 0.1, 'gini = 0.0\\nsamples = 2\\nvalue = [0, 2, 0]'),\n",
              " Text(0.8, 0.5, 'X[2] <= 4.85\\ngini = 0.061\\nsamples = 32\\nvalue = [0, 1, 31]'),\n",
              " Text(0.7, 0.3, 'X[1] <= 3.0\\ngini = 0.5\\nsamples = 2\\nvalue = [0, 1, 1]'),\n",
              " Text(0.6, 0.1, 'gini = 0.0\\nsamples = 1\\nvalue = [0, 0, 1]'),\n",
              " Text(0.8, 0.1, 'gini = 0.0\\nsamples = 1\\nvalue = [0, 1, 0]'),\n",
              " Text(0.9, 0.3, 'gini = 0.0\\nsamples = 30\\nvalue = [0, 0, 30]')]"
            ]
          },
          "metadata": {},
          "execution_count": 85
        },
        {
          "output_type": "display_data",
          "data": {
            "text/plain": [
              "<Figure size 432x288 with 1 Axes>"
            ],
            "image/png": "[encoded data removed]"
          },
          "metadata": {
            "needs_background": "light"
          }
        }
      ],
      "source": [
        "from sklearn.metrics import classification_report, confusion_matrix\n",
        "from sklearn.model_selection import train_test_split\n",
        "from sklearn import tree\n",
        "\n",
        "X_train = x_train_enc\n",
        "Y_train = y_train_enc\n",
        "#divided the data into 20% for test and 80% for train\n",
        "X_train, X_test, Y_train, y_test = train_test_split(X, Y, test_size=0.2)\n",
        "\n",
        "#Crear modelo basado en árbol de decisión\n",
        "clf = tree.DecisionTreeClassifier()\n",
        "\n",
        "#Entrenamiento\n",
        "clf = clf.fit(X_train, Y_train)\n",
        "\n",
        "#Prueba\n",
        "y_train_pred = clf.predict(X_train)\n",
        "\n",
        "#Resultados\n",
        "print(confusion_matrix(Y_train, y_train_pred))\n",
        "print(classification_report(Y_train, y_train_pred))\n",
        "\n",
        "tree.plot_tree(clf)"
      ]
    },
    {
      "cell_type": "markdown",
      "metadata": {
        "id": "DgYdpO5_scoX"
      },
      "source": [
        "## 1.1-. Naive Bayes 20% for test and 80%\n"
      ]
    },
    {
      "cell_type": "code",
      "execution_count": 86,
      "metadata": {
        "colab": {
          "base_uri": "https://localhost:8080/"
        },
        "id": "9ImUtmsHsfDe",
        "outputId": "4fec3b3a-8a21-4a17-c6c1-1639500d1958"
      },
      "outputs": [
        {
          "output_type": "stream",
          "name": "stdout",
          "text": [
            "===== TRAINING DATA ======\n",
            "[[41  0  0]\n",
            " [ 0 42  3]\n",
            " [ 0  2 32]]\n",
            "                 precision    recall  f1-score   support\n",
            "\n",
            "    Iris-setosa       1.00      1.00      1.00        41\n",
            "Iris-versicolor       0.95      0.93      0.94        45\n",
            " Iris-virginica       0.91      0.94      0.93        34\n",
            "\n",
            "       accuracy                           0.96       120\n",
            "      macro avg       0.96      0.96      0.96       120\n",
            "   weighted avg       0.96      0.96      0.96       120\n",
            "\n"
          ]
        }
      ],
      "source": [
        "from sklearn.naive_bayes import GaussianNB\n",
        "\n",
        "# Crear modelo basado en un clasificador naive Bayes (Gaussiano)\n",
        "clf = GaussianNB()\n",
        "\n",
        "# Entrenamiento\n",
        "clf = clf.fit(X_train, Y_train)\n",
        "\n",
        "# Prueba\n",
        "y_train_pred = clf.predict(X_train)\n",
        "\n",
        "# Resultados\n",
        "print(\"===== TRAINING DATA ======\")\n",
        "print(confusion_matrix(Y_train, y_train_pred))\n",
        "print(classification_report(Y_train, y_train_pred))\n",
        "  "
      ]
    },
    {
      "cell_type": "markdown",
      "metadata": {
        "id": "0Pl2uJEUwWrM"
      },
      "source": [
        "## 2-. Decision tree 50% for test and 50%"
      ]
    },
    {
      "cell_type": "code",
      "execution_count": 87,
      "metadata": {
        "colab": {
          "base_uri": "https://localhost:8080/",
          "height": 699
        },
        "id": "C2ztenM_wUTX",
        "outputId": "7dabc4b7-d99d-44f4-8d15-52442d1f8b10"
      },
      "outputs": [
        {
          "output_type": "stream",
          "name": "stdout",
          "text": [
            "[[25  0  0]\n",
            " [ 0 24  0]\n",
            " [ 0  0 26]]\n",
            "                 precision    recall  f1-score   support\n",
            "\n",
            "    Iris-setosa       1.00      1.00      1.00        25\n",
            "Iris-versicolor       1.00      1.00      1.00        24\n",
            " Iris-virginica       1.00      1.00      1.00        26\n",
            "\n",
            "       accuracy                           1.00        75\n",
            "      macro avg       1.00      1.00      1.00        75\n",
            "   weighted avg       1.00      1.00      1.00        75\n",
            "\n"
          ]
        },
        {
          "output_type": "execute_result",
          "data": {
            "text/plain": [
              "[Text(0.4, 0.9, 'X[2] <= 2.45\\ngini = 0.666\\nsamples = 75\\nvalue = [25, 24, 26]'),\n",
              " Text(0.3, 0.7, 'gini = 0.0\\nsamples = 25\\nvalue = [25, 0, 0]'),\n",
              " Text(0.5, 0.7, 'X[2] <= 4.95\\ngini = 0.499\\nsamples = 50\\nvalue = [0, 24, 26]'),\n",
              " Text(0.2, 0.5, 'X[3] <= 1.65\\ngini = 0.204\\nsamples = 26\\nvalue = [0, 23, 3]'),\n",
              " Text(0.1, 0.3, 'gini = 0.0\\nsamples = 22\\nvalue = [0, 22, 0]'),\n",
              " Text(0.3, 0.3, 'X[1] <= 3.1\\ngini = 0.375\\nsamples = 4\\nvalue = [0, 1, 3]'),\n",
              " Text(0.2, 0.1, 'gini = 0.0\\nsamples = 3\\nvalue = [0, 0, 3]'),\n",
              " Text(0.4, 0.1, 'gini = 0.0\\nsamples = 1\\nvalue = [0, 1, 0]'),\n",
              " Text(0.8, 0.5, 'X[3] <= 1.75\\ngini = 0.08\\nsamples = 24\\nvalue = [0, 1, 23]'),\n",
              " Text(0.7, 0.3, 'X[3] <= 1.65\\ngini = 0.375\\nsamples = 4\\nvalue = [0, 1, 3]'),\n",
              " Text(0.6, 0.1, 'gini = 0.0\\nsamples = 3\\nvalue = [0, 0, 3]'),\n",
              " Text(0.8, 0.1, 'gini = 0.0\\nsamples = 1\\nvalue = [0, 1, 0]'),\n",
              " Text(0.9, 0.3, 'gini = 0.0\\nsamples = 20\\nvalue = [0, 0, 20]')]"
            ]
          },
          "metadata": {},
          "execution_count": 87
        },
        {
          "output_type": "display_data",
          "data": {
            "text/plain": [
              "<Figure size 432x288 with 1 Axes>"
            ],
            "image/png": "[encoded data removed]"
          },
          "metadata": {
            "needs_background": "light"
          }
        }
      ],
      "source": [
        "from sklearn.metrics import classification_report, confusion_matrix\n",
        "from sklearn.model_selection import train_test_split\n",
        "from sklearn import tree\n",
        "\n",
        "X_train2 = x_train_enc\n",
        "Y_train2 = y_train_enc\n",
        "#divided the data into 50% for test and 50% for train\n",
        "X_train2, X_test, Y_train2, y_test = train_test_split(X, Y, test_size=0.5)\n",
        "\n",
        "#Crear modelo basado en árbol de decisión\n",
        "clf = tree.DecisionTreeClassifier()\n",
        "\n",
        "#Entrenamiento\n",
        "clf = clf.fit(X_train2, Y_train2)\n",
        "\n",
        "#Prueba\n",
        "y_train_pred = clf.predict(X_train2)\n",
        "\n",
        "#Resultados\n",
        "print(confusion_matrix(Y_train2, y_train_pred))\n",
        "print(classification_report(Y_train2, y_train_pred))\n",
        "\n",
        "tree.plot_tree(clf)"
      ]
    },
    {
      "cell_type": "markdown",
      "metadata": {
        "id": "RSDD1NRzwifl"
      },
      "source": [
        "## 2.1-. Naive Bayes 50% for test and 50%\n"
      ]
    },
    {
      "cell_type": "code",
      "execution_count": 88,
      "metadata": {
        "colab": {
          "base_uri": "https://localhost:8080/"
        },
        "id": "fMAYk4ODwi9P",
        "outputId": "bbb3ccd9-463c-4421-cfcd-7198a7e9a7fc"
      },
      "outputs": [
        {
          "output_type": "stream",
          "name": "stdout",
          "text": [
            "===== TRAINING DATA ======\n",
            "[[25  0  0]\n",
            " [ 0 21  3]\n",
            " [ 0  3 23]]\n",
            "                 precision    recall  f1-score   support\n",
            "\n",
            "    Iris-setosa       1.00      1.00      1.00        25\n",
            "Iris-versicolor       0.88      0.88      0.88        24\n",
            " Iris-virginica       0.88      0.88      0.88        26\n",
            "\n",
            "       accuracy                           0.92        75\n",
            "      macro avg       0.92      0.92      0.92        75\n",
            "   weighted avg       0.92      0.92      0.92        75\n",
            "\n"
          ]
        }
      ],
      "source": [
        "from sklearn.naive_bayes import GaussianNB\n",
        "\n",
        "# Crear modelo basado en un clasificador naive Bayes (Gaussiano)\n",
        "clf = GaussianNB()\n",
        "\n",
        "# Entrenamiento\n",
        "clf = clf.fit(X_train2, Y_train2)\n",
        "\n",
        "# Prueba\n",
        "y_train_pred = clf.predict(X_train2)\n",
        "\n",
        "# Resultados\n",
        "print(\"===== TRAINING DATA ======\")\n",
        "print(confusion_matrix(Y_train2, y_train_pred))\n",
        "print(classification_report(Y_train2, y_train_pred))"
      ]
    },
    {
      "cell_type": "markdown",
      "metadata": {
        "id": "6ui3Yn6F0RyD"
      },
      "source": [
        "##Wine dataset\n",
        "Reading the dataset and splitting the data into x and y axis, I'm also printing tha data just to see the content of the dataset"
      ]
    },
    {
      "cell_type": "code",
      "execution_count": 91,
      "metadata": {
        "colab": {
          "base_uri": "https://localhost:8080/"
        },
        "id": "uEr0GwzB0JY9",
        "outputId": "62b889e4-2828-4cb9-a5af-008e8cf91c6d"
      },
      "outputs": [
        {
          "output_type": "stream",
          "name": "stdout",
          "text": [
            "    alcohol  malic acid   ash  alcalinity  magnesium  phenols  flavanoids  \\\n",
            "1     14.23        1.71  2.43        15.6        127     2.80        3.06   \n",
            "1     13.20        1.78  2.14        11.2        100     2.65        2.76   \n",
            "1     13.16        2.36  2.67        18.6        101     2.80        3.24   \n",
            "1     14.37        1.95  2.50        16.8        113     3.85        3.49   \n",
            "1     13.24        2.59  2.87        21.0        118     2.80        2.69   \n",
            "..      ...         ...   ...         ...        ...      ...         ...   \n",
            "3     13.71        5.65  2.45        20.5         95     1.68        0.61   \n",
            "3     13.40        3.91  2.48        23.0        102     1.80        0.75   \n",
            "3     13.27        4.28  2.26        20.0        120     1.59        0.69   \n",
            "3     13.17        2.59  2.37        20.0        120     1.65        0.68   \n",
            "3     14.13        4.10  2.74        24.5         96     2.05        0.76   \n",
            "\n",
            "    nonflavanoid  proanthocyanins  color intensity   hue  diluted wines  \\\n",
            "1           0.28             2.29             5.64  1.04           3.92   \n",
            "1           0.26             1.28             4.38  1.05           3.40   \n",
            "1           0.30             2.81             5.68  1.03           3.17   \n",
            "1           0.24             2.18             7.80  0.86           3.45   \n",
            "1           0.39             1.82             4.32  1.04           2.93   \n",
            "..           ...              ...              ...   ...            ...   \n",
            "3           0.52             1.06             7.70  0.64           1.74   \n",
            "3           0.43             1.41             7.30  0.70           1.56   \n",
            "3           0.43             1.35            10.20  0.59           1.56   \n",
            "3           0.53             1.46             9.30  0.60           1.62   \n",
            "3           0.56             1.35             9.20  0.61           1.60   \n",
            "\n",
            "    proline  \n",
            "1      1065  \n",
            "1      1050  \n",
            "1      1185  \n",
            "1      1480  \n",
            "1       735  \n",
            "..      ...  \n",
            "3       740  \n",
            "3       750  \n",
            "3       835  \n",
            "3       840  \n",
            "3       560  \n",
            "\n",
            "[178 rows x 13 columns]\n"
          ]
        }
      ],
      "source": [
        "import pandas as pd\n",
        "from sklearn.preprocessing import OrdinalEncoder\n",
        "df_data_2 = pd.read_csv(\"/content/gdrive/My Drive/Colab Notebooks/MachineLearning/datasetClassification/wine.data\")\n",
        "df_data_2.head()\n",
        "\n",
        "print(df_data_2)\n",
        "X_wine = df_data_2[[\"alcohol\",\"malic acid\",\"ash\",\"alcalinity\",\"magnesium\",\"phenols\",\"flavanoids\",\"nonflavanoid\",\"proanthocyanins\",\"color intensity\",\"hue\",\"diluted wines\"]].to_numpy()\n",
        "Y_wine = df_data_2[\"proline\"].to_numpy()\n",
        "\n",
        "#Convert the x class into numbers\n",
        "enc = OrdinalEncoder()\n",
        "enc.fit(X_wine)\n",
        "x_train_enc = enc.transform(X_wine)\n",
        "from sklearn import preprocessing\n",
        "\n",
        "#Convert the y class into numbers\n",
        "le = preprocessing.LabelEncoder()\n",
        "le.fit(Y_wine)\n",
        "y_train_enc = le.transform(Y_wine)\n"
      ]
    },
    {
      "cell_type": "markdown",
      "source": [
        "## 3-. Decision tree 20% for test and 80%\n",
        "using functios of scikitlearn we are developing the decision tree based on the iris dataset. \\\\\n",
        "Compare the performance (confusion matrix and classification error/accuracy) of different methods for the classification task"
      ],
      "metadata": {
        "id": "FeKl4g5z4Qys"
      }
    },
    {
      "cell_type": "code",
      "source": [
        "from sklearn.metrics import classification_report, confusion_matrix\n",
        "from sklearn.model_selection import train_test_split\n",
        "from sklearn import tree\n",
        "\n",
        "X_train_wine = x_train_enc\n",
        "Y_train_wine = y_train_enc\n",
        "#divided the data into 20% for test and 80% for train\n",
        "X_train_wine, X_test, Y_train_wine, y_test = train_test_split(X_wine, Y_wine, test_size=0.2)\n",
        "\n",
        "#Crear modelo basado en árbol de decisión\n",
        "clf = tree.DecisionTreeClassifier()\n",
        "\n",
        "#Entrenamiento\n",
        "clf = clf.fit(X_train_wine, Y_train_wine)\n",
        "\n",
        "#Prueba\n",
        "y_train_pred = clf.predict(X_train_wine)\n",
        "\n",
        "#Resultados\n",
        "print(confusion_matrix(Y_train_wine, y_train_pred))\n",
        "print(classification_report(Y_train_wine, y_train_pred))\n",
        "\n",
        "tree.plot_tree(clf)"
      ],
      "metadata": {
        "colab": {
          "base_uri": "https://localhost:8080/",
          "height": 1000
        },
        "id": "Ys1wuITo4ctk",
        "outputId": "510cfc4d-bae5-4c5e-d639-322528a967f9"
      },
      "execution_count": 92,
      "outputs": [
        {
          "output_type": "stream",
          "name": "stdout",
          "text": [
            "[[1 0 0 ... 0 0 0]\n",
            " [0 1 0 ... 0 0 0]\n",
            " [0 0 1 ... 0 0 0]\n",
            " ...\n",
            " [0 0 0 ... 1 0 0]\n",
            " [0 0 0 ... 0 1 0]\n",
            " [0 0 0 ... 0 0 1]]\n",
            "              precision    recall  f1-score   support\n",
            "\n",
            "         278       1.00      1.00      1.00         1\n",
            "         290       1.00      1.00      1.00         1\n",
            "         312       1.00      1.00      1.00         1\n",
            "         315       1.00      1.00      1.00         1\n",
            "         325       1.00      1.00      1.00         1\n",
            "         342       1.00      1.00      1.00         1\n",
            "         345       1.00      1.00      1.00         1\n",
            "         352       1.00      1.00      1.00         1\n",
            "         355       1.00      1.00      1.00         1\n",
            "         365       1.00      1.00      1.00         1\n",
            "         372       1.00      1.00      1.00         1\n",
            "         378       1.00      1.00      1.00         1\n",
            "         380       1.00      1.00      1.00         1\n",
            "         385       1.00      1.00      1.00         1\n",
            "         392       1.00      1.00      1.00         1\n",
            "         406       1.00      1.00      1.00         1\n",
            "         407       1.00      1.00      1.00         1\n",
            "         410       1.00      1.00      1.00         1\n",
            "         415       1.00      1.00      1.00         2\n",
            "         428       1.00      1.00      1.00         1\n",
            "         434       1.00      1.00      1.00         1\n",
            "         438       1.00      1.00      1.00         1\n",
            "         450       1.00      1.00      1.00         3\n",
            "         465       1.00      1.00      1.00         1\n",
            "         466       1.00      1.00      1.00         1\n",
            "         470       1.00      1.00      1.00         1\n",
            "         472       1.00      1.00      1.00         1\n",
            "         480       1.00      1.00      1.00         3\n",
            "         488       1.00      1.00      1.00         1\n",
            "         500       1.00      1.00      1.00         1\n",
            "         502       1.00      1.00      1.00         1\n",
            "         510       1.00      1.00      1.00         2\n",
            "         515       1.00      1.00      1.00         2\n",
            "         520       1.00      1.00      1.00         1\n",
            "         530       1.00      1.00      1.00         1\n",
            "         550       1.00      1.00      1.00         2\n",
            "         560       1.00      1.00      1.00         1\n",
            "         562       1.00      1.00      1.00         3\n",
            "         564       1.00      1.00      1.00         1\n",
            "         580       1.00      1.00      1.00         2\n",
            "         590       1.00      1.00      1.00         1\n",
            "         600       1.00      1.00      1.00         2\n",
            "         607       1.00      1.00      1.00         1\n",
            "         615       1.00      1.00      1.00         1\n",
            "         620       1.00      1.00      1.00         1\n",
            "         625       1.00      1.00      1.00         4\n",
            "         630       1.00      1.00      1.00         4\n",
            "         640       1.00      1.00      1.00         1\n",
            "         650       1.00      1.00      1.00         2\n",
            "         660       1.00      1.00      1.00         2\n",
            "         672       1.00      1.00      1.00         1\n",
            "         675       1.00      1.00      1.00         2\n",
            "         678       1.00      1.00      1.00         1\n",
            "         680       1.00      1.00      1.00         4\n",
            "         685       1.00      1.00      1.00         1\n",
            "         695       1.00      1.00      1.00         1\n",
            "         710       1.00      1.00      1.00         1\n",
            "         714       1.00      1.00      1.00         1\n",
            "         720       1.00      1.00      1.00         1\n",
            "         725       1.00      1.00      1.00         1\n",
            "         735       1.00      1.00      1.00         1\n",
            "         740       1.00      1.00      1.00         1\n",
            "         750       1.00      1.00      1.00         4\n",
            "         770       1.00      1.00      1.00         1\n",
            "         780       1.00      1.00      1.00         1\n",
            "         795       1.00      1.00      1.00         1\n",
            "         830       1.00      1.00      1.00         2\n",
            "         835       1.00      1.00      1.00         1\n",
            "         840       1.00      1.00      1.00         1\n",
            "         845       1.00      1.00      1.00         2\n",
            "         855       1.00      1.00      1.00         1\n",
            "         870       1.00      1.00      1.00         1\n",
            "         880       1.00      1.00      1.00         1\n",
            "         886       1.00      1.00      1.00         1\n",
            "         915       1.00      1.00      1.00         1\n",
            "         920       1.00      1.00      1.00         1\n",
            "         937       1.00      1.00      1.00         1\n",
            "         970       1.00      1.00      1.00         1\n",
            "         985       1.00      1.00      1.00         2\n",
            "         990       1.00      1.00      1.00         1\n",
            "        1015       1.00      1.00      1.00         1\n",
            "        1020       1.00      1.00      1.00         1\n",
            "        1035       1.00      1.00      1.00         3\n",
            "        1045       1.00      1.00      1.00         1\n",
            "        1050       1.00      1.00      1.00         1\n",
            "        1060       1.00      1.00      1.00         1\n",
            "        1065       1.00      1.00      1.00         1\n",
            "        1080       1.00      1.00      1.00         1\n",
            "        1095       1.00      1.00      1.00         2\n",
            "        1105       1.00      1.00      1.00         1\n",
            "        1120       1.00      1.00      1.00         1\n",
            "        1130       1.00      1.00      1.00         1\n",
            "        1150       1.00      1.00      1.00         1\n",
            "        1185       1.00      1.00      1.00         1\n",
            "        1195       1.00      1.00      1.00         1\n",
            "        1235       1.00      1.00      1.00         1\n",
            "        1265       1.00      1.00      1.00         1\n",
            "        1270       1.00      1.00      1.00         1\n",
            "        1280       1.00      1.00      1.00         2\n",
            "        1285       1.00      1.00      1.00         3\n",
            "        1290       1.00      1.00      1.00         1\n",
            "        1295       1.00      1.00      1.00         1\n",
            "        1310       1.00      1.00      1.00         1\n",
            "        1480       1.00      1.00      1.00         1\n",
            "        1510       1.00      1.00      1.00         1\n",
            "        1515       1.00      1.00      1.00         1\n",
            "\n",
            "    accuracy                           1.00       142\n",
            "   macro avg       1.00      1.00      1.00       142\n",
            "weighted avg       1.00      1.00      1.00       142\n",
            "\n"
          ]
        },
        {
          "output_type": "execute_result",
          "data": {
            "text/plain": [
              "[Text(0.4634850543478261, 0.9833333333333333, 'X[6] <= 1.97\\ngini = 0.988\\nsamples = 142\\nvalue = [1, 1, 1, 1, 1, 1, 1, 1, 1, 1, 1, 1, 1, 1\\n1, 1, 1, 1, 2, 1, 1, 1, 3, 1, 1, 1, 1, 3\\n1, 1, 1, 2, 2, 1, 1, 2, 1, 3, 1, 2, 1, 2\\n1, 1, 1, 4, 4, 1, 2, 2, 1, 2, 1, 4, 1, 1\\n1, 1, 1, 1, 1, 1, 4, 1, 1, 1, 2, 1, 1, 2\\n1, 1, 1, 1, 1, 1, 1, 1, 2, 1, 1, 1, 3, 1\\n1, 1, 1, 1, 2, 1, 1, 1, 1, 1, 1, 1, 1, 1\\n2, 3, 1, 1, 1, 1, 1, 1]'),\n",
              " Text(0.2061820652173913, 0.95, 'X[1] <= 1.56\\ngini = 0.97\\nsamples = 65\\nvalue = [0, 0, 0, 1, 0, 0, 0, 0, 1, 0, 1, 0, 0, 0\\n0, 0, 0, 0, 2, 1, 0, 0, 3, 0, 0, 1, 1, 3\\n1, 1, 0, 0, 2, 1, 1, 2, 1, 2, 1, 2, 1, 2\\n0, 1, 1, 3, 4, 1, 2, 1, 1, 2, 0, 2, 1, 1\\n0, 0, 1, 1, 0, 1, 4, 0, 1, 0, 1, 1, 1, 0\\n1, 1, 1, 0, 0, 0, 0, 0, 0, 0, 0, 0, 0, 0\\n0, 0, 0, 0, 0, 0, 0, 0, 0, 0, 0, 0, 0, 0\\n0, 0, 0, 0, 0, 0, 0, 0]'),\n",
              " Text(0.08695652173913043, 0.9166666666666666, 'X[4] <= 107.0\\ngini = 0.871\\nsamples = 15\\nvalue = [0, 0, 0, 0, 0, 0, 0, 0, 1, 0, 0, 0, 0, 0\\n0, 0, 0, 0, 0, 0, 0, 0, 3, 0, 0, 0, 0, 0\\n0, 0, 0, 0, 0, 1, 0, 0, 0, 1, 0, 0, 0, 0\\n0, 0, 0, 1, 3, 1, 1, 0, 0, 0, 0, 1, 0, 0\\n0, 0, 0, 0, 0, 0, 2, 0, 0, 0, 0, 0, 0, 0\\n0, 0, 0, 0, 0, 0, 0, 0, 0, 0, 0, 0, 0, 0\\n0, 0, 0, 0, 0, 0, 0, 0, 0, 0, 0, 0, 0, 0\\n0, 0, 0, 0, 0, 0, 0, 0]'),\n",
              " Text(0.06521739130434782, 0.8833333333333333, 'X[8] <= 1.43\\ngini = 0.861\\nsamples = 12\\nvalue = [0, 0, 0, 0, 0, 0, 0, 0, 1, 0, 0, 0, 0, 0\\n0, 0, 0, 0, 0, 0, 0, 0, 3, 0, 0, 0, 0, 0\\n0, 0, 0, 0, 0, 1, 0, 0, 0, 1, 0, 0, 0, 0\\n0, 0, 0, 1, 2, 1, 1, 0, 0, 0, 0, 1, 0, 0\\n0, 0, 0, 0, 0, 0, 0, 0, 0, 0, 0, 0, 0, 0\\n0, 0, 0, 0, 0, 0, 0, 0, 0, 0, 0, 0, 0, 0\\n0, 0, 0, 0, 0, 0, 0, 0, 0, 0, 0, 0, 0, 0\\n0, 0, 0, 0, 0, 0, 0, 0]'),\n",
              " Text(0.05434782608695652, 0.85, 'X[10] <= 1.15\\ngini = 0.88\\nsamples = 10\\nvalue = [0, 0, 0, 0, 0, 0, 0, 0, 1, 0, 0, 0, 0, 0\\n0, 0, 0, 0, 0, 0, 0, 0, 1, 0, 0, 0, 0, 0\\n0, 0, 0, 0, 0, 1, 0, 0, 0, 1, 0, 0, 0, 0\\n0, 0, 0, 1, 2, 1, 1, 0, 0, 0, 0, 1, 0, 0\\n0, 0, 0, 0, 0, 0, 0, 0, 0, 0, 0, 0, 0, 0\\n0, 0, 0, 0, 0, 0, 0, 0, 0, 0, 0, 0, 0, 0\\n0, 0, 0, 0, 0, 0, 0, 0, 0, 0, 0, 0, 0, 0\\n0, 0, 0, 0, 0, 0, 0, 0]'),\n",
              " Text(0.021739130434782608, 0.8166666666666667, 'X[9] <= 1.845\\ngini = 0.833\\nsamples = 6\\nvalue = [0, 0, 0, 0, 0, 0, 0, 0, 0, 0, 0, 0, 0, 0\\n0, 0, 0, 0, 0, 0, 0, 0, 1, 0, 0, 0, 0, 0\\n0, 0, 0, 0, 0, 1, 0, 0, 0, 1, 0, 0, 0, 0\\n0, 0, 0, 1, 0, 1, 1, 0, 0, 0, 0, 0, 0, 0\\n0, 0, 0, 0, 0, 0, 0, 0, 0, 0, 0, 0, 0, 0\\n0, 0, 0, 0, 0, 0, 0, 0, 0, 0, 0, 0, 0, 0\\n0, 0, 0, 0, 0, 0, 0, 0, 0, 0, 0, 0, 0, 0\\n0, 0, 0, 0, 0, 0, 0, 0]'),\n",
              " Text(0.010869565217391304, 0.7833333333333333, 'gini = 0.0\\nsamples = 1\\nvalue = [0, 0, 0, 0, 0, 0, 0, 0, 0, 0, 0, 0, 0, 0\\n0, 0, 0, 0, 0, 0, 0, 0, 0, 0, 0, 0, 0, 0\\n0, 0, 0, 0, 0, 0, 0, 0, 0, 0, 0, 0, 0, 0\\n0, 0, 0, 1, 0, 0, 0, 0, 0, 0, 0, 0, 0, 0\\n0, 0, 0, 0, 0, 0, 0, 0, 0, 0, 0, 0, 0, 0\\n0, 0, 0, 0, 0, 0, 0, 0, 0, 0, 0, 0, 0, 0\\n0, 0, 0, 0, 0, 0, 0, 0, 0, 0, 0, 0, 0, 0\\n0, 0, 0, 0, 0, 0, 0, 0]'),\n",
              " Text(0.03260869565217391, 0.7833333333333333, 'X[6] <= 0.575\\ngini = 0.8\\nsamples = 5\\nvalue = [0, 0, 0, 0, 0, 0, 0, 0, 0, 0, 0, 0, 0, 0\\n0, 0, 0, 0, 0, 0, 0, 0, 1, 0, 0, 0, 0, 0\\n0, 0, 0, 0, 0, 1, 0, 0, 0, 1, 0, 0, 0, 0\\n0, 0, 0, 0, 0, 1, 1, 0, 0, 0, 0, 0, 0, 0\\n0, 0, 0, 0, 0, 0, 0, 0, 0, 0, 0, 0, 0, 0\\n0, 0, 0, 0, 0, 0, 0, 0, 0, 0, 0, 0, 0, 0\\n0, 0, 0, 0, 0, 0, 0, 0, 0, 0, 0, 0, 0, 0\\n0, 0, 0, 0, 0, 0, 0, 0]'),\n",
              " Text(0.021739130434782608, 0.75, 'gini = 0.0\\nsamples = 1\\nvalue = [0, 0, 0, 0, 0, 0, 0, 0, 0, 0, 0, 0, 0, 0\\n0, 0, 0, 0, 0, 0, 0, 0, 0, 0, 0, 0, 0, 0\\n0, 0, 0, 0, 0, 1, 0, 0, 0, 0, 0, 0, 0, 0\\n0, 0, 0, 0, 0, 0, 0, 0, 0, 0, 0, 0, 0, 0\\n0, 0, 0, 0, 0, 0, 0, 0, 0, 0, 0, 0, 0, 0\\n0, 0, 0, 0, 0, 0, 0, 0, 0, 0, 0, 0, 0, 0\\n0, 0, 0, 0, 0, 0, 0, 0, 0, 0, 0, 0, 0, 0\\n0, 0, 0, 0, 0, 0, 0, 0]'),\n",
              " Text(0.043478260869565216, 0.75, 'X[7] <= 0.41\\ngini = 0.75\\nsamples = 4\\nvalue = [0, 0, 0, 0, 0, 0, 0, 0, 0, 0, 0, 0, 0, 0\\n0, 0, 0, 0, 0, 0, 0, 0, 1, 0, 0, 0, 0, 0\\n0, 0, 0, 0, 0, 0, 0, 0, 0, 1, 0, 0, 0, 0\\n0, 0, 0, 0, 0, 1, 1, 0, 0, 0, 0, 0, 0, 0\\n0, 0, 0, 0, 0, 0, 0, 0, 0, 0, 0, 0, 0, 0\\n0, 0, 0, 0, 0, 0, 0, 0, 0, 0, 0, 0, 0, 0\\n0, 0, 0, 0, 0, 0, 0, 0, 0, 0, 0, 0, 0, 0\\n0, 0, 0, 0, 0, 0, 0, 0]'),\n",
              " Text(0.03260869565217391, 0.7166666666666667, 'gini = 0.0\\nsamples = 1\\nvalue = [0, 0, 0, 0, 0, 0, 0, 0, 0, 0, 0, 0, 0, 0\\n0, 0, 0, 0, 0, 0, 0, 0, 0, 0, 0, 0, 0, 0\\n0, 0, 0, 0, 0, 0, 0, 0, 0, 1, 0, 0, 0, 0\\n0, 0, 0, 0, 0, 0, 0, 0, 0, 0, 0, 0, 0, 0\\n0, 0, 0, 0, 0, 0, 0, 0, 0, 0, 0, 0, 0, 0\\n0, 0, 0, 0, 0, 0, 0, 0, 0, 0, 0, 0, 0, 0\\n0, 0, 0, 0, 0, 0, 0, 0, 0, 0, 0, 0, 0, 0\\n0, 0, 0, 0, 0, 0, 0, 0]'),\n",
              " Text(0.05434782608695652, 0.7166666666666667, 'X[0] <= 12.545\\ngini = 0.667\\nsamples = 3\\nvalue = [0, 0, 0, 0, 0, 0, 0, 0, 0, 0, 0, 0, 0, 0\\n0, 0, 0, 0, 0, 0, 0, 0, 1, 0, 0, 0, 0, 0\\n0, 0, 0, 0, 0, 0, 0, 0, 0, 0, 0, 0, 0, 0\\n0, 0, 0, 0, 0, 1, 1, 0, 0, 0, 0, 0, 0, 0\\n0, 0, 0, 0, 0, 0, 0, 0, 0, 0, 0, 0, 0, 0\\n0, 0, 0, 0, 0, 0, 0, 0, 0, 0, 0, 0, 0, 0\\n0, 0, 0, 0, 0, 0, 0, 0, 0, 0, 0, 0, 0, 0\\n0, 0, 0, 0, 0, 0, 0, 0]'),\n",
              " Text(0.043478260869565216, 0.6833333333333333, 'gini = 0.0\\nsamples = 1\\nvalue = [0, 0, 0, 0, 0, 0, 0, 0, 0, 0, 0, 0, 0, 0\\n0, 0, 0, 0, 0, 0, 0, 0, 0, 0, 0, 0, 0, 0\\n0, 0, 0, 0, 0, 0, 0, 0, 0, 0, 0, 0, 0, 0\\n0, 0, 0, 0, 0, 0, 1, 0, 0, 0, 0, 0, 0, 0\\n0, 0, 0, 0, 0, 0, 0, 0, 0, 0, 0, 0, 0, 0\\n0, 0, 0, 0, 0, 0, 0, 0, 0, 0, 0, 0, 0, 0\\n0, 0, 0, 0, 0, 0, 0, 0, 0, 0, 0, 0, 0, 0\\n0, 0, 0, 0, 0, 0, 0, 0]'),\n",
              " Text(0.06521739130434782, 0.6833333333333333, 'X[3] <= 18.4\\ngini = 0.5\\nsamples = 2\\nvalue = [0, 0, 0, 0, 0, 0, 0, 0, 0, 0, 0, 0, 0, 0\\n0, 0, 0, 0, 0, 0, 0, 0, 1, 0, 0, 0, 0, 0\\n0, 0, 0, 0, 0, 0, 0, 0, 0, 0, 0, 0, 0, 0\\n0, 0, 0, 0, 0, 1, 0, 0, 0, 0, 0, 0, 0, 0\\n0, 0, 0, 0, 0, 0, 0, 0, 0, 0, 0, 0, 0, 0\\n0, 0, 0, 0, 0, 0, 0, 0, 0, 0, 0, 0, 0, 0\\n0, 0, 0, 0, 0, 0, 0, 0, 0, 0, 0, 0, 0, 0\\n0, 0, 0, 0, 0, 0, 0, 0]'),\n",
              " Text(0.05434782608695652, 0.65, 'gini = 0.0\\nsamples = 1\\nvalue = [0, 0, 0, 0, 0, 0, 0, 0, 0, 0, 0, 0, 0, 0\\n0, 0, 0, 0, 0, 0, 0, 0, 1, 0, 0, 0, 0, 0\\n0, 0, 0, 0, 0, 0, 0, 0, 0, 0, 0, 0, 0, 0\\n0, 0, 0, 0, 0, 0, 0, 0, 0, 0, 0, 0, 0, 0\\n0, 0, 0, 0, 0, 0, 0, 0, 0, 0, 0, 0, 0, 0\\n0, 0, 0, 0, 0, 0, 0, 0, 0, 0, 0, 0, 0, 0\\n0, 0, 0, 0, 0, 0, 0, 0, 0, 0, 0, 0, 0, 0\\n0, 0, 0, 0, 0, 0, 0, 0]'),\n",
              " Text(0.07608695652173914, 0.65, 'gini = 0.0\\nsamples = 1\\nvalue = [0, 0, 0, 0, 0, 0, 0, 0, 0, 0, 0, 0, 0, 0\\n0, 0, 0, 0, 0, 0, 0, 0, 0, 0, 0, 0, 0, 0\\n0, 0, 0, 0, 0, 0, 0, 0, 0, 0, 0, 0, 0, 0\\n0, 0, 0, 0, 0, 1, 0, 0, 0, 0, 0, 0, 0, 0\\n0, 0, 0, 0, 0, 0, 0, 0, 0, 0, 0, 0, 0, 0\\n0, 0, 0, 0, 0, 0, 0, 0, 0, 0, 0, 0, 0, 0\\n0, 0, 0, 0, 0, 0, 0, 0, 0, 0, 0, 0, 0, 0\\n0, 0, 0, 0, 0, 0, 0, 0]'),\n",
              " Text(0.08695652173913043, 0.8166666666666667, 'X[11] <= 2.345\\ngini = 0.625\\nsamples = 4\\nvalue = [0, 0, 0, 0, 0, 0, 0, 0, 1, 0, 0, 0, 0, 0\\n0, 0, 0, 0, 0, 0, 0, 0, 0, 0, 0, 0, 0, 0\\n0, 0, 0, 0, 0, 0, 0, 0, 0, 0, 0, 0, 0, 0\\n0, 0, 0, 0, 2, 0, 0, 0, 0, 0, 0, 1, 0, 0\\n0, 0, 0, 0, 0, 0, 0, 0, 0, 0, 0, 0, 0, 0\\n0, 0, 0, 0, 0, 0, 0, 0, 0, 0, 0, 0, 0, 0\\n0, 0, 0, 0, 0, 0, 0, 0, 0, 0, 0, 0, 0, 0\\n0, 0, 0, 0, 0, 0, 0, 0]'),\n",
              " Text(0.07608695652173914, 0.7833333333333333, 'X[0] <= 12.25\\ngini = 0.5\\nsamples = 2\\nvalue = [0, 0, 0, 0, 0, 0, 0, 0, 1, 0, 0, 0, 0, 0\\n0, 0, 0, 0, 0, 0, 0, 0, 0, 0, 0, 0, 0, 0\\n0, 0, 0, 0, 0, 0, 0, 0, 0, 0, 0, 0, 0, 0\\n0, 0, 0, 0, 0, 0, 0, 0, 0, 0, 0, 1, 0, 0\\n0, 0, 0, 0, 0, 0, 0, 0, 0, 0, 0, 0, 0, 0\\n0, 0, 0, 0, 0, 0, 0, 0, 0, 0, 0, 0, 0, 0\\n0, 0, 0, 0, 0, 0, 0, 0, 0, 0, 0, 0, 0, 0\\n0, 0, 0, 0, 0, 0, 0, 0]'),\n",
              " Text(0.06521739130434782, 0.75, 'gini = 0.0\\nsamples = 1\\nvalue = [0, 0, 0, 0, 0, 0, 0, 0, 1, 0, 0, 0, 0, 0\\n0, 0, 0, 0, 0, 0, 0, 0, 0, 0, 0, 0, 0, 0\\n0, 0, 0, 0, 0, 0, 0, 0, 0, 0, 0, 0, 0, 0\\n0, 0, 0, 0, 0, 0, 0, 0, 0, 0, 0, 0, 0, 0\\n0, 0, 0, 0, 0, 0, 0, 0, 0, 0, 0, 0, 0, 0\\n0, 0, 0, 0, 0, 0, 0, 0, 0, 0, 0, 0, 0, 0\\n0, 0, 0, 0, 0, 0, 0, 0, 0, 0, 0, 0, 0, 0\\n0, 0, 0, 0, 0, 0, 0, 0]'),\n",
              " Text(0.08695652173913043, 0.75, 'gini = 0.0\\nsamples = 1\\nvalue = [0, 0, 0, 0, 0, 0, 0, 0, 0, 0, 0, 0, 0, 0\\n0, 0, 0, 0, 0, 0, 0, 0, 0, 0, 0, 0, 0, 0\\n0, 0, 0, 0, 0, 0, 0, 0, 0, 0, 0, 0, 0, 0\\n0, 0, 0, 0, 0, 0, 0, 0, 0, 0, 0, 1, 0, 0\\n0, 0, 0, 0, 0, 0, 0, 0, 0, 0, 0, 0, 0, 0\\n0, 0, 0, 0, 0, 0, 0, 0, 0, 0, 0, 0, 0, 0\\n0, 0, 0, 0, 0, 0, 0, 0, 0, 0, 0, 0, 0, 0\\n0, 0, 0, 0, 0, 0, 0, 0]'),\n",
              " Text(0.09782608695652174, 0.7833333333333333, 'gini = 0.0\\nsamples = 2\\nvalue = [0, 0, 0, 0, 0, 0, 0, 0, 0, 0, 0, 0, 0, 0\\n0, 0, 0, 0, 0, 0, 0, 0, 0, 0, 0, 0, 0, 0\\n0, 0, 0, 0, 0, 0, 0, 0, 0, 0, 0, 0, 0, 0\\n0, 0, 0, 0, 2, 0, 0, 0, 0, 0, 0, 0, 0, 0\\n0, 0, 0, 0, 0, 0, 0, 0, 0, 0, 0, 0, 0, 0\\n0, 0, 0, 0, 0, 0, 0, 0, 0, 0, 0, 0, 0, 0\\n0, 0, 0, 0, 0, 0, 0, 0, 0, 0, 0, 0, 0, 0\\n0, 0, 0, 0, 0, 0, 0, 0]'),\n",
              " Text(0.07608695652173914, 0.85, 'gini = 0.0\\nsamples = 2\\nvalue = [0, 0, 0, 0, 0, 0, 0, 0, 0, 0, 0, 0, 0, 0\\n0, 0, 0, 0, 0, 0, 0, 0, 2, 0, 0, 0, 0, 0\\n0, 0, 0, 0, 0, 0, 0, 0, 0, 0, 0, 0, 0, 0\\n0, 0, 0, 0, 0, 0, 0, 0, 0, 0, 0, 0, 0, 0\\n0, 0, 0, 0, 0, 0, 0, 0, 0, 0, 0, 0, 0, 0\\n0, 0, 0, 0, 0, 0, 0, 0, 0, 0, 0, 0, 0, 0\\n0, 0, 0, 0, 0, 0, 0, 0, 0, 0, 0, 0, 0, 0\\n0, 0, 0, 0, 0, 0, 0, 0]'),\n",
              " Text(0.10869565217391304, 0.8833333333333333, 'X[10] <= 0.89\\ngini = 0.444\\nsamples = 3\\nvalue = [0, 0, 0, 0, 0, 0, 0, 0, 0, 0, 0, 0, 0, 0\\n0, 0, 0, 0, 0, 0, 0, 0, 0, 0, 0, 0, 0, 0\\n0, 0, 0, 0, 0, 0, 0, 0, 0, 0, 0, 0, 0, 0\\n0, 0, 0, 0, 1, 0, 0, 0, 0, 0, 0, 0, 0, 0\\n0, 0, 0, 0, 0, 0, 2, 0, 0, 0, 0, 0, 0, 0\\n0, 0, 0, 0, 0, 0, 0, 0, 0, 0, 0, 0, 0, 0\\n0, 0, 0, 0, 0, 0, 0, 0, 0, 0, 0, 0, 0, 0\\n0, 0, 0, 0, 0, 0, 0, 0]'),\n",
              " Text(0.09782608695652174, 0.85, 'gini = 0.0\\nsamples = 1\\nvalue = [0, 0, 0, 0, 0, 0, 0, 0, 0, 0, 0, 0, 0, 0\\n0, 0, 0, 0, 0, 0, 0, 0, 0, 0, 0, 0, 0, 0\\n0, 0, 0, 0, 0, 0, 0, 0, 0, 0, 0, 0, 0, 0\\n0, 0, 0, 0, 1, 0, 0, 0, 0, 0, 0, 0, 0, 0\\n0, 0, 0, 0, 0, 0, 0, 0, 0, 0, 0, 0, 0, 0\\n0, 0, 0, 0, 0, 0, 0, 0, 0, 0, 0, 0, 0, 0\\n0, 0, 0, 0, 0, 0, 0, 0, 0, 0, 0, 0, 0, 0\\n0, 0, 0, 0, 0, 0, 0, 0]'),\n",
              " Text(0.11956521739130435, 0.85, 'gini = 0.0\\nsamples = 2\\nvalue = [0, 0, 0, 0, 0, 0, 0, 0, 0, 0, 0, 0, 0, 0\\n0, 0, 0, 0, 0, 0, 0, 0, 0, 0, 0, 0, 0, 0\\n0, 0, 0, 0, 0, 0, 0, 0, 0, 0, 0, 0, 0, 0\\n0, 0, 0, 0, 0, 0, 0, 0, 0, 0, 0, 0, 0, 0\\n0, 0, 0, 0, 0, 0, 2, 0, 0, 0, 0, 0, 0, 0\\n0, 0, 0, 0, 0, 0, 0, 0, 0, 0, 0, 0, 0, 0\\n0, 0, 0, 0, 0, 0, 0, 0, 0, 0, 0, 0, 0, 0\\n0, 0, 0, 0, 0, 0, 0, 0]'),\n",
              " Text(0.32540760869565216, 0.9166666666666666, 'X[3] <= 22.25\\ngini = 0.971\\nsamples = 50\\nvalue = [0, 0, 0, 1, 0, 0, 0, 0, 0, 0, 1, 0, 0, 0\\n0, 0, 0, 0, 2, 1, 0, 0, 0, 0, 0, 1, 1, 3\\n1, 1, 0, 0, 2, 0, 1, 2, 1, 1, 1, 2, 1, 2\\n0, 1, 1, 2, 1, 0, 1, 1, 1, 2, 0, 1, 1, 1\\n0, 0, 1, 1, 0, 1, 2, 0, 1, 0, 1, 1, 1, 0\\n1, 1, 1, 0, 0, 0, 0, 0, 0, 0, 0, 0, 0, 0\\n0, 0, 0, 0, 0, 0, 0, 0, 0, 0, 0, 0, 0, 0\\n0, 0, 0, 0, 0, 0, 0, 0]'),\n",
              " Text(0.2105978260869565, 0.8833333333333333, 'X[2] <= 2.275\\ngini = 0.958\\nsamples = 36\\nvalue = [0, 0, 0, 1, 0, 0, 0, 0, 0, 0, 1, 0, 0, 0\\n0, 0, 0, 0, 2, 1, 0, 0, 0, 0, 0, 1, 0, 3\\n0, 0, 0, 0, 0, 0, 1, 2, 0, 0, 1, 2, 0, 2\\n0, 1, 0, 2, 0, 0, 1, 0, 1, 2, 0, 1, 1, 1\\n0, 0, 1, 1, 0, 1, 0, 0, 1, 0, 1, 1, 1, 0\\n1, 1, 0, 0, 0, 0, 0, 0, 0, 0, 0, 0, 0, 0\\n0, 0, 0, 0, 0, 0, 0, 0, 0, 0, 0, 0, 0, 0\\n0, 0, 0, 0, 0, 0, 0, 0]'),\n",
              " Text(0.15217391304347827, 0.85, 'X[4] <= 86.5\\ngini = 0.911\\nsamples = 13\\nvalue = [0, 0, 0, 1, 0, 0, 0, 0, 0, 0, 1, 0, 0, 0\\n0, 0, 0, 0, 2, 1, 0, 0, 0, 0, 0, 0, 0, 0\\n0, 0, 0, 0, 0, 0, 0, 0, 0, 0, 1, 1, 0, 0\\n0, 0, 0, 0, 0, 0, 0, 0, 1, 0, 0, 0, 0, 1\\n0, 0, 0, 0, 0, 0, 0, 0, 0, 0, 1, 1, 0, 0\\n1, 1, 0, 0, 0, 0, 0, 0, 0, 0, 0, 0, 0, 0\\n0, 0, 0, 0, 0, 0, 0, 0, 0, 0, 0, 0, 0, 0\\n0, 0, 0, 0, 0, 0, 0, 0]'),\n",
              " Text(0.13043478260869565, 0.8166666666666667, 'X[8] <= 1.45\\ngini = 0.625\\nsamples = 4\\nvalue = [0, 0, 0, 0, 0, 0, 0, 0, 0, 0, 1, 0, 0, 0\\n0, 0, 0, 0, 2, 0, 0, 0, 0, 0, 0, 0, 0, 0\\n0, 0, 0, 0, 0, 0, 0, 0, 0, 0, 0, 0, 0, 0\\n0, 0, 0, 0, 0, 0, 0, 0, 1, 0, 0, 0, 0, 0\\n0, 0, 0, 0, 0, 0, 0, 0, 0, 0, 0, 0, 0, 0\\n0, 0, 0, 0, 0, 0, 0, 0, 0, 0, 0, 0, 0, 0\\n0, 0, 0, 0, 0, 0, 0, 0, 0, 0, 0, 0, 0, 0\\n0, 0, 0, 0, 0, 0, 0, 0]'),\n",
              " Text(0.11956521739130435, 0.7833333333333333, 'X[7] <= 0.415\\ngini = 0.444\\nsamples = 3\\nvalue = [0, 0, 0, 0, 0, 0, 0, 0, 0, 0, 1, 0, 0, 0\\n0, 0, 0, 0, 2, 0, 0, 0, 0, 0, 0, 0, 0, 0\\n0, 0, 0, 0, 0, 0, 0, 0, 0, 0, 0, 0, 0, 0\\n0, 0, 0, 0, 0, 0, 0, 0, 0, 0, 0, 0, 0, 0\\n0, 0, 0, 0, 0, 0, 0, 0, 0, 0, 0, 0, 0, 0\\n0, 0, 0, 0, 0, 0, 0, 0, 0, 0, 0, 0, 0, 0\\n0, 0, 0, 0, 0, 0, 0, 0, 0, 0, 0, 0, 0, 0\\n0, 0, 0, 0, 0, 0, 0, 0]'),\n",
              " Text(0.10869565217391304, 0.75, 'gini = 0.0\\nsamples = 2\\nvalue = [0, 0, 0, 0, 0, 0, 0, 0, 0, 0, 0, 0, 0, 0\\n0, 0, 0, 0, 2, 0, 0, 0, 0, 0, 0, 0, 0, 0\\n0, 0, 0, 0, 0, 0, 0, 0, 0, 0, 0, 0, 0, 0\\n0, 0, 0, 0, 0, 0, 0, 0, 0, 0, 0, 0, 0, 0\\n0, 0, 0, 0, 0, 0, 0, 0, 0, 0, 0, 0, 0, 0\\n0, 0, 0, 0, 0, 0, 0, 0, 0, 0, 0, 0, 0, 0\\n0, 0, 0, 0, 0, 0, 0, 0, 0, 0, 0, 0, 0, 0\\n0, 0, 0, 0, 0, 0, 0, 0]'),\n",
              " Text(0.13043478260869565, 0.75, 'gini = 0.0\\nsamples = 1\\nvalue = [0, 0, 0, 0, 0, 0, 0, 0, 0, 0, 1, 0, 0, 0\\n0, 0, 0, 0, 0, 0, 0, 0, 0, 0, 0, 0, 0, 0\\n0, 0, 0, 0, 0, 0, 0, 0, 0, 0, 0, 0, 0, 0\\n0, 0, 0, 0, 0, 0, 0, 0, 0, 0, 0, 0, 0, 0\\n0, 0, 0, 0, 0, 0, 0, 0, 0, 0, 0, 0, 0, 0\\n0, 0, 0, 0, 0, 0, 0, 0, 0, 0, 0, 0, 0, 0\\n0, 0, 0, 0, 0, 0, 0, 0, 0, 0, 0, 0, 0, 0\\n0, 0, 0, 0, 0, 0, 0, 0]'),\n",
              " Text(0.14130434782608695, 0.7833333333333333, 'gini = 0.0\\nsamples = 1\\nvalue = [0, 0, 0, 0, 0, 0, 0, 0, 0, 0, 0, 0, 0, 0\\n0, 0, 0, 0, 0, 0, 0, 0, 0, 0, 0, 0, 0, 0\\n0, 0, 0, 0, 0, 0, 0, 0, 0, 0, 0, 0, 0, 0\\n0, 0, 0, 0, 0, 0, 0, 0, 1, 0, 0, 0, 0, 0\\n0, 0, 0, 0, 0, 0, 0, 0, 0, 0, 0, 0, 0, 0\\n0, 0, 0, 0, 0, 0, 0, 0, 0, 0, 0, 0, 0, 0\\n0, 0, 0, 0, 0, 0, 0, 0, 0, 0, 0, 0, 0, 0\\n0, 0, 0, 0, 0, 0, 0, 0]'),\n",
              " Text(0.17391304347826086, 0.8166666666666667, 'X[11] <= 1.57\\ngini = 0.889\\nsamples = 9\\nvalue = [0, 0, 0, 1, 0, 0, 0, 0, 0, 0, 0, 0, 0, 0\\n0, 0, 0, 0, 0, 1, 0, 0, 0, 0, 0, 0, 0, 0\\n0, 0, 0, 0, 0, 0, 0, 0, 0, 0, 1, 1, 0, 0\\n0, 0, 0, 0, 0, 0, 0, 0, 0, 0, 0, 0, 0, 1\\n0, 0, 0, 0, 0, 0, 0, 0, 0, 0, 1, 1, 0, 0\\n1, 1, 0, 0, 0, 0, 0, 0, 0, 0, 0, 0, 0, 0\\n0, 0, 0, 0, 0, 0, 0, 0, 0, 0, 0, 0, 0, 0\\n0, 0, 0, 0, 0, 0, 0, 0]'),\n",
              " Text(0.16304347826086957, 0.7833333333333333, 'gini = 0.0\\nsamples = 1\\nvalue = [0, 0, 0, 0, 0, 0, 0, 0, 0, 0, 0, 0, 0, 0\\n0, 0, 0, 0, 0, 0, 0, 0, 0, 0, 0, 0, 0, 0\\n0, 0, 0, 0, 0, 0, 0, 0, 0, 0, 0, 0, 0, 0\\n0, 0, 0, 0, 0, 0, 0, 0, 0, 0, 0, 0, 0, 0\\n0, 0, 0, 0, 0, 0, 0, 0, 0, 0, 0, 1, 0, 0\\n0, 0, 0, 0, 0, 0, 0, 0, 0, 0, 0, 0, 0, 0\\n0, 0, 0, 0, 0, 0, 0, 0, 0, 0, 0, 0, 0, 0\\n0, 0, 0, 0, 0, 0, 0, 0]'),\n",
              " Text(0.18478260869565216, 0.7833333333333333, 'X[2] <= 1.96\\ngini = 0.875\\nsamples = 8\\nvalue = [0, 0, 0, 1, 0, 0, 0, 0, 0, 0, 0, 0, 0, 0\\n0, 0, 0, 0, 0, 1, 0, 0, 0, 0, 0, 0, 0, 0\\n0, 0, 0, 0, 0, 0, 0, 0, 0, 0, 1, 1, 0, 0\\n0, 0, 0, 0, 0, 0, 0, 0, 0, 0, 0, 0, 0, 1\\n0, 0, 0, 0, 0, 0, 0, 0, 0, 0, 1, 0, 0, 0\\n1, 1, 0, 0, 0, 0, 0, 0, 0, 0, 0, 0, 0, 0\\n0, 0, 0, 0, 0, 0, 0, 0, 0, 0, 0, 0, 0, 0\\n0, 0, 0, 0, 0, 0, 0, 0]'),\n",
              " Text(0.17391304347826086, 0.75, 'gini = 0.0\\nsamples = 1\\nvalue = [0, 0, 0, 0, 0, 0, 0, 0, 0, 0, 0, 0, 0, 0\\n0, 0, 0, 0, 0, 1, 0, 0, 0, 0, 0, 0, 0, 0\\n0, 0, 0, 0, 0, 0, 0, 0, 0, 0, 0, 0, 0, 0\\n0, 0, 0, 0, 0, 0, 0, 0, 0, 0, 0, 0, 0, 0\\n0, 0, 0, 0, 0, 0, 0, 0, 0, 0, 0, 0, 0, 0\\n0, 0, 0, 0, 0, 0, 0, 0, 0, 0, 0, 0, 0, 0\\n0, 0, 0, 0, 0, 0, 0, 0, 0, 0, 0, 0, 0, 0\\n0, 0, 0, 0, 0, 0, 0, 0]'),\n",
              " Text(0.1956521739130435, 0.75, 'X[0] <= 12.125\\ngini = 0.857\\nsamples = 7\\nvalue = [0, 0, 0, 1, 0, 0, 0, 0, 0, 0, 0, 0, 0, 0\\n0, 0, 0, 0, 0, 0, 0, 0, 0, 0, 0, 0, 0, 0\\n0, 0, 0, 0, 0, 0, 0, 0, 0, 0, 1, 1, 0, 0\\n0, 0, 0, 0, 0, 0, 0, 0, 0, 0, 0, 0, 0, 1\\n0, 0, 0, 0, 0, 0, 0, 0, 0, 0, 1, 0, 0, 0\\n1, 1, 0, 0, 0, 0, 0, 0, 0, 0, 0, 0, 0, 0\\n0, 0, 0, 0, 0, 0, 0, 0, 0, 0, 0, 0, 0, 0\\n0, 0, 0, 0, 0, 0, 0, 0]'),\n",
              " Text(0.18478260869565216, 0.7166666666666667, 'gini = 0.0\\nsamples = 1\\nvalue = [0, 0, 0, 0, 0, 0, 0, 0, 0, 0, 0, 0, 0, 0\\n0, 0, 0, 0, 0, 0, 0, 0, 0, 0, 0, 0, 0, 0\\n0, 0, 0, 0, 0, 0, 0, 0, 0, 0, 1, 0, 0, 0\\n0, 0, 0, 0, 0, 0, 0, 0, 0, 0, 0, 0, 0, 0\\n0, 0, 0, 0, 0, 0, 0, 0, 0, 0, 0, 0, 0, 0\\n0, 0, 0, 0, 0, 0, 0, 0, 0, 0, 0, 0, 0, 0\\n0, 0, 0, 0, 0, 0, 0, 0, 0, 0, 0, 0, 0, 0\\n0, 0, 0, 0, 0, 0, 0, 0]'),\n",
              " Text(0.20652173913043478, 0.7166666666666667, 'X[11] <= 1.63\\ngini = 0.833\\nsamples = 6\\nvalue = [0, 0, 0, 1, 0, 0, 0, 0, 0, 0, 0, 0, 0, 0\\n0, 0, 0, 0, 0, 0, 0, 0, 0, 0, 0, 0, 0, 0\\n0, 0, 0, 0, 0, 0, 0, 0, 0, 0, 0, 1, 0, 0\\n0, 0, 0, 0, 0, 0, 0, 0, 0, 0, 0, 0, 0, 1\\n0, 0, 0, 0, 0, 0, 0, 0, 0, 0, 1, 0, 0, 0\\n1, 1, 0, 0, 0, 0, 0, 0, 0, 0, 0, 0, 0, 0\\n0, 0, 0, 0, 0, 0, 0, 0, 0, 0, 0, 0, 0, 0\\n0, 0, 0, 0, 0, 0, 0, 0]'),\n",
              " Text(0.1956521739130435, 0.6833333333333333, 'gini = 0.0\\nsamples = 1\\nvalue = [0, 0, 0, 0, 0, 0, 0, 0, 0, 0, 0, 0, 0, 0\\n0, 0, 0, 0, 0, 0, 0, 0, 0, 0, 0, 0, 0, 0\\n0, 0, 0, 0, 0, 0, 0, 0, 0, 0, 0, 0, 0, 0\\n0, 0, 0, 0, 0, 0, 0, 0, 0, 0, 0, 0, 0, 1\\n0, 0, 0, 0, 0, 0, 0, 0, 0, 0, 0, 0, 0, 0\\n0, 0, 0, 0, 0, 0, 0, 0, 0, 0, 0, 0, 0, 0\\n0, 0, 0, 0, 0, 0, 0, 0, 0, 0, 0, 0, 0, 0\\n0, 0, 0, 0, 0, 0, 0, 0]'),\n",
              " Text(0.21739130434782608, 0.6833333333333333, 'X[3] <= 19.0\\ngini = 0.8\\nsamples = 5\\nvalue = [0, 0, 0, 1, 0, 0, 0, 0, 0, 0, 0, 0, 0, 0\\n0, 0, 0, 0, 0, 0, 0, 0, 0, 0, 0, 0, 0, 0\\n0, 0, 0, 0, 0, 0, 0, 0, 0, 0, 0, 1, 0, 0\\n0, 0, 0, 0, 0, 0, 0, 0, 0, 0, 0, 0, 0, 0\\n0, 0, 0, 0, 0, 0, 0, 0, 0, 0, 1, 0, 0, 0\\n1, 1, 0, 0, 0, 0, 0, 0, 0, 0, 0, 0, 0, 0\\n0, 0, 0, 0, 0, 0, 0, 0, 0, 0, 0, 0, 0, 0\\n0, 0, 0, 0, 0, 0, 0, 0]'),\n",
              " Text(0.20652173913043478, 0.65, 'gini = 0.0\\nsamples = 1\\nvalue = [0, 0, 0, 0, 0, 0, 0, 0, 0, 0, 0, 0, 0, 0\\n0, 0, 0, 0, 0, 0, 0, 0, 0, 0, 0, 0, 0, 0\\n0, 0, 0, 0, 0, 0, 0, 0, 0, 0, 0, 0, 0, 0\\n0, 0, 0, 0, 0, 0, 0, 0, 0, 0, 0, 0, 0, 0\\n0, 0, 0, 0, 0, 0, 0, 0, 0, 0, 0, 0, 0, 0\\n1, 0, 0, 0, 0, 0, 0, 0, 0, 0, 0, 0, 0, 0\\n0, 0, 0, 0, 0, 0, 0, 0, 0, 0, 0, 0, 0, 0\\n0, 0, 0, 0, 0, 0, 0, 0]'),\n",
              " Text(0.22826086956521738, 0.65, 'X[7] <= 0.4\\ngini = 0.75\\nsamples = 4\\nvalue = [0, 0, 0, 1, 0, 0, 0, 0, 0, 0, 0, 0, 0, 0\\n0, 0, 0, 0, 0, 0, 0, 0, 0, 0, 0, 0, 0, 0\\n0, 0, 0, 0, 0, 0, 0, 0, 0, 0, 0, 1, 0, 0\\n0, 0, 0, 0, 0, 0, 0, 0, 0, 0, 0, 0, 0, 0\\n0, 0, 0, 0, 0, 0, 0, 0, 0, 0, 1, 0, 0, 0\\n0, 1, 0, 0, 0, 0, 0, 0, 0, 0, 0, 0, 0, 0\\n0, 0, 0, 0, 0, 0, 0, 0, 0, 0, 0, 0, 0, 0\\n0, 0, 0, 0, 0, 0, 0, 0]'),\n",
              " Text(0.21739130434782608, 0.6166666666666667, 'gini = 0.0\\nsamples = 1\\nvalue = [0, 0, 0, 0, 0, 0, 0, 0, 0, 0, 0, 0, 0, 0\\n0, 0, 0, 0, 0, 0, 0, 0, 0, 0, 0, 0, 0, 0\\n0, 0, 0, 0, 0, 0, 0, 0, 0, 0, 0, 0, 0, 0\\n0, 0, 0, 0, 0, 0, 0, 0, 0, 0, 0, 0, 0, 0\\n0, 0, 0, 0, 0, 0, 0, 0, 0, 0, 0, 0, 0, 0\\n0, 1, 0, 0, 0, 0, 0, 0, 0, 0, 0, 0, 0, 0\\n0, 0, 0, 0, 0, 0, 0, 0, 0, 0, 0, 0, 0, 0\\n0, 0, 0, 0, 0, 0, 0, 0]'),\n",
              " Text(0.2391304347826087, 0.6166666666666667, 'X[1] <= 3.06\\ngini = 0.667\\nsamples = 3\\nvalue = [0, 0, 0, 1, 0, 0, 0, 0, 0, 0, 0, 0, 0, 0\\n0, 0, 0, 0, 0, 0, 0, 0, 0, 0, 0, 0, 0, 0\\n0, 0, 0, 0, 0, 0, 0, 0, 0, 0, 0, 1, 0, 0\\n0, 0, 0, 0, 0, 0, 0, 0, 0, 0, 0, 0, 0, 0\\n0, 0, 0, 0, 0, 0, 0, 0, 0, 0, 1, 0, 0, 0\\n0, 0, 0, 0, 0, 0, 0, 0, 0, 0, 0, 0, 0, 0\\n0, 0, 0, 0, 0, 0, 0, 0, 0, 0, 0, 0, 0, 0\\n0, 0, 0, 0, 0, 0, 0, 0]'),\n",
              " Text(0.22826086956521738, 0.5833333333333334, 'gini = 0.0\\nsamples = 1\\nvalue = [0, 0, 0, 1, 0, 0, 0, 0, 0, 0, 0, 0, 0, 0\\n0, 0, 0, 0, 0, 0, 0, 0, 0, 0, 0, 0, 0, 0\\n0, 0, 0, 0, 0, 0, 0, 0, 0, 0, 0, 0, 0, 0\\n0, 0, 0, 0, 0, 0, 0, 0, 0, 0, 0, 0, 0, 0\\n0, 0, 0, 0, 0, 0, 0, 0, 0, 0, 0, 0, 0, 0\\n0, 0, 0, 0, 0, 0, 0, 0, 0, 0, 0, 0, 0, 0\\n0, 0, 0, 0, 0, 0, 0, 0, 0, 0, 0, 0, 0, 0\\n0, 0, 0, 0, 0, 0, 0, 0]'),\n",
              " Text(0.25, 0.5833333333333334, 'X[5] <= 1.56\\ngini = 0.5\\nsamples = 2\\nvalue = [0, 0, 0, 0, 0, 0, 0, 0, 0, 0, 0, 0, 0, 0\\n0, 0, 0, 0, 0, 0, 0, 0, 0, 0, 0, 0, 0, 0\\n0, 0, 0, 0, 0, 0, 0, 0, 0, 0, 0, 1, 0, 0\\n0, 0, 0, 0, 0, 0, 0, 0, 0, 0, 0, 0, 0, 0\\n0, 0, 0, 0, 0, 0, 0, 0, 0, 0, 1, 0, 0, 0\\n0, 0, 0, 0, 0, 0, 0, 0, 0, 0, 0, 0, 0, 0\\n0, 0, 0, 0, 0, 0, 0, 0, 0, 0, 0, 0, 0, 0\\n0, 0, 0, 0, 0, 0, 0, 0]'),\n",
              " Text(0.2391304347826087, 0.55, 'gini = 0.0\\nsamples = 1\\nvalue = [0, 0, 0, 0, 0, 0, 0, 0, 0, 0, 0, 0, 0, 0\\n0, 0, 0, 0, 0, 0, 0, 0, 0, 0, 0, 0, 0, 0\\n0, 0, 0, 0, 0, 0, 0, 0, 0, 0, 0, 0, 0, 0\\n0, 0, 0, 0, 0, 0, 0, 0, 0, 0, 0, 0, 0, 0\\n0, 0, 0, 0, 0, 0, 0, 0, 0, 0, 1, 0, 0, 0\\n0, 0, 0, 0, 0, 0, 0, 0, 0, 0, 0, 0, 0, 0\\n0, 0, 0, 0, 0, 0, 0, 0, 0, 0, 0, 0, 0, 0\\n0, 0, 0, 0, 0, 0, 0, 0]'),\n",
              " Text(0.2608695652173913, 0.55, 'gini = 0.0\\nsamples = 1\\nvalue = [0, 0, 0, 0, 0, 0, 0, 0, 0, 0, 0, 0, 0, 0\\n0, 0, 0, 0, 0, 0, 0, 0, 0, 0, 0, 0, 0, 0\\n0, 0, 0, 0, 0, 0, 0, 0, 0, 0, 0, 1, 0, 0\\n0, 0, 0, 0, 0, 0, 0, 0, 0, 0, 0, 0, 0, 0\\n0, 0, 0, 0, 0, 0, 0, 0, 0, 0, 0, 0, 0, 0\\n0, 0, 0, 0, 0, 0, 0, 0, 0, 0, 0, 0, 0, 0\\n0, 0, 0, 0, 0, 0, 0, 0, 0, 0, 0, 0, 0, 0\\n0, 0, 0, 0, 0, 0, 0, 0]'),\n",
              " Text(0.26902173913043476, 0.85, 'X[3] <= 19.0\\ngini = 0.93\\nsamples = 23\\nvalue = [0, 0, 0, 0, 0, 0, 0, 0, 0, 0, 0, 0, 0, 0\\n0, 0, 0, 0, 0, 0, 0, 0, 0, 0, 0, 1, 0, 3\\n0, 0, 0, 0, 0, 0, 1, 2, 0, 0, 0, 1, 0, 2\\n0, 1, 0, 2, 0, 0, 1, 0, 0, 2, 0, 1, 1, 0\\n0, 0, 1, 1, 0, 1, 0, 0, 1, 0, 0, 0, 1, 0\\n0, 0, 0, 0, 0, 0, 0, 0, 0, 0, 0, 0, 0, 0\\n0, 0, 0, 0, 0, 0, 0, 0, 0, 0, 0, 0, 0, 0\\n0, 0, 0, 0, 0, 0, 0, 0]'),\n",
              " Text(0.22826086956521738, 0.8166666666666667, 'X[10] <= 0.88\\ngini = 0.444\\nsamples = 3\\nvalue = [0, 0, 0, 0, 0, 0, 0, 0, 0, 0, 0, 0, 0, 0\\n0, 0, 0, 0, 0, 0, 0, 0, 0, 0, 0, 0, 0, 1\\n0, 0, 0, 0, 0, 0, 0, 0, 0, 0, 0, 0, 0, 0\\n0, 0, 0, 0, 0, 0, 0, 0, 0, 2, 0, 0, 0, 0\\n0, 0, 0, 0, 0, 0, 0, 0, 0, 0, 0, 0, 0, 0\\n0, 0, 0, 0, 0, 0, 0, 0, 0, 0, 0, 0, 0, 0\\n0, 0, 0, 0, 0, 0, 0, 0, 0, 0, 0, 0, 0, 0\\n0, 0, 0, 0, 0, 0, 0, 0]'),\n",
              " Text(0.21739130434782608, 0.7833333333333333, 'gini = 0.0\\nsamples = 2\\nvalue = [0, 0, 0, 0, 0, 0, 0, 0, 0, 0, 0, 0, 0, 0\\n0, 0, 0, 0, 0, 0, 0, 0, 0, 0, 0, 0, 0, 0\\n0, 0, 0, 0, 0, 0, 0, 0, 0, 0, 0, 0, 0, 0\\n0, 0, 0, 0, 0, 0, 0, 0, 0, 2, 0, 0, 0, 0\\n0, 0, 0, 0, 0, 0, 0, 0, 0, 0, 0, 0, 0, 0\\n0, 0, 0, 0, 0, 0, 0, 0, 0, 0, 0, 0, 0, 0\\n0, 0, 0, 0, 0, 0, 0, 0, 0, 0, 0, 0, 0, 0\\n0, 0, 0, 0, 0, 0, 0, 0]'),\n",
              " Text(0.2391304347826087, 0.7833333333333333, 'gini = 0.0\\nsamples = 1\\nvalue = [0, 0, 0, 0, 0, 0, 0, 0, 0, 0, 0, 0, 0, 0\\n0, 0, 0, 0, 0, 0, 0, 0, 0, 0, 0, 0, 0, 1\\n0, 0, 0, 0, 0, 0, 0, 0, 0, 0, 0, 0, 0, 0\\n0, 0, 0, 0, 0, 0, 0, 0, 0, 0, 0, 0, 0, 0\\n0, 0, 0, 0, 0, 0, 0, 0, 0, 0, 0, 0, 0, 0\\n0, 0, 0, 0, 0, 0, 0, 0, 0, 0, 0, 0, 0, 0\\n0, 0, 0, 0, 0, 0, 0, 0, 0, 0, 0, 0, 0, 0\\n0, 0, 0, 0, 0, 0, 0, 0]'),\n",
              " Text(0.30978260869565216, 0.8166666666666667, 'X[8] <= 0.85\\ngini = 0.93\\nsamples = 20\\nvalue = [0, 0, 0, 0, 0, 0, 0, 0, 0, 0, 0, 0, 0, 0\\n0, 0, 0, 0, 0, 0, 0, 0, 0, 0, 0, 1, 0, 2\\n0, 0, 0, 0, 0, 0, 1, 2, 0, 0, 0, 1, 0, 2\\n0, 1, 0, 2, 0, 0, 1, 0, 0, 0, 0, 1, 1, 0\\n0, 0, 1, 1, 0, 1, 0, 0, 1, 0, 0, 0, 1, 0\\n0, 0, 0, 0, 0, 0, 0, 0, 0, 0, 0, 0, 0, 0\\n0, 0, 0, 0, 0, 0, 0, 0, 0, 0, 0, 0, 0, 0\\n0, 0, 0, 0, 0, 0, 0, 0]'),\n",
              " Text(0.2608695652173913, 0.7833333333333333, 'X[3] <= 20.5\\ngini = 0.816\\nsamples = 7\\nvalue = [0, 0, 0, 0, 0, 0, 0, 0, 0, 0, 0, 0, 0, 0\\n0, 0, 0, 0, 0, 0, 0, 0, 0, 0, 0, 1, 0, 0\\n0, 0, 0, 0, 0, 0, 1, 0, 0, 0, 0, 0, 0, 2\\n0, 0, 0, 0, 0, 0, 0, 0, 0, 0, 0, 1, 0, 0\\n0, 0, 1, 0, 0, 0, 0, 0, 1, 0, 0, 0, 0, 0\\n0, 0, 0, 0, 0, 0, 0, 0, 0, 0, 0, 0, 0, 0\\n0, 0, 0, 0, 0, 0, 0, 0, 0, 0, 0, 0, 0, 0\\n0, 0, 0, 0, 0, 0, 0, 0]'),\n",
              " Text(0.2391304347826087, 0.75, 'X[7] <= 0.305\\ngini = 0.75\\nsamples = 4\\nvalue = [0, 0, 0, 0, 0, 0, 0, 0, 0, 0, 0, 0, 0, 0\\n0, 0, 0, 0, 0, 0, 0, 0, 0, 0, 0, 1, 0, 0\\n0, 0, 0, 0, 0, 0, 1, 0, 0, 0, 0, 0, 0, 0\\n0, 0, 0, 0, 0, 0, 0, 0, 0, 0, 0, 1, 0, 0\\n0, 0, 0, 0, 0, 0, 0, 0, 1, 0, 0, 0, 0, 0\\n0, 0, 0, 0, 0, 0, 0, 0, 0, 0, 0, 0, 0, 0\\n0, 0, 0, 0, 0, 0, 0, 0, 0, 0, 0, 0, 0, 0\\n0, 0, 0, 0, 0, 0, 0, 0]'),\n",
              " Text(0.22826086956521738, 0.7166666666666667, 'gini = 0.0\\nsamples = 1\\nvalue = [0, 0, 0, 0, 0, 0, 0, 0, 0, 0, 0, 0, 0, 0\\n0, 0, 0, 0, 0, 0, 0, 0, 0, 0, 0, 0, 0, 0\\n0, 0, 0, 0, 0, 0, 1, 0, 0, 0, 0, 0, 0, 0\\n0, 0, 0, 0, 0, 0, 0, 0, 0, 0, 0, 0, 0, 0\\n0, 0, 0, 0, 0, 0, 0, 0, 0, 0, 0, 0, 0, 0\\n0, 0, 0, 0, 0, 0, 0, 0, 0, 0, 0, 0, 0, 0\\n0, 0, 0, 0, 0, 0, 0, 0, 0, 0, 0, 0, 0, 0\\n0, 0, 0, 0, 0, 0, 0, 0]'),\n",
              " Text(0.25, 0.7166666666666667, 'X[11] <= 1.725\\ngini = 0.667\\nsamples = 3\\nvalue = [0, 0, 0, 0, 0, 0, 0, 0, 0, 0, 0, 0, 0, 0\\n0, 0, 0, 0, 0, 0, 0, 0, 0, 0, 0, 1, 0, 0\\n0, 0, 0, 0, 0, 0, 0, 0, 0, 0, 0, 0, 0, 0\\n0, 0, 0, 0, 0, 0, 0, 0, 0, 0, 0, 1, 0, 0\\n0, 0, 0, 0, 0, 0, 0, 0, 1, 0, 0, 0, 0, 0\\n0, 0, 0, 0, 0, 0, 0, 0, 0, 0, 0, 0, 0, 0\\n0, 0, 0, 0, 0, 0, 0, 0, 0, 0, 0, 0, 0, 0\\n0, 0, 0, 0, 0, 0, 0, 0]'),\n",
              " Text(0.2391304347826087, 0.6833333333333333, 'gini = 0.0\\nsamples = 1\\nvalue = [0, 0, 0, 0, 0, 0, 0, 0, 0, 0, 0, 0, 0, 0\\n0, 0, 0, 0, 0, 0, 0, 0, 0, 0, 0, 1, 0, 0\\n0, 0, 0, 0, 0, 0, 0, 0, 0, 0, 0, 0, 0, 0\\n0, 0, 0, 0, 0, 0, 0, 0, 0, 0, 0, 0, 0, 0\\n0, 0, 0, 0, 0, 0, 0, 0, 0, 0, 0, 0, 0, 0\\n0, 0, 0, 0, 0, 0, 0, 0, 0, 0, 0, 0, 0, 0\\n0, 0, 0, 0, 0, 0, 0, 0, 0, 0, 0, 0, 0, 0\\n0, 0, 0, 0, 0, 0, 0, 0]'),\n",
              " Text(0.2608695652173913, 0.6833333333333333, 'X[8] <= 0.72\\ngini = 0.5\\nsamples = 2\\nvalue = [0, 0, 0, 0, 0, 0, 0, 0, 0, 0, 0, 0, 0, 0\\n0, 0, 0, 0, 0, 0, 0, 0, 0, 0, 0, 0, 0, 0\\n0, 0, 0, 0, 0, 0, 0, 0, 0, 0, 0, 0, 0, 0\\n0, 0, 0, 0, 0, 0, 0, 0, 0, 0, 0, 1, 0, 0\\n0, 0, 0, 0, 0, 0, 0, 0, 1, 0, 0, 0, 0, 0\\n0, 0, 0, 0, 0, 0, 0, 0, 0, 0, 0, 0, 0, 0\\n0, 0, 0, 0, 0, 0, 0, 0, 0, 0, 0, 0, 0, 0\\n0, 0, 0, 0, 0, 0, 0, 0]'),\n",
              " Text(0.25, 0.65, 'gini = 0.0\\nsamples = 1\\nvalue = [0, 0, 0, 0, 0, 0, 0, 0, 0, 0, 0, 0, 0, 0\\n0, 0, 0, 0, 0, 0, 0, 0, 0, 0, 0, 0, 0, 0\\n0, 0, 0, 0, 0, 0, 0, 0, 0, 0, 0, 0, 0, 0\\n0, 0, 0, 0, 0, 0, 0, 0, 0, 0, 0, 0, 0, 0\\n0, 0, 0, 0, 0, 0, 0, 0, 1, 0, 0, 0, 0, 0\\n0, 0, 0, 0, 0, 0, 0, 0, 0, 0, 0, 0, 0, 0\\n0, 0, 0, 0, 0, 0, 0, 0, 0, 0, 0, 0, 0, 0\\n0, 0, 0, 0, 0, 0, 0, 0]'),\n",
              " Text(0.2717391304347826, 0.65, 'gini = 0.0\\nsamples = 1\\nvalue = [0, 0, 0, 0, 0, 0, 0, 0, 0, 0, 0, 0, 0, 0\\n0, 0, 0, 0, 0, 0, 0, 0, 0, 0, 0, 0, 0, 0\\n0, 0, 0, 0, 0, 0, 0, 0, 0, 0, 0, 0, 0, 0\\n0, 0, 0, 0, 0, 0, 0, 0, 0, 0, 0, 1, 0, 0\\n0, 0, 0, 0, 0, 0, 0, 0, 0, 0, 0, 0, 0, 0\\n0, 0, 0, 0, 0, 0, 0, 0, 0, 0, 0, 0, 0, 0\\n0, 0, 0, 0, 0, 0, 0, 0, 0, 0, 0, 0, 0, 0\\n0, 0, 0, 0, 0, 0, 0, 0]'),\n",
              " Text(0.2826086956521739, 0.75, 'X[1] <= 4.135\\ngini = 0.444\\nsamples = 3\\nvalue = [0, 0, 0, 0, 0, 0, 0, 0, 0, 0, 0, 0, 0, 0\\n0, 0, 0, 0, 0, 0, 0, 0, 0, 0, 0, 0, 0, 0\\n0, 0, 0, 0, 0, 0, 0, 0, 0, 0, 0, 0, 0, 2\\n0, 0, 0, 0, 0, 0, 0, 0, 0, 0, 0, 0, 0, 0\\n0, 0, 1, 0, 0, 0, 0, 0, 0, 0, 0, 0, 0, 0\\n0, 0, 0, 0, 0, 0, 0, 0, 0, 0, 0, 0, 0, 0\\n0, 0, 0, 0, 0, 0, 0, 0, 0, 0, 0, 0, 0, 0\\n0, 0, 0, 0, 0, 0, 0, 0]'),\n",
              " Text(0.2717391304347826, 0.7166666666666667, 'gini = 0.0\\nsamples = 2\\nvalue = [0, 0, 0, 0, 0, 0, 0, 0, 0, 0, 0, 0, 0, 0\\n0, 0, 0, 0, 0, 0, 0, 0, 0, 0, 0, 0, 0, 0\\n0, 0, 0, 0, 0, 0, 0, 0, 0, 0, 0, 0, 0, 2\\n0, 0, 0, 0, 0, 0, 0, 0, 0, 0, 0, 0, 0, 0\\n0, 0, 0, 0, 0, 0, 0, 0, 0, 0, 0, 0, 0, 0\\n0, 0, 0, 0, 0, 0, 0, 0, 0, 0, 0, 0, 0, 0\\n0, 0, 0, 0, 0, 0, 0, 0, 0, 0, 0, 0, 0, 0\\n0, 0, 0, 0, 0, 0, 0, 0]'),\n",
              " Text(0.29347826086956524, 0.7166666666666667, 'gini = 0.0\\nsamples = 1\\nvalue = [0, 0, 0, 0, 0, 0, 0, 0, 0, 0, 0, 0, 0, 0\\n0, 0, 0, 0, 0, 0, 0, 0, 0, 0, 0, 0, 0, 0\\n0, 0, 0, 0, 0, 0, 0, 0, 0, 0, 0, 0, 0, 0\\n0, 0, 0, 0, 0, 0, 0, 0, 0, 0, 0, 0, 0, 0\\n0, 0, 1, 0, 0, 0, 0, 0, 0, 0, 0, 0, 0, 0\\n0, 0, 0, 0, 0, 0, 0, 0, 0, 0, 0, 0, 0, 0\\n0, 0, 0, 0, 0, 0, 0, 0, 0, 0, 0, 0, 0, 0\\n0, 0, 0, 0, 0, 0, 0, 0]'),\n",
              " Text(0.358695652173913, 0.7833333333333333, 'X[2] <= 2.375\\ngini = 0.888\\nsamples = 13\\nvalue = [0, 0, 0, 0, 0, 0, 0, 0, 0, 0, 0, 0, 0, 0\\n0, 0, 0, 0, 0, 0, 0, 0, 0, 0, 0, 0, 0, 2\\n0, 0, 0, 0, 0, 0, 0, 2, 0, 0, 0, 1, 0, 0\\n0, 1, 0, 2, 0, 0, 1, 0, 0, 0, 0, 0, 1, 0\\n0, 0, 0, 1, 0, 1, 0, 0, 0, 0, 0, 0, 1, 0\\n0, 0, 0, 0, 0, 0, 0, 0, 0, 0, 0, 0, 0, 0\\n0, 0, 0, 0, 0, 0, 0, 0, 0, 0, 0, 0, 0, 0\\n0, 0, 0, 0, 0, 0, 0, 0]'),\n",
              " Text(0.32608695652173914, 0.75, 'X[6] <= 0.74\\ngini = 0.778\\nsamples = 6\\nvalue = [0, 0, 0, 0, 0, 0, 0, 0, 0, 0, 0, 0, 0, 0\\n0, 0, 0, 0, 0, 0, 0, 0, 0, 0, 0, 0, 0, 0\\n0, 0, 0, 0, 0, 0, 0, 2, 0, 0, 0, 0, 0, 0\\n0, 1, 0, 0, 0, 0, 0, 0, 0, 0, 0, 0, 1, 0\\n0, 0, 0, 1, 0, 0, 0, 0, 0, 0, 0, 0, 1, 0\\n0, 0, 0, 0, 0, 0, 0, 0, 0, 0, 0, 0, 0, 0\\n0, 0, 0, 0, 0, 0, 0, 0, 0, 0, 0, 0, 0, 0\\n0, 0, 0, 0, 0, 0, 0, 0]'),\n",
              " Text(0.31521739130434784, 0.7166666666666667, 'X[1] <= 2.675\\ngini = 0.75\\nsamples = 4\\nvalue = [0, 0, 0, 0, 0, 0, 0, 0, 0, 0, 0, 0, 0, 0\\n0, 0, 0, 0, 0, 0, 0, 0, 0, 0, 0, 0, 0, 0\\n0, 0, 0, 0, 0, 0, 0, 0, 0, 0, 0, 0, 0, 0\\n0, 1, 0, 0, 0, 0, 0, 0, 0, 0, 0, 0, 1, 0\\n0, 0, 0, 1, 0, 0, 0, 0, 0, 0, 0, 0, 1, 0\\n0, 0, 0, 0, 0, 0, 0, 0, 0, 0, 0, 0, 0, 0\\n0, 0, 0, 0, 0, 0, 0, 0, 0, 0, 0, 0, 0, 0\\n0, 0, 0, 0, 0, 0, 0, 0]'),\n",
              " Text(0.30434782608695654, 0.6833333333333333, 'gini = 0.0\\nsamples = 1\\nvalue = [0, 0, 0, 0, 0, 0, 0, 0, 0, 0, 0, 0, 0, 0\\n0, 0, 0, 0, 0, 0, 0, 0, 0, 0, 0, 0, 0, 0\\n0, 0, 0, 0, 0, 0, 0, 0, 0, 0, 0, 0, 0, 0\\n0, 0, 0, 0, 0, 0, 0, 0, 0, 0, 0, 0, 0, 0\\n0, 0, 0, 0, 0, 0, 0, 0, 0, 0, 0, 0, 1, 0\\n0, 0, 0, 0, 0, 0, 0, 0, 0, 0, 0, 0, 0, 0\\n0, 0, 0, 0, 0, 0, 0, 0, 0, 0, 0, 0, 0, 0\\n0, 0, 0, 0, 0, 0, 0, 0]'),\n",
              " Text(0.32608695652173914, 0.6833333333333333, 'X[7] <= 0.405\\ngini = 0.667\\nsamples = 3\\nvalue = [0, 0, 0, 0, 0, 0, 0, 0, 0, 0, 0, 0, 0, 0\\n0, 0, 0, 0, 0, 0, 0, 0, 0, 0, 0, 0, 0, 0\\n0, 0, 0, 0, 0, 0, 0, 0, 0, 0, 0, 0, 0, 0\\n0, 1, 0, 0, 0, 0, 0, 0, 0, 0, 0, 0, 1, 0\\n0, 0, 0, 1, 0, 0, 0, 0, 0, 0, 0, 0, 0, 0\\n0, 0, 0, 0, 0, 0, 0, 0, 0, 0, 0, 0, 0, 0\\n0, 0, 0, 0, 0, 0, 0, 0, 0, 0, 0, 0, 0, 0\\n0, 0, 0, 0, 0, 0, 0, 0]'),\n",
              " Text(0.31521739130434784, 0.65, 'gini = 0.0\\nsamples = 1\\nvalue = [0, 0, 0, 0, 0, 0, 0, 0, 0, 0, 0, 0, 0, 0\\n0, 0, 0, 0, 0, 0, 0, 0, 0, 0, 0, 0, 0, 0\\n0, 0, 0, 0, 0, 0, 0, 0, 0, 0, 0, 0, 0, 0\\n0, 0, 0, 0, 0, 0, 0, 0, 0, 0, 0, 0, 1, 0\\n0, 0, 0, 0, 0, 0, 0, 0, 0, 0, 0, 0, 0, 0\\n0, 0, 0, 0, 0, 0, 0, 0, 0, 0, 0, 0, 0, 0\\n0, 0, 0, 0, 0, 0, 0, 0, 0, 0, 0, 0, 0, 0\\n0, 0, 0, 0, 0, 0, 0, 0]'),\n",
              " Text(0.33695652173913043, 0.65, 'X[0] <= 13.475\\ngini = 0.5\\nsamples = 2\\nvalue = [0, 0, 0, 0, 0, 0, 0, 0, 0, 0, 0, 0, 0, 0\\n0, 0, 0, 0, 0, 0, 0, 0, 0, 0, 0, 0, 0, 0\\n0, 0, 0, 0, 0, 0, 0, 0, 0, 0, 0, 0, 0, 0\\n0, 1, 0, 0, 0, 0, 0, 0, 0, 0, 0, 0, 0, 0\\n0, 0, 0, 1, 0, 0, 0, 0, 0, 0, 0, 0, 0, 0\\n0, 0, 0, 0, 0, 0, 0, 0, 0, 0, 0, 0, 0, 0\\n0, 0, 0, 0, 0, 0, 0, 0, 0, 0, 0, 0, 0, 0\\n0, 0, 0, 0, 0, 0, 0, 0]'),\n",
              " Text(0.32608695652173914, 0.6166666666666667, 'gini = 0.0\\nsamples = 1\\nvalue = [0, 0, 0, 0, 0, 0, 0, 0, 0, 0, 0, 0, 0, 0\\n0, 0, 0, 0, 0, 0, 0, 0, 0, 0, 0, 0, 0, 0\\n0, 0, 0, 0, 0, 0, 0, 0, 0, 0, 0, 0, 0, 0\\n0, 0, 0, 0, 0, 0, 0, 0, 0, 0, 0, 0, 0, 0\\n0, 0, 0, 1, 0, 0, 0, 0, 0, 0, 0, 0, 0, 0\\n0, 0, 0, 0, 0, 0, 0, 0, 0, 0, 0, 0, 0, 0\\n0, 0, 0, 0, 0, 0, 0, 0, 0, 0, 0, 0, 0, 0\\n0, 0, 0, 0, 0, 0, 0, 0]'),\n",
              " Text(0.34782608695652173, 0.6166666666666667, 'gini = 0.0\\nsamples = 1\\nvalue = [0, 0, 0, 0, 0, 0, 0, 0, 0, 0, 0, 0, 0, 0\\n0, 0, 0, 0, 0, 0, 0, 0, 0, 0, 0, 0, 0, 0\\n0, 0, 0, 0, 0, 0, 0, 0, 0, 0, 0, 0, 0, 0\\n0, 1, 0, 0, 0, 0, 0, 0, 0, 0, 0, 0, 0, 0\\n0, 0, 0, 0, 0, 0, 0, 0, 0, 0, 0, 0, 0, 0\\n0, 0, 0, 0, 0, 0, 0, 0, 0, 0, 0, 0, 0, 0\\n0, 0, 0, 0, 0, 0, 0, 0, 0, 0, 0, 0, 0, 0\\n0, 0, 0, 0, 0, 0, 0, 0]'),\n",
              " Text(0.33695652173913043, 0.7166666666666667, 'gini = 0.0\\nsamples = 2\\nvalue = [0, 0, 0, 0, 0, 0, 0, 0, 0, 0, 0, 0, 0, 0\\n0, 0, 0, 0, 0, 0, 0, 0, 0, 0, 0, 0, 0, 0\\n0, 0, 0, 0, 0, 0, 0, 2, 0, 0, 0, 0, 0, 0\\n0, 0, 0, 0, 0, 0, 0, 0, 0, 0, 0, 0, 0, 0\\n0, 0, 0, 0, 0, 0, 0, 0, 0, 0, 0, 0, 0, 0\\n0, 0, 0, 0, 0, 0, 0, 0, 0, 0, 0, 0, 0, 0\\n0, 0, 0, 0, 0, 0, 0, 0, 0, 0, 0, 0, 0, 0\\n0, 0, 0, 0, 0, 0, 0, 0]'),\n",
              " Text(0.391304347826087, 0.75, 'X[9] <= 8.715\\ngini = 0.776\\nsamples = 7\\nvalue = [0, 0, 0, 0, 0, 0, 0, 0, 0, 0, 0, 0, 0, 0\\n0, 0, 0, 0, 0, 0, 0, 0, 0, 0, 0, 0, 0, 2\\n0, 0, 0, 0, 0, 0, 0, 0, 0, 0, 0, 1, 0, 0\\n0, 0, 0, 2, 0, 0, 1, 0, 0, 0, 0, 0, 0, 0\\n0, 0, 0, 0, 0, 1, 0, 0, 0, 0, 0, 0, 0, 0\\n0, 0, 0, 0, 0, 0, 0, 0, 0, 0, 0, 0, 0, 0\\n0, 0, 0, 0, 0, 0, 0, 0, 0, 0, 0, 0, 0, 0\\n0, 0, 0, 0, 0, 0, 0, 0]'),\n",
              " Text(0.3804347826086957, 0.7166666666666667, 'X[2] <= 2.465\\ngini = 0.72\\nsamples = 5\\nvalue = [0, 0, 0, 0, 0, 0, 0, 0, 0, 0, 0, 0, 0, 0\\n0, 0, 0, 0, 0, 0, 0, 0, 0, 0, 0, 0, 0, 0\\n0, 0, 0, 0, 0, 0, 0, 0, 0, 0, 0, 1, 0, 0\\n0, 0, 0, 2, 0, 0, 1, 0, 0, 0, 0, 0, 0, 0\\n0, 0, 0, 0, 0, 1, 0, 0, 0, 0, 0, 0, 0, 0\\n0, 0, 0, 0, 0, 0, 0, 0, 0, 0, 0, 0, 0, 0\\n0, 0, 0, 0, 0, 0, 0, 0, 0, 0, 0, 0, 0, 0\\n0, 0, 0, 0, 0, 0, 0, 0]'),\n",
              " Text(0.3695652173913043, 0.6833333333333333, 'X[7] <= 0.435\\ngini = 0.667\\nsamples = 3\\nvalue = [0, 0, 0, 0, 0, 0, 0, 0, 0, 0, 0, 0, 0, 0\\n0, 0, 0, 0, 0, 0, 0, 0, 0, 0, 0, 0, 0, 0\\n0, 0, 0, 0, 0, 0, 0, 0, 0, 0, 0, 1, 0, 0\\n0, 0, 0, 0, 0, 0, 1, 0, 0, 0, 0, 0, 0, 0\\n0, 0, 0, 0, 0, 1, 0, 0, 0, 0, 0, 0, 0, 0\\n0, 0, 0, 0, 0, 0, 0, 0, 0, 0, 0, 0, 0, 0\\n0, 0, 0, 0, 0, 0, 0, 0, 0, 0, 0, 0, 0, 0\\n0, 0, 0, 0, 0, 0, 0, 0]'),\n",
              " Text(0.358695652173913, 0.65, 'gini = 0.0\\nsamples = 1\\nvalue = [0, 0, 0, 0, 0, 0, 0, 0, 0, 0, 0, 0, 0, 0\\n0, 0, 0, 0, 0, 0, 0, 0, 0, 0, 0, 0, 0, 0\\n0, 0, 0, 0, 0, 0, 0, 0, 0, 0, 0, 1, 0, 0\\n0, 0, 0, 0, 0, 0, 0, 0, 0, 0, 0, 0, 0, 0\\n0, 0, 0, 0, 0, 0, 0, 0, 0, 0, 0, 0, 0, 0\\n0, 0, 0, 0, 0, 0, 0, 0, 0, 0, 0, 0, 0, 0\\n0, 0, 0, 0, 0, 0, 0, 0, 0, 0, 0, 0, 0, 0\\n0, 0, 0, 0, 0, 0, 0, 0]'),\n",
              " Text(0.3804347826086957, 0.65, 'X[3] <= 21.0\\ngini = 0.5\\nsamples = 2\\nvalue = [0, 0, 0, 0, 0, 0, 0, 0, 0, 0, 0, 0, 0, 0\\n0, 0, 0, 0, 0, 0, 0, 0, 0, 0, 0, 0, 0, 0\\n0, 0, 0, 0, 0, 0, 0, 0, 0, 0, 0, 0, 0, 0\\n0, 0, 0, 0, 0, 0, 1, 0, 0, 0, 0, 0, 0, 0\\n0, 0, 0, 0, 0, 1, 0, 0, 0, 0, 0, 0, 0, 0\\n0, 0, 0, 0, 0, 0, 0, 0, 0, 0, 0, 0, 0, 0\\n0, 0, 0, 0, 0, 0, 0, 0, 0, 0, 0, 0, 0, 0\\n0, 0, 0, 0, 0, 0, 0, 0]'),\n",
              " Text(0.3695652173913043, 0.6166666666666667, 'gini = 0.0\\nsamples = 1\\nvalue = [0, 0, 0, 0, 0, 0, 0, 0, 0, 0, 0, 0, 0, 0\\n0, 0, 0, 0, 0, 0, 0, 0, 0, 0, 0, 0, 0, 0\\n0, 0, 0, 0, 0, 0, 0, 0, 0, 0, 0, 0, 0, 0\\n0, 0, 0, 0, 0, 0, 0, 0, 0, 0, 0, 0, 0, 0\\n0, 0, 0, 0, 0, 1, 0, 0, 0, 0, 0, 0, 0, 0\\n0, 0, 0, 0, 0, 0, 0, 0, 0, 0, 0, 0, 0, 0\\n0, 0, 0, 0, 0, 0, 0, 0, 0, 0, 0, 0, 0, 0\\n0, 0, 0, 0, 0, 0, 0, 0]'),\n",
              " Text(0.391304347826087, 0.6166666666666667, 'gini = 0.0\\nsamples = 1\\nvalue = [0, 0, 0, 0, 0, 0, 0, 0, 0, 0, 0, 0, 0, 0\\n0, 0, 0, 0, 0, 0, 0, 0, 0, 0, 0, 0, 0, 0\\n0, 0, 0, 0, 0, 0, 0, 0, 0, 0, 0, 0, 0, 0\\n0, 0, 0, 0, 0, 0, 1, 0, 0, 0, 0, 0, 0, 0\\n0, 0, 0, 0, 0, 0, 0, 0, 0, 0, 0, 0, 0, 0\\n0, 0, 0, 0, 0, 0, 0, 0, 0, 0, 0, 0, 0, 0\\n0, 0, 0, 0, 0, 0, 0, 0, 0, 0, 0, 0, 0, 0\\n0, 0, 0, 0, 0, 0, 0, 0]'),\n",
              " Text(0.391304347826087, 0.6833333333333333, 'gini = 0.0\\nsamples = 2\\nvalue = [0, 0, 0, 0, 0, 0, 0, 0, 0, 0, 0, 0, 0, 0\\n0, 0, 0, 0, 0, 0, 0, 0, 0, 0, 0, 0, 0, 0\\n0, 0, 0, 0, 0, 0, 0, 0, 0, 0, 0, 0, 0, 0\\n0, 0, 0, 2, 0, 0, 0, 0, 0, 0, 0, 0, 0, 0\\n0, 0, 0, 0, 0, 0, 0, 0, 0, 0, 0, 0, 0, 0\\n0, 0, 0, 0, 0, 0, 0, 0, 0, 0, 0, 0, 0, 0\\n0, 0, 0, 0, 0, 0, 0, 0, 0, 0, 0, 0, 0, 0\\n0, 0, 0, 0, 0, 0, 0, 0]'),\n",
              " Text(0.40217391304347827, 0.7166666666666667, 'gini = 0.0\\nsamples = 2\\nvalue = [0, 0, 0, 0, 0, 0, 0, 0, 0, 0, 0, 0, 0, 0\\n0, 0, 0, 0, 0, 0, 0, 0, 0, 0, 0, 0, 0, 2\\n0, 0, 0, 0, 0, 0, 0, 0, 0, 0, 0, 0, 0, 0\\n0, 0, 0, 0, 0, 0, 0, 0, 0, 0, 0, 0, 0, 0\\n0, 0, 0, 0, 0, 0, 0, 0, 0, 0, 0, 0, 0, 0\\n0, 0, 0, 0, 0, 0, 0, 0, 0, 0, 0, 0, 0, 0\\n0, 0, 0, 0, 0, 0, 0, 0, 0, 0, 0, 0, 0, 0\\n0, 0, 0, 0, 0, 0, 0, 0]'),\n",
              " Text(0.44021739130434784, 0.8833333333333333, 'X[7] <= 0.57\\ngini = 0.908\\nsamples = 14\\nvalue = [0, 0, 0, 0, 0, 0, 0, 0, 0, 0, 0, 0, 0, 0\\n0, 0, 0, 0, 0, 0, 0, 0, 0, 0, 0, 0, 1, 0\\n1, 1, 0, 0, 2, 0, 0, 0, 1, 1, 0, 0, 1, 0\\n0, 0, 1, 0, 1, 0, 0, 1, 0, 0, 0, 0, 0, 0\\n0, 0, 0, 0, 0, 0, 2, 0, 0, 0, 0, 0, 0, 0\\n0, 0, 1, 0, 0, 0, 0, 0, 0, 0, 0, 0, 0, 0\\n0, 0, 0, 0, 0, 0, 0, 0, 0, 0, 0, 0, 0, 0\\n0, 0, 0, 0, 0, 0, 0, 0]'),\n",
              " Text(0.41304347826086957, 0.85, 'X[6] <= 0.9\\ngini = 0.893\\nsamples = 11\\nvalue = [0, 0, 0, 0, 0, 0, 0, 0, 0, 0, 0, 0, 0, 0\\n0, 0, 0, 0, 0, 0, 0, 0, 0, 0, 0, 0, 1, 0\\n1, 1, 0, 0, 0, 0, 0, 0, 1, 1, 0, 0, 1, 0\\n0, 0, 1, 0, 1, 0, 0, 1, 0, 0, 0, 0, 0, 0\\n0, 0, 0, 0, 0, 0, 2, 0, 0, 0, 0, 0, 0, 0\\n0, 0, 0, 0, 0, 0, 0, 0, 0, 0, 0, 0, 0, 0\\n0, 0, 0, 0, 0, 0, 0, 0, 0, 0, 0, 0, 0, 0\\n0, 0, 0, 0, 0, 0, 0, 0]'),\n",
              " Text(0.391304347826087, 0.8166666666666667, 'X[7] <= 0.48\\ngini = 0.444\\nsamples = 3\\nvalue = [0, 0, 0, 0, 0, 0, 0, 0, 0, 0, 0, 0, 0, 0\\n0, 0, 0, 0, 0, 0, 0, 0, 0, 0, 0, 0, 0, 0\\n0, 0, 0, 0, 0, 0, 0, 0, 0, 0, 0, 0, 1, 0\\n0, 0, 0, 0, 0, 0, 0, 0, 0, 0, 0, 0, 0, 0\\n0, 0, 0, 0, 0, 0, 2, 0, 0, 0, 0, 0, 0, 0\\n0, 0, 0, 0, 0, 0, 0, 0, 0, 0, 0, 0, 0, 0\\n0, 0, 0, 0, 0, 0, 0, 0, 0, 0, 0, 0, 0, 0\\n0, 0, 0, 0, 0, 0, 0, 0]'),\n",
              " Text(0.3804347826086957, 0.7833333333333333, 'gini = 0.0\\nsamples = 2\\nvalue = [0, 0, 0, 0, 0, 0, 0, 0, 0, 0, 0, 0, 0, 0\\n0, 0, 0, 0, 0, 0, 0, 0, 0, 0, 0, 0, 0, 0\\n0, 0, 0, 0, 0, 0, 0, 0, 0, 0, 0, 0, 0, 0\\n0, 0, 0, 0, 0, 0, 0, 0, 0, 0, 0, 0, 0, 0\\n0, 0, 0, 0, 0, 0, 2, 0, 0, 0, 0, 0, 0, 0\\n0, 0, 0, 0, 0, 0, 0, 0, 0, 0, 0, 0, 0, 0\\n0, 0, 0, 0, 0, 0, 0, 0, 0, 0, 0, 0, 0, 0\\n0, 0, 0, 0, 0, 0, 0, 0]'),\n",
              " Text(0.40217391304347827, 0.7833333333333333, 'gini = 0.0\\nsamples = 1\\nvalue = [0, 0, 0, 0, 0, 0, 0, 0, 0, 0, 0, 0, 0, 0\\n0, 0, 0, 0, 0, 0, 0, 0, 0, 0, 0, 0, 0, 0\\n0, 0, 0, 0, 0, 0, 0, 0, 0, 0, 0, 0, 1, 0\\n0, 0, 0, 0, 0, 0, 0, 0, 0, 0, 0, 0, 0, 0\\n0, 0, 0, 0, 0, 0, 0, 0, 0, 0, 0, 0, 0, 0\\n0, 0, 0, 0, 0, 0, 0, 0, 0, 0, 0, 0, 0, 0\\n0, 0, 0, 0, 0, 0, 0, 0, 0, 0, 0, 0, 0, 0\\n0, 0, 0, 0, 0, 0, 0, 0]'),\n",
              " Text(0.43478260869565216, 0.8166666666666667, 'X[4] <= 85.5\\ngini = 0.875\\nsamples = 8\\nvalue = [0, 0, 0, 0, 0, 0, 0, 0, 0, 0, 0, 0, 0, 0\\n0, 0, 0, 0, 0, 0, 0, 0, 0, 0, 0, 0, 1, 0\\n1, 1, 0, 0, 0, 0, 0, 0, 1, 1, 0, 0, 0, 0\\n0, 0, 1, 0, 1, 0, 0, 1, 0, 0, 0, 0, 0, 0\\n0, 0, 0, 0, 0, 0, 0, 0, 0, 0, 0, 0, 0, 0\\n0, 0, 0, 0, 0, 0, 0, 0, 0, 0, 0, 0, 0, 0\\n0, 0, 0, 0, 0, 0, 0, 0, 0, 0, 0, 0, 0, 0\\n0, 0, 0, 0, 0, 0, 0, 0]'),\n",
              " Text(0.42391304347826086, 0.7833333333333333, 'gini = 0.0\\nsamples = 1\\nvalue = [0, 0, 0, 0, 0, 0, 0, 0, 0, 0, 0, 0, 0, 0\\n0, 0, 0, 0, 0, 0, 0, 0, 0, 0, 0, 0, 0, 0\\n1, 0, 0, 0, 0, 0, 0, 0, 0, 0, 0, 0, 0, 0\\n0, 0, 0, 0, 0, 0, 0, 0, 0, 0, 0, 0, 0, 0\\n0, 0, 0, 0, 0, 0, 0, 0, 0, 0, 0, 0, 0, 0\\n0, 0, 0, 0, 0, 0, 0, 0, 0, 0, 0, 0, 0, 0\\n0, 0, 0, 0, 0, 0, 0, 0, 0, 0, 0, 0, 0, 0\\n0, 0, 0, 0, 0, 0, 0, 0]'),\n",
              " Text(0.44565217391304346, 0.7833333333333333, 'X[5] <= 1.275\\ngini = 0.857\\nsamples = 7\\nvalue = [0, 0, 0, 0, 0, 0, 0, 0, 0, 0, 0, 0, 0, 0\\n0, 0, 0, 0, 0, 0, 0, 0, 0, 0, 0, 0, 1, 0\\n0, 1, 0, 0, 0, 0, 0, 0, 1, 1, 0, 0, 0, 0\\n0, 0, 1, 0, 1, 0, 0, 1, 0, 0, 0, 0, 0, 0\\n0, 0, 0, 0, 0, 0, 0, 0, 0, 0, 0, 0, 0, 0\\n0, 0, 0, 0, 0, 0, 0, 0, 0, 0, 0, 0, 0, 0\\n0, 0, 0, 0, 0, 0, 0, 0, 0, 0, 0, 0, 0, 0\\n0, 0, 0, 0, 0, 0, 0, 0]'),\n",
              " Text(0.43478260869565216, 0.75, 'gini = 0.0\\nsamples = 1\\nvalue = [0, 0, 0, 0, 0, 0, 0, 0, 0, 0, 0, 0, 0, 0\\n0, 0, 0, 0, 0, 0, 0, 0, 0, 0, 0, 0, 0, 0\\n0, 0, 0, 0, 0, 0, 0, 0, 1, 0, 0, 0, 0, 0\\n0, 0, 0, 0, 0, 0, 0, 0, 0, 0, 0, 0, 0, 0\\n0, 0, 0, 0, 0, 0, 0, 0, 0, 0, 0, 0, 0, 0\\n0, 0, 0, 0, 0, 0, 0, 0, 0, 0, 0, 0, 0, 0\\n0, 0, 0, 0, 0, 0, 0, 0, 0, 0, 0, 0, 0, 0\\n0, 0, 0, 0, 0, 0, 0, 0]'),\n",
              " Text(0.45652173913043476, 0.75, 'X[0] <= 12.525\\ngini = 0.833\\nsamples = 6\\nvalue = [0, 0, 0, 0, 0, 0, 0, 0, 0, 0, 0, 0, 0, 0\\n0, 0, 0, 0, 0, 0, 0, 0, 0, 0, 0, 0, 1, 0\\n0, 1, 0, 0, 0, 0, 0, 0, 0, 1, 0, 0, 0, 0\\n0, 0, 1, 0, 1, 0, 0, 1, 0, 0, 0, 0, 0, 0\\n0, 0, 0, 0, 0, 0, 0, 0, 0, 0, 0, 0, 0, 0\\n0, 0, 0, 0, 0, 0, 0, 0, 0, 0, 0, 0, 0, 0\\n0, 0, 0, 0, 0, 0, 0, 0, 0, 0, 0, 0, 0, 0\\n0, 0, 0, 0, 0, 0, 0, 0]'),\n",
              " Text(0.44565217391304346, 0.7166666666666667, 'gini = 0.0\\nsamples = 1\\nvalue = [0, 0, 0, 0, 0, 0, 0, 0, 0, 0, 0, 0, 0, 0\\n0, 0, 0, 0, 0, 0, 0, 0, 0, 0, 0, 0, 0, 0\\n0, 0, 0, 0, 0, 0, 0, 0, 0, 1, 0, 0, 0, 0\\n0, 0, 0, 0, 0, 0, 0, 0, 0, 0, 0, 0, 0, 0\\n0, 0, 0, 0, 0, 0, 0, 0, 0, 0, 0, 0, 0, 0\\n0, 0, 0, 0, 0, 0, 0, 0, 0, 0, 0, 0, 0, 0\\n0, 0, 0, 0, 0, 0, 0, 0, 0, 0, 0, 0, 0, 0\\n0, 0, 0, 0, 0, 0, 0, 0]'),\n",
              " Text(0.4673913043478261, 0.7166666666666667, 'X[0] <= 13.44\\ngini = 0.8\\nsamples = 5\\nvalue = [0, 0, 0, 0, 0, 0, 0, 0, 0, 0, 0, 0, 0, 0\\n0, 0, 0, 0, 0, 0, 0, 0, 0, 0, 0, 0, 1, 0\\n0, 1, 0, 0, 0, 0, 0, 0, 0, 0, 0, 0, 0, 0\\n0, 0, 1, 0, 1, 0, 0, 1, 0, 0, 0, 0, 0, 0\\n0, 0, 0, 0, 0, 0, 0, 0, 0, 0, 0, 0, 0, 0\\n0, 0, 0, 0, 0, 0, 0, 0, 0, 0, 0, 0, 0, 0\\n0, 0, 0, 0, 0, 0, 0, 0, 0, 0, 0, 0, 0, 0\\n0, 0, 0, 0, 0, 0, 0, 0]'),\n",
              " Text(0.45652173913043476, 0.6833333333333333, 'gini = 0.0\\nsamples = 1\\nvalue = [0, 0, 0, 0, 0, 0, 0, 0, 0, 0, 0, 0, 0, 0\\n0, 0, 0, 0, 0, 0, 0, 0, 0, 0, 0, 0, 0, 0\\n0, 0, 0, 0, 0, 0, 0, 0, 0, 0, 0, 0, 0, 0\\n0, 0, 0, 0, 1, 0, 0, 0, 0, 0, 0, 0, 0, 0\\n0, 0, 0, 0, 0, 0, 0, 0, 0, 0, 0, 0, 0, 0\\n0, 0, 0, 0, 0, 0, 0, 0, 0, 0, 0, 0, 0, 0\\n0, 0, 0, 0, 0, 0, 0, 0, 0, 0, 0, 0, 0, 0\\n0, 0, 0, 0, 0, 0, 0, 0]'),\n",
              " Text(0.4782608695652174, 0.6833333333333333, 'X[7] <= 0.245\\ngini = 0.75\\nsamples = 4\\nvalue = [0, 0, 0, 0, 0, 0, 0, 0, 0, 0, 0, 0, 0, 0\\n0, 0, 0, 0, 0, 0, 0, 0, 0, 0, 0, 0, 1, 0\\n0, 1, 0, 0, 0, 0, 0, 0, 0, 0, 0, 0, 0, 0\\n0, 0, 1, 0, 0, 0, 0, 1, 0, 0, 0, 0, 0, 0\\n0, 0, 0, 0, 0, 0, 0, 0, 0, 0, 0, 0, 0, 0\\n0, 0, 0, 0, 0, 0, 0, 0, 0, 0, 0, 0, 0, 0\\n0, 0, 0, 0, 0, 0, 0, 0, 0, 0, 0, 0, 0, 0\\n0, 0, 0, 0, 0, 0, 0, 0]'),\n",
              " Text(0.4673913043478261, 0.65, 'gini = 0.0\\nsamples = 1\\nvalue = [0, 0, 0, 0, 0, 0, 0, 0, 0, 0, 0, 0, 0, 0\\n0, 0, 0, 0, 0, 0, 0, 0, 0, 0, 0, 0, 0, 0\\n0, 1, 0, 0, 0, 0, 0, 0, 0, 0, 0, 0, 0, 0\\n0, 0, 0, 0, 0, 0, 0, 0, 0, 0, 0, 0, 0, 0\\n0, 0, 0, 0, 0, 0, 0, 0, 0, 0, 0, 0, 0, 0\\n0, 0, 0, 0, 0, 0, 0, 0, 0, 0, 0, 0, 0, 0\\n0, 0, 0, 0, 0, 0, 0, 0, 0, 0, 0, 0, 0, 0\\n0, 0, 0, 0, 0, 0, 0, 0]'),\n",
              " Text(0.4891304347826087, 0.65, 'X[1] <= 1.665\\ngini = 0.667\\nsamples = 3\\nvalue = [0, 0, 0, 0, 0, 0, 0, 0, 0, 0, 0, 0, 0, 0\\n0, 0, 0, 0, 0, 0, 0, 0, 0, 0, 0, 0, 1, 0\\n0, 0, 0, 0, 0, 0, 0, 0, 0, 0, 0, 0, 0, 0\\n0, 0, 1, 0, 0, 0, 0, 1, 0, 0, 0, 0, 0, 0\\n0, 0, 0, 0, 0, 0, 0, 0, 0, 0, 0, 0, 0, 0\\n0, 0, 0, 0, 0, 0, 0, 0, 0, 0, 0, 0, 0, 0\\n0, 0, 0, 0, 0, 0, 0, 0, 0, 0, 0, 0, 0, 0\\n0, 0, 0, 0, 0, 0, 0, 0]'),\n",
              " Text(0.4782608695652174, 0.6166666666666667, 'gini = 0.0\\nsamples = 1\\nvalue = [0, 0, 0, 0, 0, 0, 0, 0, 0, 0, 0, 0, 0, 0\\n0, 0, 0, 0, 0, 0, 0, 0, 0, 0, 0, 0, 1, 0\\n0, 0, 0, 0, 0, 0, 0, 0, 0, 0, 0, 0, 0, 0\\n0, 0, 0, 0, 0, 0, 0, 0, 0, 0, 0, 0, 0, 0\\n0, 0, 0, 0, 0, 0, 0, 0, 0, 0, 0, 0, 0, 0\\n0, 0, 0, 0, 0, 0, 0, 0, 0, 0, 0, 0, 0, 0\\n0, 0, 0, 0, 0, 0, 0, 0, 0, 0, 0, 0, 0, 0\\n0, 0, 0, 0, 0, 0, 0, 0]'),\n",
              " Text(0.5, 0.6166666666666667, 'X[8] <= 2.495\\ngini = 0.5\\nsamples = 2\\nvalue = [0, 0, 0, 0, 0, 0, 0, 0, 0, 0, 0, 0, 0, 0\\n0, 0, 0, 0, 0, 0, 0, 0, 0, 0, 0, 0, 0, 0\\n0, 0, 0, 0, 0, 0, 0, 0, 0, 0, 0, 0, 0, 0\\n0, 0, 1, 0, 0, 0, 0, 1, 0, 0, 0, 0, 0, 0\\n0, 0, 0, 0, 0, 0, 0, 0, 0, 0, 0, 0, 0, 0\\n0, 0, 0, 0, 0, 0, 0, 0, 0, 0, 0, 0, 0, 0\\n0, 0, 0, 0, 0, 0, 0, 0, 0, 0, 0, 0, 0, 0\\n0, 0, 0, 0, 0, 0, 0, 0]'),\n",
              " Text(0.4891304347826087, 0.5833333333333334, 'gini = 0.0\\nsamples = 1\\nvalue = [0, 0, 0, 0, 0, 0, 0, 0, 0, 0, 0, 0, 0, 0\\n0, 0, 0, 0, 0, 0, 0, 0, 0, 0, 0, 0, 0, 0\\n0, 0, 0, 0, 0, 0, 0, 0, 0, 0, 0, 0, 0, 0\\n0, 0, 1, 0, 0, 0, 0, 0, 0, 0, 0, 0, 0, 0\\n0, 0, 0, 0, 0, 0, 0, 0, 0, 0, 0, 0, 0, 0\\n0, 0, 0, 0, 0, 0, 0, 0, 0, 0, 0, 0, 0, 0\\n0, 0, 0, 0, 0, 0, 0, 0, 0, 0, 0, 0, 0, 0\\n0, 0, 0, 0, 0, 0, 0, 0]'),\n",
              " Text(0.5108695652173914, 0.5833333333333334, 'gini = 0.0\\nsamples = 1\\nvalue = [0, 0, 0, 0, 0, 0, 0, 0, 0, 0, 0, 0, 0, 0\\n0, 0, 0, 0, 0, 0, 0, 0, 0, 0, 0, 0, 0, 0\\n0, 0, 0, 0, 0, 0, 0, 0, 0, 0, 0, 0, 0, 0\\n0, 0, 0, 0, 0, 0, 0, 1, 0, 0, 0, 0, 0, 0\\n0, 0, 0, 0, 0, 0, 0, 0, 0, 0, 0, 0, 0, 0\\n0, 0, 0, 0, 0, 0, 0, 0, 0, 0, 0, 0, 0, 0\\n0, 0, 0, 0, 0, 0, 0, 0, 0, 0, 0, 0, 0, 0\\n0, 0, 0, 0, 0, 0, 0, 0]'),\n",
              " Text(0.4673913043478261, 0.85, 'X[1] <= 3.445\\ngini = 0.444\\nsamples = 3\\nvalue = [0, 0, 0, 0, 0, 0, 0, 0, 0, 0, 0, 0, 0, 0\\n0, 0, 0, 0, 0, 0, 0, 0, 0, 0, 0, 0, 0, 0\\n0, 0, 0, 0, 2, 0, 0, 0, 0, 0, 0, 0, 0, 0\\n0, 0, 0, 0, 0, 0, 0, 0, 0, 0, 0, 0, 0, 0\\n0, 0, 0, 0, 0, 0, 0, 0, 0, 0, 0, 0, 0, 0\\n0, 0, 1, 0, 0, 0, 0, 0, 0, 0, 0, 0, 0, 0\\n0, 0, 0, 0, 0, 0, 0, 0, 0, 0, 0, 0, 0, 0\\n0, 0, 0, 0, 0, 0, 0, 0]'),\n",
              " Text(0.45652173913043476, 0.8166666666666667, 'gini = 0.0\\nsamples = 1\\nvalue = [0, 0, 0, 0, 0, 0, 0, 0, 0, 0, 0, 0, 0, 0\\n0, 0, 0, 0, 0, 0, 0, 0, 0, 0, 0, 0, 0, 0\\n0, 0, 0, 0, 0, 0, 0, 0, 0, 0, 0, 0, 0, 0\\n0, 0, 0, 0, 0, 0, 0, 0, 0, 0, 0, 0, 0, 0\\n0, 0, 0, 0, 0, 0, 0, 0, 0, 0, 0, 0, 0, 0\\n0, 0, 1, 0, 0, 0, 0, 0, 0, 0, 0, 0, 0, 0\\n0, 0, 0, 0, 0, 0, 0, 0, 0, 0, 0, 0, 0, 0\\n0, 0, 0, 0, 0, 0, 0, 0]'),\n",
              " Text(0.4782608695652174, 0.8166666666666667, 'gini = 0.0\\nsamples = 2\\nvalue = [0, 0, 0, 0, 0, 0, 0, 0, 0, 0, 0, 0, 0, 0\\n0, 0, 0, 0, 0, 0, 0, 0, 0, 0, 0, 0, 0, 0\\n0, 0, 0, 0, 2, 0, 0, 0, 0, 0, 0, 0, 0, 0\\n0, 0, 0, 0, 0, 0, 0, 0, 0, 0, 0, 0, 0, 0\\n0, 0, 0, 0, 0, 0, 0, 0, 0, 0, 0, 0, 0, 0\\n0, 0, 0, 0, 0, 0, 0, 0, 0, 0, 0, 0, 0, 0\\n0, 0, 0, 0, 0, 0, 0, 0, 0, 0, 0, 0, 0, 0\\n0, 0, 0, 0, 0, 0, 0, 0]'),\n",
              " Text(0.7207880434782609, 0.95, 'X[4] <= 81.0\\ngini = 0.983\\nsamples = 77\\nvalue = [1, 1, 1, 0, 1, 1, 1, 1, 0, 1, 0, 1, 1, 1\\n1, 1, 1, 1, 0, 0, 1, 1, 0, 1, 1, 0, 0, 0\\n0, 0, 1, 2, 0, 0, 0, 0, 0, 1, 0, 0, 0, 0\\n1, 0, 0, 1, 0, 0, 0, 1, 0, 0, 1, 2, 0, 0\\n1, 1, 0, 0, 1, 0, 0, 1, 0, 1, 1, 0, 0, 2\\n0, 0, 0, 1, 1, 1, 1, 1, 2, 1, 1, 1, 3, 1\\n1, 1, 1, 1, 2, 1, 1, 1, 1, 1, 1, 1, 1, 1\\n2, 3, 1, 1, 1, 1, 1, 1]'),\n",
              " Text(0.6494565217391305, 0.9166666666666666, 'X[5] <= 2.545\\ngini = 0.444\\nsamples = 3\\nvalue = [0, 0, 0, 0, 0, 0, 0, 0, 0, 0, 0, 0, 0, 0\\n0, 0, 0, 0, 0, 0, 0, 0, 0, 0, 0, 0, 0, 0\\n0, 0, 1, 2, 0, 0, 0, 0, 0, 0, 0, 0, 0, 0\\n0, 0, 0, 0, 0, 0, 0, 0, 0, 0, 0, 0, 0, 0\\n0, 0, 0, 0, 0, 0, 0, 0, 0, 0, 0, 0, 0, 0\\n0, 0, 0, 0, 0, 0, 0, 0, 0, 0, 0, 0, 0, 0\\n0, 0, 0, 0, 0, 0, 0, 0, 0, 0, 0, 0, 0, 0\\n0, 0, 0, 0, 0, 0, 0, 0]'),\n",
              " Text(0.6385869565217391, 0.8833333333333333, 'gini = 0.0\\nsamples = 2\\nvalue = [0, 0, 0, 0, 0, 0, 0, 0, 0, 0, 0, 0, 0, 0\\n0, 0, 0, 0, 0, 0, 0, 0, 0, 0, 0, 0, 0, 0\\n0, 0, 0, 2, 0, 0, 0, 0, 0, 0, 0, 0, 0, 0\\n0, 0, 0, 0, 0, 0, 0, 0, 0, 0, 0, 0, 0, 0\\n0, 0, 0, 0, 0, 0, 0, 0, 0, 0, 0, 0, 0, 0\\n0, 0, 0, 0, 0, 0, 0, 0, 0, 0, 0, 0, 0, 0\\n0, 0, 0, 0, 0, 0, 0, 0, 0, 0, 0, 0, 0, 0\\n0, 0, 0, 0, 0, 0, 0, 0]'),\n",
              " Text(0.6603260869565217, 0.8833333333333333, 'gini = 0.0\\nsamples = 1\\nvalue = [0, 0, 0, 0, 0, 0, 0, 0, 0, 0, 0, 0, 0, 0\\n0, 0, 0, 0, 0, 0, 0, 0, 0, 0, 0, 0, 0, 0\\n0, 0, 1, 0, 0, 0, 0, 0, 0, 0, 0, 0, 0, 0\\n0, 0, 0, 0, 0, 0, 0, 0, 0, 0, 0, 0, 0, 0\\n0, 0, 0, 0, 0, 0, 0, 0, 0, 0, 0, 0, 0, 0\\n0, 0, 0, 0, 0, 0, 0, 0, 0, 0, 0, 0, 0, 0\\n0, 0, 0, 0, 0, 0, 0, 0, 0, 0, 0, 0, 0, 0\\n0, 0, 0, 0, 0, 0, 0, 0]'),\n",
              " Text(0.7921195652173914, 0.9166666666666666, 'X[0] <= 14.11\\ngini = 0.982\\nsamples = 74\\nvalue = [1, 1, 1, 0, 1, 1, 1, 1, 0, 1, 0, 1, 1, 1\\n1, 1, 1, 1, 0, 0, 1, 1, 0, 1, 1, 0, 0, 0\\n0, 0, 0, 0, 0, 0, 0, 0, 0, 1, 0, 0, 0, 0\\n1, 0, 0, 1, 0, 0, 0, 1, 0, 0, 1, 2, 0, 0\\n1, 1, 0, 0, 1, 0, 0, 1, 0, 1, 1, 0, 0, 2\\n0, 0, 0, 1, 1, 1, 1, 1, 2, 1, 1, 1, 3, 1\\n1, 1, 1, 1, 2, 1, 1, 1, 1, 1, 1, 1, 1, 1\\n2, 3, 1, 1, 1, 1, 1, 1]'),\n",
              " Text(0.6820652173913043, 0.8833333333333333, 'X[0] <= 13.295\\ngini = 0.981\\nsamples = 67\\nvalue = [1, 1, 1, 0, 1, 1, 1, 1, 0, 1, 0, 1, 1, 1\\n1, 1, 1, 1, 0, 0, 1, 1, 0, 1, 1, 0, 0, 0\\n0, 0, 0, 0, 0, 0, 0, 0, 0, 1, 0, 0, 0, 0\\n1, 0, 0, 1, 0, 0, 0, 1, 0, 0, 1, 2, 0, 0\\n1, 1, 0, 0, 1, 0, 0, 1, 0, 1, 1, 0, 0, 2\\n0, 0, 0, 1, 1, 1, 1, 0, 2, 1, 1, 1, 3, 1\\n1, 1, 0, 0, 2, 1, 1, 1, 1, 1, 1, 1, 1, 1\\n0, 3, 0, 1, 1, 0, 1, 1]'),\n",
              " Text(0.595108695652174, 0.85, 'X[10] <= 0.965\\ngini = 0.974\\nsamples = 40\\nvalue = [1, 1, 1, 0, 1, 1, 1, 1, 0, 1, 0, 1, 1, 1\\n1, 1, 1, 0, 0, 0, 1, 1, 0, 1, 1, 0, 0, 0\\n0, 0, 0, 0, 0, 0, 0, 0, 0, 1, 0, 0, 0, 0\\n1, 0, 0, 1, 0, 0, 0, 1, 0, 0, 1, 2, 0, 0\\n1, 1, 0, 0, 1, 0, 0, 1, 0, 0, 1, 0, 0, 0\\n0, 0, 0, 1, 0, 0, 1, 0, 1, 0, 1, 1, 0, 0\\n1, 0, 0, 0, 0, 1, 0, 0, 1, 1, 0, 0, 0, 1\\n0, 0, 0, 0, 0, 0, 0, 0]'),\n",
              " Text(0.5489130434782609, 0.8166666666666667, 'X[3] <= 20.5\\ngini = 0.918\\nsamples = 14\\nvalue = [0, 0, 1, 0, 1, 1, 0, 1, 0, 1, 0, 1, 1, 1\\n0, 0, 0, 0, 0, 0, 0, 1, 0, 1, 0, 0, 0, 0\\n0, 0, 0, 0, 0, 0, 0, 0, 0, 1, 0, 0, 0, 0\\n0, 0, 0, 1, 0, 0, 0, 0, 0, 0, 0, 2, 0, 0\\n0, 0, 0, 0, 0, 0, 0, 0, 0, 0, 0, 0, 0, 0\\n0, 0, 0, 0, 0, 0, 0, 0, 0, 0, 0, 0, 0, 0\\n0, 0, 0, 0, 0, 0, 0, 0, 0, 0, 0, 0, 0, 0\\n0, 0, 0, 0, 0, 0, 0, 0]'),\n",
              " Text(0.5217391304347826, 0.7833333333333333, 'X[5] <= 2.82\\ngini = 0.72\\nsamples = 5\\nvalue = [0, 0, 1, 0, 0, 0, 0, 0, 0, 0, 0, 0, 0, 0\\n0, 0, 0, 0, 0, 0, 0, 0, 0, 0, 0, 0, 0, 0\\n0, 0, 0, 0, 0, 0, 0, 0, 0, 1, 0, 0, 0, 0\\n0, 0, 0, 1, 0, 0, 0, 0, 0, 0, 0, 2, 0, 0\\n0, 0, 0, 0, 0, 0, 0, 0, 0, 0, 0, 0, 0, 0\\n0, 0, 0, 0, 0, 0, 0, 0, 0, 0, 0, 0, 0, 0\\n0, 0, 0, 0, 0, 0, 0, 0, 0, 0, 0, 0, 0, 0\\n0, 0, 0, 0, 0, 0, 0, 0]'),\n",
              " Text(0.5, 0.75, 'X[6] <= 2.335\\ngini = 0.444\\nsamples = 3\\nvalue = [0, 0, 1, 0, 0, 0, 0, 0, 0, 0, 0, 0, 0, 0\\n0, 0, 0, 0, 0, 0, 0, 0, 0, 0, 0, 0, 0, 0\\n0, 0, 0, 0, 0, 0, 0, 0, 0, 0, 0, 0, 0, 0\\n0, 0, 0, 0, 0, 0, 0, 0, 0, 0, 0, 2, 0, 0\\n0, 0, 0, 0, 0, 0, 0, 0, 0, 0, 0, 0, 0, 0\\n0, 0, 0, 0, 0, 0, 0, 0, 0, 0, 0, 0, 0, 0\\n0, 0, 0, 0, 0, 0, 0, 0, 0, 0, 0, 0, 0, 0\\n0, 0, 0, 0, 0, 0, 0, 0]'),\n",
              " Text(0.4891304347826087, 0.7166666666666667, 'gini = 0.0\\nsamples = 1\\nvalue = [0, 0, 1, 0, 0, 0, 0, 0, 0, 0, 0, 0, 0, 0\\n0, 0, 0, 0, 0, 0, 0, 0, 0, 0, 0, 0, 0, 0\\n0, 0, 0, 0, 0, 0, 0, 0, 0, 0, 0, 0, 0, 0\\n0, 0, 0, 0, 0, 0, 0, 0, 0, 0, 0, 0, 0, 0\\n0, 0, 0, 0, 0, 0, 0, 0, 0, 0, 0, 0, 0, 0\\n0, 0, 0, 0, 0, 0, 0, 0, 0, 0, 0, 0, 0, 0\\n0, 0, 0, 0, 0, 0, 0, 0, 0, 0, 0, 0, 0, 0\\n0, 0, 0, 0, 0, 0, 0, 0]'),\n",
              " Text(0.5108695652173914, 0.7166666666666667, 'gini = 0.0\\nsamples = 2\\nvalue = [0, 0, 0, 0, 0, 0, 0, 0, 0, 0, 0, 0, 0, 0\\n0, 0, 0, 0, 0, 0, 0, 0, 0, 0, 0, 0, 0, 0\\n0, 0, 0, 0, 0, 0, 0, 0, 0, 0, 0, 0, 0, 0\\n0, 0, 0, 0, 0, 0, 0, 0, 0, 0, 0, 2, 0, 0\\n0, 0, 0, 0, 0, 0, 0, 0, 0, 0, 0, 0, 0, 0\\n0, 0, 0, 0, 0, 0, 0, 0, 0, 0, 0, 0, 0, 0\\n0, 0, 0, 0, 0, 0, 0, 0, 0, 0, 0, 0, 0, 0\\n0, 0, 0, 0, 0, 0, 0, 0]'),\n",
              " Text(0.5434782608695652, 0.75, 'X[3] <= 19.75\\ngini = 0.5\\nsamples = 2\\nvalue = [0, 0, 0, 0, 0, 0, 0, 0, 0, 0, 0, 0, 0, 0\\n0, 0, 0, 0, 0, 0, 0, 0, 0, 0, 0, 0, 0, 0\\n0, 0, 0, 0, 0, 0, 0, 0, 0, 1, 0, 0, 0, 0\\n0, 0, 0, 1, 0, 0, 0, 0, 0, 0, 0, 0, 0, 0\\n0, 0, 0, 0, 0, 0, 0, 0, 0, 0, 0, 0, 0, 0\\n0, 0, 0, 0, 0, 0, 0, 0, 0, 0, 0, 0, 0, 0\\n0, 0, 0, 0, 0, 0, 0, 0, 0, 0, 0, 0, 0, 0\\n0, 0, 0, 0, 0, 0, 0, 0]'),\n",
              " Text(0.532608695652174, 0.7166666666666667, 'gini = 0.0\\nsamples = 1\\nvalue = [0, 0, 0, 0, 0, 0, 0, 0, 0, 0, 0, 0, 0, 0\\n0, 0, 0, 0, 0, 0, 0, 0, 0, 0, 0, 0, 0, 0\\n0, 0, 0, 0, 0, 0, 0, 0, 0, 1, 0, 0, 0, 0\\n0, 0, 0, 0, 0, 0, 0, 0, 0, 0, 0, 0, 0, 0\\n0, 0, 0, 0, 0, 0, 0, 0, 0, 0, 0, 0, 0, 0\\n0, 0, 0, 0, 0, 0, 0, 0, 0, 0, 0, 0, 0, 0\\n0, 0, 0, 0, 0, 0, 0, 0, 0, 0, 0, 0, 0, 0\\n0, 0, 0, 0, 0, 0, 0, 0]'),\n",
              " Text(0.5543478260869565, 0.7166666666666667, 'gini = 0.0\\nsamples = 1\\nvalue = [0, 0, 0, 0, 0, 0, 0, 0, 0, 0, 0, 0, 0, 0\\n0, 0, 0, 0, 0, 0, 0, 0, 0, 0, 0, 0, 0, 0\\n0, 0, 0, 0, 0, 0, 0, 0, 0, 0, 0, 0, 0, 0\\n0, 0, 0, 1, 0, 0, 0, 0, 0, 0, 0, 0, 0, 0\\n0, 0, 0, 0, 0, 0, 0, 0, 0, 0, 0, 0, 0, 0\\n0, 0, 0, 0, 0, 0, 0, 0, 0, 0, 0, 0, 0, 0\\n0, 0, 0, 0, 0, 0, 0, 0, 0, 0, 0, 0, 0, 0\\n0, 0, 0, 0, 0, 0, 0, 0]'),\n",
              " Text(0.5760869565217391, 0.7833333333333333, 'X[9] <= 2.04\\ngini = 0.889\\nsamples = 9\\nvalue = [0, 0, 0, 0, 1, 1, 0, 1, 0, 1, 0, 1, 1, 1\\n0, 0, 0, 0, 0, 0, 0, 1, 0, 1, 0, 0, 0, 0\\n0, 0, 0, 0, 0, 0, 0, 0, 0, 0, 0, 0, 0, 0\\n0, 0, 0, 0, 0, 0, 0, 0, 0, 0, 0, 0, 0, 0\\n0, 0, 0, 0, 0, 0, 0, 0, 0, 0, 0, 0, 0, 0\\n0, 0, 0, 0, 0, 0, 0, 0, 0, 0, 0, 0, 0, 0\\n0, 0, 0, 0, 0, 0, 0, 0, 0, 0, 0, 0, 0, 0\\n0, 0, 0, 0, 0, 0, 0, 0]'),\n",
              " Text(0.5652173913043478, 0.75, 'gini = 0.0\\nsamples = 1\\nvalue = [0, 0, 0, 0, 1, 0, 0, 0, 0, 0, 0, 0, 0, 0\\n0, 0, 0, 0, 0, 0, 0, 0, 0, 0, 0, 0, 0, 0\\n0, 0, 0, 0, 0, 0, 0, 0, 0, 0, 0, 0, 0, 0\\n0, 0, 0, 0, 0, 0, 0, 0, 0, 0, 0, 0, 0, 0\\n0, 0, 0, 0, 0, 0, 0, 0, 0, 0, 0, 0, 0, 0\\n0, 0, 0, 0, 0, 0, 0, 0, 0, 0, 0, 0, 0, 0\\n0, 0, 0, 0, 0, 0, 0, 0, 0, 0, 0, 0, 0, 0\\n0, 0, 0, 0, 0, 0, 0, 0]'),\n",
              " Text(0.5869565217391305, 0.75, 'X[10] <= 0.72\\ngini = 0.875\\nsamples = 8\\nvalue = [0, 0, 0, 0, 0, 1, 0, 1, 0, 1, 0, 1, 1, 1\\n0, 0, 0, 0, 0, 0, 0, 1, 0, 1, 0, 0, 0, 0\\n0, 0, 0, 0, 0, 0, 0, 0, 0, 0, 0, 0, 0, 0\\n0, 0, 0, 0, 0, 0, 0, 0, 0, 0, 0, 0, 0, 0\\n0, 0, 0, 0, 0, 0, 0, 0, 0, 0, 0, 0, 0, 0\\n0, 0, 0, 0, 0, 0, 0, 0, 0, 0, 0, 0, 0, 0\\n0, 0, 0, 0, 0, 0, 0, 0, 0, 0, 0, 0, 0, 0\\n0, 0, 0, 0, 0, 0, 0, 0]'),\n",
              " Text(0.5760869565217391, 0.7166666666666667, 'gini = 0.0\\nsamples = 1\\nvalue = [0, 0, 0, 0, 0, 0, 0, 1, 0, 0, 0, 0, 0, 0\\n0, 0, 0, 0, 0, 0, 0, 0, 0, 0, 0, 0, 0, 0\\n0, 0, 0, 0, 0, 0, 0, 0, 0, 0, 0, 0, 0, 0\\n0, 0, 0, 0, 0, 0, 0, 0, 0, 0, 0, 0, 0, 0\\n0, 0, 0, 0, 0, 0, 0, 0, 0, 0, 0, 0, 0, 0\\n0, 0, 0, 0, 0, 0, 0, 0, 0, 0, 0, 0, 0, 0\\n0, 0, 0, 0, 0, 0, 0, 0, 0, 0, 0, 0, 0, 0\\n0, 0, 0, 0, 0, 0, 0, 0]'),\n",
              " Text(0.5978260869565217, 0.7166666666666667, 'X[6] <= 2.12\\ngini = 0.857\\nsamples = 7\\nvalue = [0, 0, 0, 0, 0, 1, 0, 0, 0, 1, 0, 1, 1, 1\\n0, 0, 0, 0, 0, 0, 0, 1, 0, 1, 0, 0, 0, 0\\n0, 0, 0, 0, 0, 0, 0, 0, 0, 0, 0, 0, 0, 0\\n0, 0, 0, 0, 0, 0, 0, 0, 0, 0, 0, 0, 0, 0\\n0, 0, 0, 0, 0, 0, 0, 0, 0, 0, 0, 0, 0, 0\\n0, 0, 0, 0, 0, 0, 0, 0, 0, 0, 0, 0, 0, 0\\n0, 0, 0, 0, 0, 0, 0, 0, 0, 0, 0, 0, 0, 0\\n0, 0, 0, 0, 0, 0, 0, 0]'),\n",
              " Text(0.5869565217391305, 0.6833333333333333, 'gini = 0.0\\nsamples = 1\\nvalue = [0, 0, 0, 0, 0, 0, 0, 0, 0, 0, 0, 0, 0, 0\\n0, 0, 0, 0, 0, 0, 0, 1, 0, 0, 0, 0, 0, 0\\n0, 0, 0, 0, 0, 0, 0, 0, 0, 0, 0, 0, 0, 0\\n0, 0, 0, 0, 0, 0, 0, 0, 0, 0, 0, 0, 0, 0\\n0, 0, 0, 0, 0, 0, 0, 0, 0, 0, 0, 0, 0, 0\\n0, 0, 0, 0, 0, 0, 0, 0, 0, 0, 0, 0, 0, 0\\n0, 0, 0, 0, 0, 0, 0, 0, 0, 0, 0, 0, 0, 0\\n0, 0, 0, 0, 0, 0, 0, 0]'),\n",
              " Text(0.6086956521739131, 0.6833333333333333, 'X[6] <= 2.21\\ngini = 0.833\\nsamples = 6\\nvalue = [0, 0, 0, 0, 0, 1, 0, 0, 0, 1, 0, 1, 1, 1\\n0, 0, 0, 0, 0, 0, 0, 0, 0, 1, 0, 0, 0, 0\\n0, 0, 0, 0, 0, 0, 0, 0, 0, 0, 0, 0, 0, 0\\n0, 0, 0, 0, 0, 0, 0, 0, 0, 0, 0, 0, 0, 0\\n0, 0, 0, 0, 0, 0, 0, 0, 0, 0, 0, 0, 0, 0\\n0, 0, 0, 0, 0, 0, 0, 0, 0, 0, 0, 0, 0, 0\\n0, 0, 0, 0, 0, 0, 0, 0, 0, 0, 0, 0, 0, 0\\n0, 0, 0, 0, 0, 0, 0, 0]'),\n",
              " Text(0.5978260869565217, 0.65, 'gini = 0.0\\nsamples = 1\\nvalue = [0, 0, 0, 0, 0, 0, 0, 0, 0, 1, 0, 0, 0, 0\\n0, 0, 0, 0, 0, 0, 0, 0, 0, 0, 0, 0, 0, 0\\n0, 0, 0, 0, 0, 0, 0, 0, 0, 0, 0, 0, 0, 0\\n0, 0, 0, 0, 0, 0, 0, 0, 0, 0, 0, 0, 0, 0\\n0, 0, 0, 0, 0, 0, 0, 0, 0, 0, 0, 0, 0, 0\\n0, 0, 0, 0, 0, 0, 0, 0, 0, 0, 0, 0, 0, 0\\n0, 0, 0, 0, 0, 0, 0, 0, 0, 0, 0, 0, 0, 0\\n0, 0, 0, 0, 0, 0, 0, 0]'),\n",
              " Text(0.6195652173913043, 0.65, 'X[9] <= 2.44\\ngini = 0.8\\nsamples = 5\\nvalue = [0, 0, 0, 0, 0, 1, 0, 0, 0, 0, 0, 1, 1, 1\\n0, 0, 0, 0, 0, 0, 0, 0, 0, 1, 0, 0, 0, 0\\n0, 0, 0, 0, 0, 0, 0, 0, 0, 0, 0, 0, 0, 0\\n0, 0, 0, 0, 0, 0, 0, 0, 0, 0, 0, 0, 0, 0\\n0, 0, 0, 0, 0, 0, 0, 0, 0, 0, 0, 0, 0, 0\\n0, 0, 0, 0, 0, 0, 0, 0, 0, 0, 0, 0, 0, 0\\n0, 0, 0, 0, 0, 0, 0, 0, 0, 0, 0, 0, 0, 0\\n0, 0, 0, 0, 0, 0, 0, 0]'),\n",
              " Text(0.6086956521739131, 0.6166666666666667, 'gini = 0.0\\nsamples = 1\\nvalue = [0, 0, 0, 0, 0, 1, 0, 0, 0, 0, 0, 0, 0, 0\\n0, 0, 0, 0, 0, 0, 0, 0, 0, 0, 0, 0, 0, 0\\n0, 0, 0, 0, 0, 0, 0, 0, 0, 0, 0, 0, 0, 0\\n0, 0, 0, 0, 0, 0, 0, 0, 0, 0, 0, 0, 0, 0\\n0, 0, 0, 0, 0, 0, 0, 0, 0, 0, 0, 0, 0, 0\\n0, 0, 0, 0, 0, 0, 0, 0, 0, 0, 0, 0, 0, 0\\n0, 0, 0, 0, 0, 0, 0, 0, 0, 0, 0, 0, 0, 0\\n0, 0, 0, 0, 0, 0, 0, 0]'),\n",
              " Text(0.6304347826086957, 0.6166666666666667, 'X[11] <= 3.235\\ngini = 0.75\\nsamples = 4\\nvalue = [0, 0, 0, 0, 0, 0, 0, 0, 0, 0, 0, 1, 1, 1\\n0, 0, 0, 0, 0, 0, 0, 0, 0, 1, 0, 0, 0, 0\\n0, 0, 0, 0, 0, 0, 0, 0, 0, 0, 0, 0, 0, 0\\n0, 0, 0, 0, 0, 0, 0, 0, 0, 0, 0, 0, 0, 0\\n0, 0, 0, 0, 0, 0, 0, 0, 0, 0, 0, 0, 0, 0\\n0, 0, 0, 0, 0, 0, 0, 0, 0, 0, 0, 0, 0, 0\\n0, 0, 0, 0, 0, 0, 0, 0, 0, 0, 0, 0, 0, 0\\n0, 0, 0, 0, 0, 0, 0, 0]'),\n",
              " Text(0.6195652173913043, 0.5833333333333334, 'gini = 0.0\\nsamples = 1\\nvalue = [0, 0, 0, 0, 0, 0, 0, 0, 0, 0, 0, 0, 0, 1\\n0, 0, 0, 0, 0, 0, 0, 0, 0, 0, 0, 0, 0, 0\\n0, 0, 0, 0, 0, 0, 0, 0, 0, 0, 0, 0, 0, 0\\n0, 0, 0, 0, 0, 0, 0, 0, 0, 0, 0, 0, 0, 0\\n0, 0, 0, 0, 0, 0, 0, 0, 0, 0, 0, 0, 0, 0\\n0, 0, 0, 0, 0, 0, 0, 0, 0, 0, 0, 0, 0, 0\\n0, 0, 0, 0, 0, 0, 0, 0, 0, 0, 0, 0, 0, 0\\n0, 0, 0, 0, 0, 0, 0, 0]'),\n",
              " Text(0.6413043478260869, 0.5833333333333334, 'X[7] <= 0.29\\ngini = 0.667\\nsamples = 3\\nvalue = [0, 0, 0, 0, 0, 0, 0, 0, 0, 0, 0, 1, 1, 0\\n0, 0, 0, 0, 0, 0, 0, 0, 0, 1, 0, 0, 0, 0\\n0, 0, 0, 0, 0, 0, 0, 0, 0, 0, 0, 0, 0, 0\\n0, 0, 0, 0, 0, 0, 0, 0, 0, 0, 0, 0, 0, 0\\n0, 0, 0, 0, 0, 0, 0, 0, 0, 0, 0, 0, 0, 0\\n0, 0, 0, 0, 0, 0, 0, 0, 0, 0, 0, 0, 0, 0\\n0, 0, 0, 0, 0, 0, 0, 0, 0, 0, 0, 0, 0, 0\\n0, 0, 0, 0, 0, 0, 0, 0]'),\n",
              " Text(0.6304347826086957, 0.55, 'gini = 0.0\\nsamples = 1\\nvalue = [0, 0, 0, 0, 0, 0, 0, 0, 0, 0, 0, 0, 1, 0\\n0, 0, 0, 0, 0, 0, 0, 0, 0, 0, 0, 0, 0, 0\\n0, 0, 0, 0, 0, 0, 0, 0, 0, 0, 0, 0, 0, 0\\n0, 0, 0, 0, 0, 0, 0, 0, 0, 0, 0, 0, 0, 0\\n0, 0, 0, 0, 0, 0, 0, 0, 0, 0, 0, 0, 0, 0\\n0, 0, 0, 0, 0, 0, 0, 0, 0, 0, 0, 0, 0, 0\\n0, 0, 0, 0, 0, 0, 0, 0, 0, 0, 0, 0, 0, 0\\n0, 0, 0, 0, 0, 0, 0, 0]'),\n",
              " Text(0.6521739130434783, 0.55, 'X[9] <= 4.38\\ngini = 0.5\\nsamples = 2\\nvalue = [0, 0, 0, 0, 0, 0, 0, 0, 0, 0, 0, 1, 0, 0\\n0, 0, 0, 0, 0, 0, 0, 0, 0, 1, 0, 0, 0, 0\\n0, 0, 0, 0, 0, 0, 0, 0, 0, 0, 0, 0, 0, 0\\n0, 0, 0, 0, 0, 0, 0, 0, 0, 0, 0, 0, 0, 0\\n0, 0, 0, 0, 0, 0, 0, 0, 0, 0, 0, 0, 0, 0\\n0, 0, 0, 0, 0, 0, 0, 0, 0, 0, 0, 0, 0, 0\\n0, 0, 0, 0, 0, 0, 0, 0, 0, 0, 0, 0, 0, 0\\n0, 0, 0, 0, 0, 0, 0, 0]'),\n",
              " Text(0.6413043478260869, 0.5166666666666667, 'gini = 0.0\\nsamples = 1\\nvalue = [0, 0, 0, 0, 0, 0, 0, 0, 0, 0, 0, 1, 0, 0\\n0, 0, 0, 0, 0, 0, 0, 0, 0, 0, 0, 0, 0, 0\\n0, 0, 0, 0, 0, 0, 0, 0, 0, 0, 0, 0, 0, 0\\n0, 0, 0, 0, 0, 0, 0, 0, 0, 0, 0, 0, 0, 0\\n0, 0, 0, 0, 0, 0, 0, 0, 0, 0, 0, 0, 0, 0\\n0, 0, 0, 0, 0, 0, 0, 0, 0, 0, 0, 0, 0, 0\\n0, 0, 0, 0, 0, 0, 0, 0, 0, 0, 0, 0, 0, 0\\n0, 0, 0, 0, 0, 0, 0, 0]'),\n",
              " Text(0.6630434782608695, 0.5166666666666667, 'gini = 0.0\\nsamples = 1\\nvalue = [0, 0, 0, 0, 0, 0, 0, 0, 0, 0, 0, 0, 0, 0\\n0, 0, 0, 0, 0, 0, 0, 0, 0, 1, 0, 0, 0, 0\\n0, 0, 0, 0, 0, 0, 0, 0, 0, 0, 0, 0, 0, 0\\n0, 0, 0, 0, 0, 0, 0, 0, 0, 0, 0, 0, 0, 0\\n0, 0, 0, 0, 0, 0, 0, 0, 0, 0, 0, 0, 0, 0\\n0, 0, 0, 0, 0, 0, 0, 0, 0, 0, 0, 0, 0, 0\\n0, 0, 0, 0, 0, 0, 0, 0, 0, 0, 0, 0, 0, 0\\n0, 0, 0, 0, 0, 0, 0, 0]'),\n",
              " Text(0.6413043478260869, 0.8166666666666667, 'X[3] <= 11.8\\ngini = 0.962\\nsamples = 26\\nvalue = [1, 1, 0, 0, 0, 0, 1, 0, 0, 0, 0, 0, 0, 0\\n1, 1, 1, 0, 0, 0, 1, 0, 0, 0, 1, 0, 0, 0\\n0, 0, 0, 0, 0, 0, 0, 0, 0, 0, 0, 0, 0, 0\\n1, 0, 0, 0, 0, 0, 0, 1, 0, 0, 1, 0, 0, 0\\n1, 1, 0, 0, 1, 0, 0, 1, 0, 0, 1, 0, 0, 0\\n0, 0, 0, 1, 0, 0, 1, 0, 1, 0, 1, 1, 0, 0\\n1, 0, 0, 0, 0, 1, 0, 0, 1, 1, 0, 0, 0, 1\\n0, 0, 0, 0, 0, 0, 0, 0]'),\n",
              " Text(0.6304347826086957, 0.7833333333333333, 'gini = 0.0\\nsamples = 1\\nvalue = [0, 0, 0, 0, 0, 0, 0, 0, 0, 0, 0, 0, 0, 0\\n0, 0, 0, 0, 0, 0, 0, 0, 0, 0, 0, 0, 0, 0\\n0, 0, 0, 0, 0, 0, 0, 0, 0, 0, 0, 0, 0, 0\\n0, 0, 0, 0, 0, 0, 0, 0, 0, 0, 0, 0, 0, 0\\n0, 0, 0, 0, 0, 0, 0, 0, 0, 0, 0, 0, 0, 0\\n0, 0, 0, 0, 0, 0, 0, 0, 0, 0, 0, 0, 0, 0\\n1, 0, 0, 0, 0, 0, 0, 0, 0, 0, 0, 0, 0, 0\\n0, 0, 0, 0, 0, 0, 0, 0]'),\n",
              " Text(0.6521739130434783, 0.7833333333333333, 'X[2] <= 1.705\\ngini = 0.96\\nsamples = 25\\nvalue = [1, 1, 0, 0, 0, 0, 1, 0, 0, 0, 0, 0, 0, 0\\n1, 1, 1, 0, 0, 0, 1, 0, 0, 0, 1, 0, 0, 0\\n0, 0, 0, 0, 0, 0, 0, 0, 0, 0, 0, 0, 0, 0\\n1, 0, 0, 0, 0, 0, 0, 1, 0, 0, 1, 0, 0, 0\\n1, 1, 0, 0, 1, 0, 0, 1, 0, 0, 1, 0, 0, 0\\n0, 0, 0, 1, 0, 0, 1, 0, 1, 0, 1, 1, 0, 0\\n0, 0, 0, 0, 0, 1, 0, 0, 1, 1, 0, 0, 0, 1\\n0, 0, 0, 0, 0, 0, 0, 0]'),\n",
              " Text(0.6413043478260869, 0.75, 'gini = 0.0\\nsamples = 1\\nvalue = [0, 0, 0, 0, 0, 0, 0, 0, 0, 0, 0, 0, 0, 0\\n0, 0, 0, 0, 0, 0, 0, 0, 0, 0, 0, 0, 0, 0\\n0, 0, 0, 0, 0, 0, 0, 0, 0, 0, 0, 0, 0, 0\\n0, 0, 0, 0, 0, 0, 0, 0, 0, 0, 0, 0, 0, 0\\n1, 0, 0, 0, 0, 0, 0, 0, 0, 0, 0, 0, 0, 0\\n0, 0, 0, 0, 0, 0, 0, 0, 0, 0, 0, 0, 0, 0\\n0, 0, 0, 0, 0, 0, 0, 0, 0, 0, 0, 0, 0, 0\\n0, 0, 0, 0, 0, 0, 0, 0]'),\n",
              " Text(0.6630434782608695, 0.75, 'X[8] <= 1.21\\ngini = 0.958\\nsamples = 24\\nvalue = [1, 1, 0, 0, 0, 0, 1, 0, 0, 0, 0, 0, 0, 0\\n1, 1, 1, 0, 0, 0, 1, 0, 0, 0, 1, 0, 0, 0\\n0, 0, 0, 0, 0, 0, 0, 0, 0, 0, 0, 0, 0, 0\\n1, 0, 0, 0, 0, 0, 0, 1, 0, 0, 1, 0, 0, 0\\n0, 1, 0, 0, 1, 0, 0, 1, 0, 0, 1, 0, 0, 0\\n0, 0, 0, 1, 0, 0, 1, 0, 1, 0, 1, 1, 0, 0\\n0, 0, 0, 0, 0, 1, 0, 0, 1, 1, 0, 0, 0, 1\\n0, 0, 0, 0, 0, 0, 0, 0]'),\n",
              " Text(0.6521739130434783, 0.7166666666666667, 'gini = 0.0\\nsamples = 1\\nvalue = [0, 0, 0, 0, 0, 0, 0, 0, 0, 0, 0, 0, 0, 0\\n0, 0, 0, 0, 0, 0, 0, 0, 0, 0, 0, 0, 0, 0\\n0, 0, 0, 0, 0, 0, 0, 0, 0, 0, 0, 0, 0, 0\\n1, 0, 0, 0, 0, 0, 0, 0, 0, 0, 0, 0, 0, 0\\n0, 0, 0, 0, 0, 0, 0, 0, 0, 0, 0, 0, 0, 0\\n0, 0, 0, 0, 0, 0, 0, 0, 0, 0, 0, 0, 0, 0\\n0, 0, 0, 0, 0, 0, 0, 0, 0, 0, 0, 0, 0, 0\\n0, 0, 0, 0, 0, 0, 0, 0]'),\n",
              " Text(0.6739130434782609, 0.7166666666666667, 'X[1] <= 0.82\\ngini = 0.957\\nsamples = 23\\nvalue = [1, 1, 0, 0, 0, 0, 1, 0, 0, 0, 0, 0, 0, 0\\n1, 1, 1, 0, 0, 0, 1, 0, 0, 0, 1, 0, 0, 0\\n0, 0, 0, 0, 0, 0, 0, 0, 0, 0, 0, 0, 0, 0\\n0, 0, 0, 0, 0, 0, 0, 1, 0, 0, 1, 0, 0, 0\\n0, 1, 0, 0, 1, 0, 0, 1, 0, 0, 1, 0, 0, 0\\n0, 0, 0, 1, 0, 0, 1, 0, 1, 0, 1, 1, 0, 0\\n0, 0, 0, 0, 0, 1, 0, 0, 1, 1, 0, 0, 0, 1\\n0, 0, 0, 0, 0, 0, 0, 0]'),\n",
              " Text(0.6630434782608695, 0.6833333333333333, 'gini = 0.0\\nsamples = 1\\nvalue = [0, 0, 0, 0, 0, 0, 0, 0, 0, 0, 0, 0, 0, 0\\n0, 0, 0, 0, 0, 0, 1, 0, 0, 0, 0, 0, 0, 0\\n0, 0, 0, 0, 0, 0, 0, 0, 0, 0, 0, 0, 0, 0\\n0, 0, 0, 0, 0, 0, 0, 0, 0, 0, 0, 0, 0, 0\\n0, 0, 0, 0, 0, 0, 0, 0, 0, 0, 0, 0, 0, 0\\n0, 0, 0, 0, 0, 0, 0, 0, 0, 0, 0, 0, 0, 0\\n0, 0, 0, 0, 0, 0, 0, 0, 0, 0, 0, 0, 0, 0\\n0, 0, 0, 0, 0, 0, 0, 0]'),\n",
              " Text(0.6847826086956522, 0.6833333333333333, 'X[5] <= 1.975\\ngini = 0.955\\nsamples = 22\\nvalue = [1, 1, 0, 0, 0, 0, 1, 0, 0, 0, 0, 0, 0, 0\\n1, 1, 1, 0, 0, 0, 0, 0, 0, 0, 1, 0, 0, 0\\n0, 0, 0, 0, 0, 0, 0, 0, 0, 0, 0, 0, 0, 0\\n0, 0, 0, 0, 0, 0, 0, 1, 0, 0, 1, 0, 0, 0\\n0, 1, 0, 0, 1, 0, 0, 1, 0, 0, 1, 0, 0, 0\\n0, 0, 0, 1, 0, 0, 1, 0, 1, 0, 1, 1, 0, 0\\n0, 0, 0, 0, 0, 1, 0, 0, 1, 1, 0, 0, 0, 1\\n0, 0, 0, 0, 0, 0, 0, 0]'),\n",
              " Text(0.6739130434782609, 0.65, 'gini = 0.0\\nsamples = 1\\nvalue = [0, 0, 0, 0, 0, 0, 0, 0, 0, 0, 0, 0, 0, 0\\n1, 0, 0, 0, 0, 0, 0, 0, 0, 0, 0, 0, 0, 0\\n0, 0, 0, 0, 0, 0, 0, 0, 0, 0, 0, 0, 0, 0\\n0, 0, 0, 0, 0, 0, 0, 0, 0, 0, 0, 0, 0, 0\\n0, 0, 0, 0, 0, 0, 0, 0, 0, 0, 0, 0, 0, 0\\n0, 0, 0, 0, 0, 0, 0, 0, 0, 0, 0, 0, 0, 0\\n0, 0, 0, 0, 0, 0, 0, 0, 0, 0, 0, 0, 0, 0\\n0, 0, 0, 0, 0, 0, 0, 0]'),\n",
              " Text(0.6956521739130435, 0.65, 'X[4] <= 85.5\\ngini = 0.952\\nsamples = 21\\nvalue = [1, 1, 0, 0, 0, 0, 1, 0, 0, 0, 0, 0, 0, 0\\n0, 1, 1, 0, 0, 0, 0, 0, 0, 0, 1, 0, 0, 0\\n0, 0, 0, 0, 0, 0, 0, 0, 0, 0, 0, 0, 0, 0\\n0, 0, 0, 0, 0, 0, 0, 1, 0, 0, 1, 0, 0, 0\\n0, 1, 0, 0, 1, 0, 0, 1, 0, 0, 1, 0, 0, 0\\n0, 0, 0, 1, 0, 0, 1, 0, 1, 0, 1, 1, 0, 0\\n0, 0, 0, 0, 0, 1, 0, 0, 1, 1, 0, 0, 0, 1\\n0, 0, 0, 0, 0, 0, 0, 0]'),\n",
              " Text(0.6847826086956522, 0.6166666666666667, 'gini = 0.0\\nsamples = 1\\nvalue = [0, 0, 0, 0, 0, 0, 0, 0, 0, 0, 0, 0, 0, 0\\n0, 0, 1, 0, 0, 0, 0, 0, 0, 0, 0, 0, 0, 0\\n0, 0, 0, 0, 0, 0, 0, 0, 0, 0, 0, 0, 0, 0\\n0, 0, 0, 0, 0, 0, 0, 0, 0, 0, 0, 0, 0, 0\\n0, 0, 0, 0, 0, 0, 0, 0, 0, 0, 0, 0, 0, 0\\n0, 0, 0, 0, 0, 0, 0, 0, 0, 0, 0, 0, 0, 0\\n0, 0, 0, 0, 0, 0, 0, 0, 0, 0, 0, 0, 0, 0\\n0, 0, 0, 0, 0, 0, 0, 0]'),\n",
              " Text(0.7065217391304348, 0.6166666666666667, 'X[4] <= 87.0\\ngini = 0.95\\nsamples = 20\\nvalue = [1, 1, 0, 0, 0, 0, 1, 0, 0, 0, 0, 0, 0, 0\\n0, 1, 0, 0, 0, 0, 0, 0, 0, 0, 1, 0, 0, 0\\n0, 0, 0, 0, 0, 0, 0, 0, 0, 0, 0, 0, 0, 0\\n0, 0, 0, 0, 0, 0, 0, 1, 0, 0, 1, 0, 0, 0\\n0, 1, 0, 0, 1, 0, 0, 1, 0, 0, 1, 0, 0, 0\\n0, 0, 0, 1, 0, 0, 1, 0, 1, 0, 1, 1, 0, 0\\n0, 0, 0, 0, 0, 1, 0, 0, 1, 1, 0, 0, 0, 1\\n0, 0, 0, 0, 0, 0, 0, 0]'),\n",
              " Text(0.6847826086956522, 0.5833333333333334, 'X[6] <= 2.395\\ngini = 0.5\\nsamples = 2\\nvalue = [1, 0, 0, 0, 0, 0, 0, 0, 0, 0, 0, 0, 0, 0\\n0, 0, 0, 0, 0, 0, 0, 0, 0, 0, 0, 0, 0, 0\\n0, 0, 0, 0, 0, 0, 0, 0, 0, 0, 0, 0, 0, 0\\n0, 0, 0, 0, 0, 0, 0, 0, 0, 0, 0, 0, 0, 0\\n0, 1, 0, 0, 0, 0, 0, 0, 0, 0, 0, 0, 0, 0\\n0, 0, 0, 0, 0, 0, 0, 0, 0, 0, 0, 0, 0, 0\\n0, 0, 0, 0, 0, 0, 0, 0, 0, 0, 0, 0, 0, 0\\n0, 0, 0, 0, 0, 0, 0, 0]'),\n",
              " Text(0.6739130434782609, 0.55, 'gini = 0.0\\nsamples = 1\\nvalue = [1, 0, 0, 0, 0, 0, 0, 0, 0, 0, 0, 0, 0, 0\\n0, 0, 0, 0, 0, 0, 0, 0, 0, 0, 0, 0, 0, 0\\n0, 0, 0, 0, 0, 0, 0, 0, 0, 0, 0, 0, 0, 0\\n0, 0, 0, 0, 0, 0, 0, 0, 0, 0, 0, 0, 0, 0\\n0, 0, 0, 0, 0, 0, 0, 0, 0, 0, 0, 0, 0, 0\\n0, 0, 0, 0, 0, 0, 0, 0, 0, 0, 0, 0, 0, 0\\n0, 0, 0, 0, 0, 0, 0, 0, 0, 0, 0, 0, 0, 0\\n0, 0, 0, 0, 0, 0, 0, 0]'),\n",
              " Text(0.6956521739130435, 0.55, 'gini = 0.0\\nsamples = 1\\nvalue = [0, 0, 0, 0, 0, 0, 0, 0, 0, 0, 0, 0, 0, 0\\n0, 0, 0, 0, 0, 0, 0, 0, 0, 0, 0, 0, 0, 0\\n0, 0, 0, 0, 0, 0, 0, 0, 0, 0, 0, 0, 0, 0\\n0, 0, 0, 0, 0, 0, 0, 0, 0, 0, 0, 0, 0, 0\\n0, 1, 0, 0, 0, 0, 0, 0, 0, 0, 0, 0, 0, 0\\n0, 0, 0, 0, 0, 0, 0, 0, 0, 0, 0, 0, 0, 0\\n0, 0, 0, 0, 0, 0, 0, 0, 0, 0, 0, 0, 0, 0\\n0, 0, 0, 0, 0, 0, 0, 0]'),\n",
              " Text(0.7282608695652174, 0.5833333333333334, 'X[1] <= 1.08\\ngini = 0.944\\nsamples = 18\\nvalue = [0, 1, 0, 0, 0, 0, 1, 0, 0, 0, 0, 0, 0, 0\\n0, 1, 0, 0, 0, 0, 0, 0, 0, 0, 1, 0, 0, 0\\n0, 0, 0, 0, 0, 0, 0, 0, 0, 0, 0, 0, 0, 0\\n0, 0, 0, 0, 0, 0, 0, 1, 0, 0, 1, 0, 0, 0\\n0, 0, 0, 0, 1, 0, 0, 1, 0, 0, 1, 0, 0, 0\\n0, 0, 0, 1, 0, 0, 1, 0, 1, 0, 1, 1, 0, 0\\n0, 0, 0, 0, 0, 1, 0, 0, 1, 1, 0, 0, 0, 1\\n0, 0, 0, 0, 0, 0, 0, 0]'),\n",
              " Text(0.717391304347826, 0.55, 'gini = 0.0\\nsamples = 1\\nvalue = [0, 0, 0, 0, 0, 0, 0, 0, 0, 0, 0, 0, 0, 0\\n0, 0, 0, 0, 0, 0, 0, 0, 0, 0, 0, 0, 0, 0\\n0, 0, 0, 0, 0, 0, 0, 0, 0, 0, 0, 0, 0, 0\\n0, 0, 0, 0, 0, 0, 0, 1, 0, 0, 0, 0, 0, 0\\n0, 0, 0, 0, 0, 0, 0, 0, 0, 0, 0, 0, 0, 0\\n0, 0, 0, 0, 0, 0, 0, 0, 0, 0, 0, 0, 0, 0\\n0, 0, 0, 0, 0, 0, 0, 0, 0, 0, 0, 0, 0, 0\\n0, 0, 0, 0, 0, 0, 0, 0]'),\n",
              " Text(0.7391304347826086, 0.55, 'X[2] <= 2.07\\ngini = 0.941\\nsamples = 17\\nvalue = [0, 1, 0, 0, 0, 0, 1, 0, 0, 0, 0, 0, 0, 0\\n0, 1, 0, 0, 0, 0, 0, 0, 0, 0, 1, 0, 0, 0\\n0, 0, 0, 0, 0, 0, 0, 0, 0, 0, 0, 0, 0, 0\\n0, 0, 0, 0, 0, 0, 0, 0, 0, 0, 1, 0, 0, 0\\n0, 0, 0, 0, 1, 0, 0, 1, 0, 0, 1, 0, 0, 0\\n0, 0, 0, 1, 0, 0, 1, 0, 1, 0, 1, 1, 0, 0\\n0, 0, 0, 0, 0, 1, 0, 0, 1, 1, 0, 0, 0, 1\\n0, 0, 0, 0, 0, 0, 0, 0]'),\n",
              " Text(0.7282608695652174, 0.5166666666666667, 'gini = 0.0\\nsamples = 1\\nvalue = [0, 0, 0, 0, 0, 0, 0, 0, 0, 0, 0, 0, 0, 0\\n0, 0, 0, 0, 0, 0, 0, 0, 0, 0, 0, 0, 0, 0\\n0, 0, 0, 0, 0, 0, 0, 0, 0, 0, 0, 0, 0, 0\\n0, 0, 0, 0, 0, 0, 0, 0, 0, 0, 0, 0, 0, 0\\n0, 0, 0, 0, 0, 0, 0, 0, 0, 0, 0, 0, 0, 0\\n0, 0, 0, 0, 0, 0, 0, 0, 0, 0, 0, 0, 0, 0\\n0, 0, 0, 0, 0, 0, 0, 0, 1, 0, 0, 0, 0, 0\\n0, 0, 0, 0, 0, 0, 0, 0]'),\n",
              " Text(0.75, 0.5166666666666667, 'X[11] <= 2.37\\ngini = 0.938\\nsamples = 16\\nvalue = [0, 1, 0, 0, 0, 0, 1, 0, 0, 0, 0, 0, 0, 0\\n0, 1, 0, 0, 0, 0, 0, 0, 0, 0, 1, 0, 0, 0\\n0, 0, 0, 0, 0, 0, 0, 0, 0, 0, 0, 0, 0, 0\\n0, 0, 0, 0, 0, 0, 0, 0, 0, 0, 1, 0, 0, 0\\n0, 0, 0, 0, 1, 0, 0, 1, 0, 0, 1, 0, 0, 0\\n0, 0, 0, 1, 0, 0, 1, 0, 1, 0, 1, 1, 0, 0\\n0, 0, 0, 0, 0, 1, 0, 0, 0, 1, 0, 0, 0, 1\\n0, 0, 0, 0, 0, 0, 0, 0]'),\n",
              " Text(0.7391304347826086, 0.48333333333333334, 'gini = 0.0\\nsamples = 1\\nvalue = [0, 0, 0, 0, 0, 0, 0, 0, 0, 0, 0, 0, 0, 0\\n0, 0, 0, 0, 0, 0, 0, 0, 0, 0, 0, 0, 0, 0\\n0, 0, 0, 0, 0, 0, 0, 0, 0, 0, 0, 0, 0, 0\\n0, 0, 0, 0, 0, 0, 0, 0, 0, 0, 1, 0, 0, 0\\n0, 0, 0, 0, 0, 0, 0, 0, 0, 0, 0, 0, 0, 0\\n0, 0, 0, 0, 0, 0, 0, 0, 0, 0, 0, 0, 0, 0\\n0, 0, 0, 0, 0, 0, 0, 0, 0, 0, 0, 0, 0, 0\\n0, 0, 0, 0, 0, 0, 0, 0]'),\n",
              " Text(0.7608695652173914, 0.48333333333333334, 'X[5] <= 2.065\\ngini = 0.933\\nsamples = 15\\nvalue = [0, 1, 0, 0, 0, 0, 1, 0, 0, 0, 0, 0, 0, 0\\n0, 1, 0, 0, 0, 0, 0, 0, 0, 0, 1, 0, 0, 0\\n0, 0, 0, 0, 0, 0, 0, 0, 0, 0, 0, 0, 0, 0\\n0, 0, 0, 0, 0, 0, 0, 0, 0, 0, 0, 0, 0, 0\\n0, 0, 0, 0, 1, 0, 0, 1, 0, 0, 1, 0, 0, 0\\n0, 0, 0, 1, 0, 0, 1, 0, 1, 0, 1, 1, 0, 0\\n0, 0, 0, 0, 0, 1, 0, 0, 0, 1, 0, 0, 0, 1\\n0, 0, 0, 0, 0, 0, 0, 0]'),\n",
              " Text(0.75, 0.45, 'gini = 0.0\\nsamples = 1\\nvalue = [0, 0, 0, 0, 0, 0, 1, 0, 0, 0, 0, 0, 0, 0\\n0, 0, 0, 0, 0, 0, 0, 0, 0, 0, 0, 0, 0, 0\\n0, 0, 0, 0, 0, 0, 0, 0, 0, 0, 0, 0, 0, 0\\n0, 0, 0, 0, 0, 0, 0, 0, 0, 0, 0, 0, 0, 0\\n0, 0, 0, 0, 0, 0, 0, 0, 0, 0, 0, 0, 0, 0\\n0, 0, 0, 0, 0, 0, 0, 0, 0, 0, 0, 0, 0, 0\\n0, 0, 0, 0, 0, 0, 0, 0, 0, 0, 0, 0, 0, 0\\n0, 0, 0, 0, 0, 0, 0, 0]'),\n",
              " Text(0.7717391304347826, 0.45, 'X[9] <= 2.225\\ngini = 0.929\\nsamples = 14\\nvalue = [0, 1, 0, 0, 0, 0, 0, 0, 0, 0, 0, 0, 0, 0\\n0, 1, 0, 0, 0, 0, 0, 0, 0, 0, 1, 0, 0, 0\\n0, 0, 0, 0, 0, 0, 0, 0, 0, 0, 0, 0, 0, 0\\n0, 0, 0, 0, 0, 0, 0, 0, 0, 0, 0, 0, 0, 0\\n0, 0, 0, 0, 1, 0, 0, 1, 0, 0, 1, 0, 0, 0\\n0, 0, 0, 1, 0, 0, 1, 0, 1, 0, 1, 1, 0, 0\\n0, 0, 0, 0, 0, 1, 0, 0, 0, 1, 0, 0, 0, 1\\n0, 0, 0, 0, 0, 0, 0, 0]'),\n",
              " Text(0.7608695652173914, 0.4166666666666667, 'gini = 0.0\\nsamples = 1\\nvalue = [0, 1, 0, 0, 0, 0, 0, 0, 0, 0, 0, 0, 0, 0\\n0, 0, 0, 0, 0, 0, 0, 0, 0, 0, 0, 0, 0, 0\\n0, 0, 0, 0, 0, 0, 0, 0, 0, 0, 0, 0, 0, 0\\n0, 0, 0, 0, 0, 0, 0, 0, 0, 0, 0, 0, 0, 0\\n0, 0, 0, 0, 0, 0, 0, 0, 0, 0, 0, 0, 0, 0\\n0, 0, 0, 0, 0, 0, 0, 0, 0, 0, 0, 0, 0, 0\\n0, 0, 0, 0, 0, 0, 0, 0, 0, 0, 0, 0, 0, 0\\n0, 0, 0, 0, 0, 0, 0, 0]'),\n",
              " Text(0.782608695652174, 0.4166666666666667, 'X[7] <= 0.17\\ngini = 0.923\\nsamples = 13\\nvalue = [0, 0, 0, 0, 0, 0, 0, 0, 0, 0, 0, 0, 0, 0\\n0, 1, 0, 0, 0, 0, 0, 0, 0, 0, 1, 0, 0, 0\\n0, 0, 0, 0, 0, 0, 0, 0, 0, 0, 0, 0, 0, 0\\n0, 0, 0, 0, 0, 0, 0, 0, 0, 0, 0, 0, 0, 0\\n0, 0, 0, 0, 1, 0, 0, 1, 0, 0, 1, 0, 0, 0\\n0, 0, 0, 1, 0, 0, 1, 0, 1, 0, 1, 1, 0, 0\\n0, 0, 0, 0, 0, 1, 0, 0, 0, 1, 0, 0, 0, 1\\n0, 0, 0, 0, 0, 0, 0, 0]'),\n",
              " Text(0.7717391304347826, 0.38333333333333336, 'gini = 0.0\\nsamples = 1\\nvalue = [0, 0, 0, 0, 0, 0, 0, 0, 0, 0, 0, 0, 0, 0\\n0, 0, 0, 0, 0, 0, 0, 0, 0, 0, 0, 0, 0, 0\\n0, 0, 0, 0, 0, 0, 0, 0, 0, 0, 0, 0, 0, 0\\n0, 0, 0, 0, 0, 0, 0, 0, 0, 0, 0, 0, 0, 0\\n0, 0, 0, 0, 0, 0, 0, 0, 0, 0, 0, 0, 0, 0\\n0, 0, 0, 1, 0, 0, 0, 0, 0, 0, 0, 0, 0, 0\\n0, 0, 0, 0, 0, 0, 0, 0, 0, 0, 0, 0, 0, 0\\n0, 0, 0, 0, 0, 0, 0, 0]'),\n",
              " Text(0.7934782608695652, 0.38333333333333336, 'X[8] <= 1.405\\ngini = 0.917\\nsamples = 12\\nvalue = [0, 0, 0, 0, 0, 0, 0, 0, 0, 0, 0, 0, 0, 0\\n0, 1, 0, 0, 0, 0, 0, 0, 0, 0, 1, 0, 0, 0\\n0, 0, 0, 0, 0, 0, 0, 0, 0, 0, 0, 0, 0, 0\\n0, 0, 0, 0, 0, 0, 0, 0, 0, 0, 0, 0, 0, 0\\n0, 0, 0, 0, 1, 0, 0, 1, 0, 0, 1, 0, 0, 0\\n0, 0, 0, 0, 0, 0, 1, 0, 1, 0, 1, 1, 0, 0\\n0, 0, 0, 0, 0, 1, 0, 0, 0, 1, 0, 0, 0, 1\\n0, 0, 0, 0, 0, 0, 0, 0]'),\n",
              " Text(0.782608695652174, 0.35, 'gini = 0.0\\nsamples = 1\\nvalue = [0, 0, 0, 0, 0, 0, 0, 0, 0, 0, 0, 0, 0, 0\\n0, 0, 0, 0, 0, 0, 0, 0, 0, 0, 0, 0, 0, 0\\n0, 0, 0, 0, 0, 0, 0, 0, 0, 0, 0, 0, 0, 0\\n0, 0, 0, 0, 0, 0, 0, 0, 0, 0, 0, 0, 0, 0\\n0, 0, 0, 0, 0, 0, 0, 0, 0, 0, 0, 0, 0, 0\\n0, 0, 0, 0, 0, 0, 0, 0, 0, 0, 0, 1, 0, 0\\n0, 0, 0, 0, 0, 0, 0, 0, 0, 0, 0, 0, 0, 0\\n0, 0, 0, 0, 0, 0, 0, 0]'),\n",
              " Text(0.8043478260869565, 0.35, 'X[0] <= 12.04\\ngini = 0.909\\nsamples = 11\\nvalue = [0, 0, 0, 0, 0, 0, 0, 0, 0, 0, 0, 0, 0, 0\\n0, 1, 0, 0, 0, 0, 0, 0, 0, 0, 1, 0, 0, 0\\n0, 0, 0, 0, 0, 0, 0, 0, 0, 0, 0, 0, 0, 0\\n0, 0, 0, 0, 0, 0, 0, 0, 0, 0, 0, 0, 0, 0\\n0, 0, 0, 0, 1, 0, 0, 1, 0, 0, 1, 0, 0, 0\\n0, 0, 0, 0, 0, 0, 1, 0, 1, 0, 1, 0, 0, 0\\n0, 0, 0, 0, 0, 1, 0, 0, 0, 1, 0, 0, 0, 1\\n0, 0, 0, 0, 0, 0, 0, 0]'),\n",
              " Text(0.7934782608695652, 0.31666666666666665, 'gini = 0.0\\nsamples = 1\\nvalue = [0, 0, 0, 0, 0, 0, 0, 0, 0, 0, 0, 0, 0, 0\\n0, 0, 0, 0, 0, 0, 0, 0, 0, 0, 1, 0, 0, 0\\n0, 0, 0, 0, 0, 0, 0, 0, 0, 0, 0, 0, 0, 0\\n0, 0, 0, 0, 0, 0, 0, 0, 0, 0, 0, 0, 0, 0\\n0, 0, 0, 0, 0, 0, 0, 0, 0, 0, 0, 0, 0, 0\\n0, 0, 0, 0, 0, 0, 0, 0, 0, 0, 0, 0, 0, 0\\n0, 0, 0, 0, 0, 0, 0, 0, 0, 0, 0, 0, 0, 0\\n0, 0, 0, 0, 0, 0, 0, 0]'),\n",
              " Text(0.8152173913043478, 0.31666666666666665, 'X[1] <= 1.56\\ngini = 0.9\\nsamples = 10\\nvalue = [0, 0, 0, 0, 0, 0, 0, 0, 0, 0, 0, 0, 0, 0\\n0, 1, 0, 0, 0, 0, 0, 0, 0, 0, 0, 0, 0, 0\\n0, 0, 0, 0, 0, 0, 0, 0, 0, 0, 0, 0, 0, 0\\n0, 0, 0, 0, 0, 0, 0, 0, 0, 0, 0, 0, 0, 0\\n0, 0, 0, 0, 1, 0, 0, 1, 0, 0, 1, 0, 0, 0\\n0, 0, 0, 0, 0, 0, 1, 0, 1, 0, 1, 0, 0, 0\\n0, 0, 0, 0, 0, 1, 0, 0, 0, 1, 0, 0, 0, 1\\n0, 0, 0, 0, 0, 0, 0, 0]'),\n",
              " Text(0.8043478260869565, 0.2833333333333333, 'gini = 0.0\\nsamples = 1\\nvalue = [0, 0, 0, 0, 0, 0, 0, 0, 0, 0, 0, 0, 0, 0\\n0, 0, 0, 0, 0, 0, 0, 0, 0, 0, 0, 0, 0, 0\\n0, 0, 0, 0, 0, 0, 0, 0, 0, 0, 0, 0, 0, 0\\n0, 0, 0, 0, 0, 0, 0, 0, 0, 0, 0, 0, 0, 0\\n0, 0, 0, 0, 0, 0, 0, 0, 0, 0, 0, 0, 0, 0\\n0, 0, 0, 0, 0, 0, 1, 0, 0, 0, 0, 0, 0, 0\\n0, 0, 0, 0, 0, 0, 0, 0, 0, 0, 0, 0, 0, 0\\n0, 0, 0, 0, 0, 0, 0, 0]'),\n",
              " Text(0.8260869565217391, 0.2833333333333333, 'X[8] <= 1.45\\ngini = 0.889\\nsamples = 9\\nvalue = [0, 0, 0, 0, 0, 0, 0, 0, 0, 0, 0, 0, 0, 0\\n0, 1, 0, 0, 0, 0, 0, 0, 0, 0, 0, 0, 0, 0\\n0, 0, 0, 0, 0, 0, 0, 0, 0, 0, 0, 0, 0, 0\\n0, 0, 0, 0, 0, 0, 0, 0, 0, 0, 0, 0, 0, 0\\n0, 0, 0, 0, 1, 0, 0, 1, 0, 0, 1, 0, 0, 0\\n0, 0, 0, 0, 0, 0, 0, 0, 1, 0, 1, 0, 0, 0\\n0, 0, 0, 0, 0, 1, 0, 0, 0, 1, 0, 0, 0, 1\\n0, 0, 0, 0, 0, 0, 0, 0]'),\n",
              " Text(0.8152173913043478, 0.25, 'gini = 0.0\\nsamples = 1\\nvalue = [0, 0, 0, 0, 0, 0, 0, 0, 0, 0, 0, 0, 0, 0\\n0, 0, 0, 0, 0, 0, 0, 0, 0, 0, 0, 0, 0, 0\\n0, 0, 0, 0, 0, 0, 0, 0, 0, 0, 0, 0, 0, 0\\n0, 0, 0, 0, 0, 0, 0, 0, 0, 0, 0, 0, 0, 0\\n0, 0, 0, 0, 0, 0, 0, 0, 0, 0, 0, 0, 0, 0\\n0, 0, 0, 0, 0, 0, 0, 0, 0, 0, 0, 0, 0, 0\\n0, 0, 0, 0, 0, 1, 0, 0, 0, 0, 0, 0, 0, 0\\n0, 0, 0, 0, 0, 0, 0, 0]'),\n",
              " Text(0.8369565217391305, 0.25, 'X[8] <= 1.56\\ngini = 0.875\\nsamples = 8\\nvalue = [0, 0, 0, 0, 0, 0, 0, 0, 0, 0, 0, 0, 0, 0\\n0, 1, 0, 0, 0, 0, 0, 0, 0, 0, 0, 0, 0, 0\\n0, 0, 0, 0, 0, 0, 0, 0, 0, 0, 0, 0, 0, 0\\n0, 0, 0, 0, 0, 0, 0, 0, 0, 0, 0, 0, 0, 0\\n0, 0, 0, 0, 1, 0, 0, 1, 0, 0, 1, 0, 0, 0\\n0, 0, 0, 0, 0, 0, 0, 0, 1, 0, 1, 0, 0, 0\\n0, 0, 0, 0, 0, 0, 0, 0, 0, 1, 0, 0, 0, 1\\n0, 0, 0, 0, 0, 0, 0, 0]'),\n",
              " Text(0.8260869565217391, 0.21666666666666667, 'gini = 0.0\\nsamples = 1\\nvalue = [0, 0, 0, 0, 0, 0, 0, 0, 0, 0, 0, 0, 0, 0\\n0, 0, 0, 0, 0, 0, 0, 0, 0, 0, 0, 0, 0, 0\\n0, 0, 0, 0, 0, 0, 0, 0, 0, 0, 0, 0, 0, 0\\n0, 0, 0, 0, 0, 0, 0, 0, 0, 0, 0, 0, 0, 0\\n0, 0, 0, 0, 0, 0, 0, 0, 0, 0, 0, 0, 0, 0\\n0, 0, 0, 0, 0, 0, 0, 0, 0, 0, 1, 0, 0, 0\\n0, 0, 0, 0, 0, 0, 0, 0, 0, 0, 0, 0, 0, 0\\n0, 0, 0, 0, 0, 0, 0, 0]'),\n",
              " Text(0.8478260869565217, 0.21666666666666667, 'X[4] <= 94.5\\ngini = 0.857\\nsamples = 7\\nvalue = [0, 0, 0, 0, 0, 0, 0, 0, 0, 0, 0, 0, 0, 0\\n0, 1, 0, 0, 0, 0, 0, 0, 0, 0, 0, 0, 0, 0\\n0, 0, 0, 0, 0, 0, 0, 0, 0, 0, 0, 0, 0, 0\\n0, 0, 0, 0, 0, 0, 0, 0, 0, 0, 0, 0, 0, 0\\n0, 0, 0, 0, 1, 0, 0, 1, 0, 0, 1, 0, 0, 0\\n0, 0, 0, 0, 0, 0, 0, 0, 1, 0, 0, 0, 0, 0\\n0, 0, 0, 0, 0, 0, 0, 0, 0, 1, 0, 0, 0, 1\\n0, 0, 0, 0, 0, 0, 0, 0]'),\n",
              " Text(0.8369565217391305, 0.18333333333333332, 'gini = 0.0\\nsamples = 1\\nvalue = [0, 0, 0, 0, 0, 0, 0, 0, 0, 0, 0, 0, 0, 0\\n0, 1, 0, 0, 0, 0, 0, 0, 0, 0, 0, 0, 0, 0\\n0, 0, 0, 0, 0, 0, 0, 0, 0, 0, 0, 0, 0, 0\\n0, 0, 0, 0, 0, 0, 0, 0, 0, 0, 0, 0, 0, 0\\n0, 0, 0, 0, 0, 0, 0, 0, 0, 0, 0, 0, 0, 0\\n0, 0, 0, 0, 0, 0, 0, 0, 0, 0, 0, 0, 0, 0\\n0, 0, 0, 0, 0, 0, 0, 0, 0, 0, 0, 0, 0, 0\\n0, 0, 0, 0, 0, 0, 0, 0]'),\n",
              " Text(0.8586956521739131, 0.18333333333333332, 'X[1] <= 1.82\\ngini = 0.833\\nsamples = 6\\nvalue = [0, 0, 0, 0, 0, 0, 0, 0, 0, 0, 0, 0, 0, 0\\n0, 0, 0, 0, 0, 0, 0, 0, 0, 0, 0, 0, 0, 0\\n0, 0, 0, 0, 0, 0, 0, 0, 0, 0, 0, 0, 0, 0\\n0, 0, 0, 0, 0, 0, 0, 0, 0, 0, 0, 0, 0, 0\\n0, 0, 0, 0, 1, 0, 0, 1, 0, 0, 1, 0, 0, 0\\n0, 0, 0, 0, 0, 0, 0, 0, 1, 0, 0, 0, 0, 0\\n0, 0, 0, 0, 0, 0, 0, 0, 0, 1, 0, 0, 0, 1\\n0, 0, 0, 0, 0, 0, 0, 0]'),\n",
              " Text(0.8478260869565217, 0.15, 'gini = 0.0\\nsamples = 1\\nvalue = [0, 0, 0, 0, 0, 0, 0, 0, 0, 0, 0, 0, 0, 0\\n0, 0, 0, 0, 0, 0, 0, 0, 0, 0, 0, 0, 0, 0\\n0, 0, 0, 0, 0, 0, 0, 0, 0, 0, 0, 0, 0, 0\\n0, 0, 0, 0, 0, 0, 0, 0, 0, 0, 0, 0, 0, 0\\n0, 0, 0, 0, 0, 0, 0, 0, 0, 0, 0, 0, 0, 0\\n0, 0, 0, 0, 0, 0, 0, 0, 1, 0, 0, 0, 0, 0\\n0, 0, 0, 0, 0, 0, 0, 0, 0, 0, 0, 0, 0, 0\\n0, 0, 0, 0, 0, 0, 0, 0]'),\n",
              " Text(0.8695652173913043, 0.15, 'X[4] <= 101.5\\ngini = 0.8\\nsamples = 5\\nvalue = [0, 0, 0, 0, 0, 0, 0, 0, 0, 0, 0, 0, 0, 0\\n0, 0, 0, 0, 0, 0, 0, 0, 0, 0, 0, 0, 0, 0\\n0, 0, 0, 0, 0, 0, 0, 0, 0, 0, 0, 0, 0, 0\\n0, 0, 0, 0, 0, 0, 0, 0, 0, 0, 0, 0, 0, 0\\n0, 0, 0, 0, 1, 0, 0, 1, 0, 0, 1, 0, 0, 0\\n0, 0, 0, 0, 0, 0, 0, 0, 0, 0, 0, 0, 0, 0\\n0, 0, 0, 0, 0, 0, 0, 0, 0, 1, 0, 0, 0, 1\\n0, 0, 0, 0, 0, 0, 0, 0]'),\n",
              " Text(0.8586956521739131, 0.11666666666666667, 'gini = 0.0\\nsamples = 1\\nvalue = [0, 0, 0, 0, 0, 0, 0, 0, 0, 0, 0, 0, 0, 0\\n0, 0, 0, 0, 0, 0, 0, 0, 0, 0, 0, 0, 0, 0\\n0, 0, 0, 0, 0, 0, 0, 0, 0, 0, 0, 0, 0, 0\\n0, 0, 0, 0, 0, 0, 0, 0, 0, 0, 0, 0, 0, 0\\n0, 0, 0, 0, 0, 0, 0, 0, 0, 0, 0, 0, 0, 0\\n0, 0, 0, 0, 0, 0, 0, 0, 0, 0, 0, 0, 0, 0\\n0, 0, 0, 0, 0, 0, 0, 0, 0, 1, 0, 0, 0, 0\\n0, 0, 0, 0, 0, 0, 0, 0]'),\n",
              " Text(0.8804347826086957, 0.11666666666666667, 'X[5] <= 2.52\\ngini = 0.75\\nsamples = 4\\nvalue = [0, 0, 0, 0, 0, 0, 0, 0, 0, 0, 0, 0, 0, 0\\n0, 0, 0, 0, 0, 0, 0, 0, 0, 0, 0, 0, 0, 0\\n0, 0, 0, 0, 0, 0, 0, 0, 0, 0, 0, 0, 0, 0\\n0, 0, 0, 0, 0, 0, 0, 0, 0, 0, 0, 0, 0, 0\\n0, 0, 0, 0, 1, 0, 0, 1, 0, 0, 1, 0, 0, 0\\n0, 0, 0, 0, 0, 0, 0, 0, 0, 0, 0, 0, 0, 0\\n0, 0, 0, 0, 0, 0, 0, 0, 0, 0, 0, 0, 0, 1\\n0, 0, 0, 0, 0, 0, 0, 0]'),\n",
              " Text(0.8695652173913043, 0.08333333333333333, 'gini = 0.0\\nsamples = 1\\nvalue = [0, 0, 0, 0, 0, 0, 0, 0, 0, 0, 0, 0, 0, 0\\n0, 0, 0, 0, 0, 0, 0, 0, 0, 0, 0, 0, 0, 0\\n0, 0, 0, 0, 0, 0, 0, 0, 0, 0, 0, 0, 0, 0\\n0, 0, 0, 0, 0, 0, 0, 0, 0, 0, 0, 0, 0, 0\\n0, 0, 0, 0, 0, 0, 0, 1, 0, 0, 0, 0, 0, 0\\n0, 0, 0, 0, 0, 0, 0, 0, 0, 0, 0, 0, 0, 0\\n0, 0, 0, 0, 0, 0, 0, 0, 0, 0, 0, 0, 0, 0\\n0, 0, 0, 0, 0, 0, 0, 0]'),\n",
              " Text(0.8913043478260869, 0.08333333333333333, 'X[11] <= 2.885\\ngini = 0.667\\nsamples = 3\\nvalue = [0, 0, 0, 0, 0, 0, 0, 0, 0, 0, 0, 0, 0, 0\\n0, 0, 0, 0, 0, 0, 0, 0, 0, 0, 0, 0, 0, 0\\n0, 0, 0, 0, 0, 0, 0, 0, 0, 0, 0, 0, 0, 0\\n0, 0, 0, 0, 0, 0, 0, 0, 0, 0, 0, 0, 0, 0\\n0, 0, 0, 0, 1, 0, 0, 0, 0, 0, 1, 0, 0, 0\\n0, 0, 0, 0, 0, 0, 0, 0, 0, 0, 0, 0, 0, 0\\n0, 0, 0, 0, 0, 0, 0, 0, 0, 0, 0, 0, 0, 1\\n0, 0, 0, 0, 0, 0, 0, 0]'),\n",
              " Text(0.8804347826086957, 0.05, 'gini = 0.0\\nsamples = 1\\nvalue = [0, 0, 0, 0, 0, 0, 0, 0, 0, 0, 0, 0, 0, 0\\n0, 0, 0, 0, 0, 0, 0, 0, 0, 0, 0, 0, 0, 0\\n0, 0, 0, 0, 0, 0, 0, 0, 0, 0, 0, 0, 0, 0\\n0, 0, 0, 0, 0, 0, 0, 0, 0, 0, 0, 0, 0, 0\\n0, 0, 0, 0, 0, 0, 0, 0, 0, 0, 0, 0, 0, 0\\n0, 0, 0, 0, 0, 0, 0, 0, 0, 0, 0, 0, 0, 0\\n0, 0, 0, 0, 0, 0, 0, 0, 0, 0, 0, 0, 0, 1\\n0, 0, 0, 0, 0, 0, 0, 0]'),\n",
              " Text(0.9021739130434783, 0.05, 'X[5] <= 2.715\\ngini = 0.5\\nsamples = 2\\nvalue = [0, 0, 0, 0, 0, 0, 0, 0, 0, 0, 0, 0, 0, 0\\n0, 0, 0, 0, 0, 0, 0, 0, 0, 0, 0, 0, 0, 0\\n0, 0, 0, 0, 0, 0, 0, 0, 0, 0, 0, 0, 0, 0\\n0, 0, 0, 0, 0, 0, 0, 0, 0, 0, 0, 0, 0, 0\\n0, 0, 0, 0, 1, 0, 0, 0, 0, 0, 1, 0, 0, 0\\n0, 0, 0, 0, 0, 0, 0, 0, 0, 0, 0, 0, 0, 0\\n0, 0, 0, 0, 0, 0, 0, 0, 0, 0, 0, 0, 0, 0\\n0, 0, 0, 0, 0, 0, 0, 0]'),\n",
              " Text(0.8913043478260869, 0.016666666666666666, 'gini = 0.0\\nsamples = 1\\nvalue = [0, 0, 0, 0, 0, 0, 0, 0, 0, 0, 0, 0, 0, 0\\n0, 0, 0, 0, 0, 0, 0, 0, 0, 0, 0, 0, 0, 0\\n0, 0, 0, 0, 0, 0, 0, 0, 0, 0, 0, 0, 0, 0\\n0, 0, 0, 0, 0, 0, 0, 0, 0, 0, 0, 0, 0, 0\\n0, 0, 0, 0, 0, 0, 0, 0, 0, 0, 1, 0, 0, 0\\n0, 0, 0, 0, 0, 0, 0, 0, 0, 0, 0, 0, 0, 0\\n0, 0, 0, 0, 0, 0, 0, 0, 0, 0, 0, 0, 0, 0\\n0, 0, 0, 0, 0, 0, 0, 0]'),\n",
              " Text(0.9130434782608695, 0.016666666666666666, 'gini = 0.0\\nsamples = 1\\nvalue = [0, 0, 0, 0, 0, 0, 0, 0, 0, 0, 0, 0, 0, 0\\n0, 0, 0, 0, 0, 0, 0, 0, 0, 0, 0, 0, 0, 0\\n0, 0, 0, 0, 0, 0, 0, 0, 0, 0, 0, 0, 0, 0\\n0, 0, 0, 0, 0, 0, 0, 0, 0, 0, 0, 0, 0, 0\\n0, 0, 0, 0, 1, 0, 0, 0, 0, 0, 0, 0, 0, 0\\n0, 0, 0, 0, 0, 0, 0, 0, 0, 0, 0, 0, 0, 0\\n0, 0, 0, 0, 0, 0, 0, 0, 0, 0, 0, 0, 0, 0\\n0, 0, 0, 0, 0, 0, 0, 0]'),\n",
              " Text(0.7690217391304348, 0.85, 'X[11] <= 2.875\\ngini = 0.941\\nsamples = 27\\nvalue = [0, 0, 0, 0, 0, 0, 0, 0, 0, 0, 0, 0, 0, 0\\n0, 0, 0, 1, 0, 0, 0, 0, 0, 0, 0, 0, 0, 0\\n0, 0, 0, 0, 0, 0, 0, 0, 0, 0, 0, 0, 0, 0\\n0, 0, 0, 0, 0, 0, 0, 0, 0, 0, 0, 0, 0, 0\\n0, 0, 0, 0, 0, 0, 0, 0, 0, 1, 0, 0, 0, 2\\n0, 0, 0, 0, 1, 1, 0, 0, 1, 1, 0, 0, 3, 1\\n0, 1, 0, 0, 2, 0, 1, 1, 0, 0, 1, 1, 1, 0\\n0, 3, 0, 1, 1, 0, 1, 1]'),\n",
              " Text(0.717391304347826, 0.8166666666666667, 'X[1] <= 1.76\\ngini = 0.735\\nsamples = 7\\nvalue = [0, 0, 0, 0, 0, 0, 0, 0, 0, 0, 0, 0, 0, 0\\n0, 0, 0, 0, 0, 0, 0, 0, 0, 0, 0, 0, 0, 0\\n0, 0, 0, 0, 0, 0, 0, 0, 0, 0, 0, 0, 0, 0\\n0, 0, 0, 0, 0, 0, 0, 0, 0, 0, 0, 0, 0, 0\\n0, 0, 0, 0, 0, 0, 0, 0, 0, 0, 0, 0, 0, 0\\n0, 0, 0, 0, 0, 0, 0, 0, 0, 1, 0, 0, 0, 0\\n0, 1, 0, 0, 1, 0, 0, 1, 0, 0, 0, 0, 0, 0\\n0, 3, 0, 0, 0, 0, 0, 0]'),\n",
              " Text(0.6956521739130435, 0.7833333333333333, 'X[11] <= 2.64\\ngini = 0.375\\nsamples = 4\\nvalue = [0, 0, 0, 0, 0, 0, 0, 0, 0, 0, 0, 0, 0, 0\\n0, 0, 0, 0, 0, 0, 0, 0, 0, 0, 0, 0, 0, 0\\n0, 0, 0, 0, 0, 0, 0, 0, 0, 0, 0, 0, 0, 0\\n0, 0, 0, 0, 0, 0, 0, 0, 0, 0, 0, 0, 0, 0\\n0, 0, 0, 0, 0, 0, 0, 0, 0, 0, 0, 0, 0, 0\\n0, 0, 0, 0, 0, 0, 0, 0, 0, 0, 0, 0, 0, 0\\n0, 0, 0, 0, 0, 0, 0, 1, 0, 0, 0, 0, 0, 0\\n0, 3, 0, 0, 0, 0, 0, 0]'),\n",
              " Text(0.6847826086956522, 0.75, 'gini = 0.0\\nsamples = 1\\nvalue = [0, 0, 0, 0, 0, 0, 0, 0, 0, 0, 0, 0, 0, 0\\n0, 0, 0, 0, 0, 0, 0, 0, 0, 0, 0, 0, 0, 0\\n0, 0, 0, 0, 0, 0, 0, 0, 0, 0, 0, 0, 0, 0\\n0, 0, 0, 0, 0, 0, 0, 0, 0, 0, 0, 0, 0, 0\\n0, 0, 0, 0, 0, 0, 0, 0, 0, 0, 0, 0, 0, 0\\n0, 0, 0, 0, 0, 0, 0, 0, 0, 0, 0, 0, 0, 0\\n0, 0, 0, 0, 0, 0, 0, 1, 0, 0, 0, 0, 0, 0\\n0, 0, 0, 0, 0, 0, 0, 0]'),\n",
              " Text(0.7065217391304348, 0.75, 'gini = 0.0\\nsamples = 3\\nvalue = [0, 0, 0, 0, 0, 0, 0, 0, 0, 0, 0, 0, 0, 0\\n0, 0, 0, 0, 0, 0, 0, 0, 0, 0, 0, 0, 0, 0\\n0, 0, 0, 0, 0, 0, 0, 0, 0, 0, 0, 0, 0, 0\\n0, 0, 0, 0, 0, 0, 0, 0, 0, 0, 0, 0, 0, 0\\n0, 0, 0, 0, 0, 0, 0, 0, 0, 0, 0, 0, 0, 0\\n0, 0, 0, 0, 0, 0, 0, 0, 0, 0, 0, 0, 0, 0\\n0, 0, 0, 0, 0, 0, 0, 0, 0, 0, 0, 0, 0, 0\\n0, 3, 0, 0, 0, 0, 0, 0]'),\n",
              " Text(0.7391304347826086, 0.7833333333333333, 'X[10] <= 1.085\\ngini = 0.667\\nsamples = 3\\nvalue = [0, 0, 0, 0, 0, 0, 0, 0, 0, 0, 0, 0, 0, 0\\n0, 0, 0, 0, 0, 0, 0, 0, 0, 0, 0, 0, 0, 0\\n0, 0, 0, 0, 0, 0, 0, 0, 0, 0, 0, 0, 0, 0\\n0, 0, 0, 0, 0, 0, 0, 0, 0, 0, 0, 0, 0, 0\\n0, 0, 0, 0, 0, 0, 0, 0, 0, 0, 0, 0, 0, 0\\n0, 0, 0, 0, 0, 0, 0, 0, 0, 1, 0, 0, 0, 0\\n0, 1, 0, 0, 1, 0, 0, 0, 0, 0, 0, 0, 0, 0\\n0, 0, 0, 0, 0, 0, 0, 0]'),\n",
              " Text(0.7282608695652174, 0.75, 'gini = 0.0\\nsamples = 1\\nvalue = [0, 0, 0, 0, 0, 0, 0, 0, 0, 0, 0, 0, 0, 0\\n0, 0, 0, 0, 0, 0, 0, 0, 0, 0, 0, 0, 0, 0\\n0, 0, 0, 0, 0, 0, 0, 0, 0, 0, 0, 0, 0, 0\\n0, 0, 0, 0, 0, 0, 0, 0, 0, 0, 0, 0, 0, 0\\n0, 0, 0, 0, 0, 0, 0, 0, 0, 0, 0, 0, 0, 0\\n0, 0, 0, 0, 0, 0, 0, 0, 0, 0, 0, 0, 0, 0\\n0, 1, 0, 0, 0, 0, 0, 0, 0, 0, 0, 0, 0, 0\\n0, 0, 0, 0, 0, 0, 0, 0]'),\n",
              " Text(0.75, 0.75, 'X[2] <= 2.505\\ngini = 0.5\\nsamples = 2\\nvalue = [0, 0, 0, 0, 0, 0, 0, 0, 0, 0, 0, 0, 0, 0\\n0, 0, 0, 0, 0, 0, 0, 0, 0, 0, 0, 0, 0, 0\\n0, 0, 0, 0, 0, 0, 0, 0, 0, 0, 0, 0, 0, 0\\n0, 0, 0, 0, 0, 0, 0, 0, 0, 0, 0, 0, 0, 0\\n0, 0, 0, 0, 0, 0, 0, 0, 0, 0, 0, 0, 0, 0\\n0, 0, 0, 0, 0, 0, 0, 0, 0, 1, 0, 0, 0, 0\\n0, 0, 0, 0, 1, 0, 0, 0, 0, 0, 0, 0, 0, 0\\n0, 0, 0, 0, 0, 0, 0, 0]'),\n",
              " Text(0.7391304347826086, 0.7166666666666667, 'gini = 0.0\\nsamples = 1\\nvalue = [0, 0, 0, 0, 0, 0, 0, 0, 0, 0, 0, 0, 0, 0\\n0, 0, 0, 0, 0, 0, 0, 0, 0, 0, 0, 0, 0, 0\\n0, 0, 0, 0, 0, 0, 0, 0, 0, 0, 0, 0, 0, 0\\n0, 0, 0, 0, 0, 0, 0, 0, 0, 0, 0, 0, 0, 0\\n0, 0, 0, 0, 0, 0, 0, 0, 0, 0, 0, 0, 0, 0\\n0, 0, 0, 0, 0, 0, 0, 0, 0, 1, 0, 0, 0, 0\\n0, 0, 0, 0, 0, 0, 0, 0, 0, 0, 0, 0, 0, 0\\n0, 0, 0, 0, 0, 0, 0, 0]'),\n",
              " Text(0.7608695652173914, 0.7166666666666667, 'gini = 0.0\\nsamples = 1\\nvalue = [0, 0, 0, 0, 0, 0, 0, 0, 0, 0, 0, 0, 0, 0\\n0, 0, 0, 0, 0, 0, 0, 0, 0, 0, 0, 0, 0, 0\\n0, 0, 0, 0, 0, 0, 0, 0, 0, 0, 0, 0, 0, 0\\n0, 0, 0, 0, 0, 0, 0, 0, 0, 0, 0, 0, 0, 0\\n0, 0, 0, 0, 0, 0, 0, 0, 0, 0, 0, 0, 0, 0\\n0, 0, 0, 0, 0, 0, 0, 0, 0, 0, 0, 0, 0, 0\\n0, 0, 0, 0, 1, 0, 0, 0, 0, 0, 0, 0, 0, 0\\n0, 0, 0, 0, 0, 0, 0, 0]'),\n",
              " Text(0.8206521739130435, 0.8166666666666667, 'X[9] <= 4.75\\ngini = 0.93\\nsamples = 20\\nvalue = [0, 0, 0, 0, 0, 0, 0, 0, 0, 0, 0, 0, 0, 0\\n0, 0, 0, 1, 0, 0, 0, 0, 0, 0, 0, 0, 0, 0\\n0, 0, 0, 0, 0, 0, 0, 0, 0, 0, 0, 0, 0, 0\\n0, 0, 0, 0, 0, 0, 0, 0, 0, 0, 0, 0, 0, 0\\n0, 0, 0, 0, 0, 0, 0, 0, 0, 1, 0, 0, 0, 2\\n0, 0, 0, 0, 1, 1, 0, 0, 1, 0, 0, 0, 3, 1\\n0, 0, 0, 0, 1, 0, 1, 0, 0, 0, 1, 1, 1, 0\\n0, 0, 0, 1, 1, 0, 1, 1]'),\n",
              " Text(0.782608695652174, 0.7833333333333333, 'X[2] <= 2.485\\ngini = 0.667\\nsamples = 6\\nvalue = [0, 0, 0, 0, 0, 0, 0, 0, 0, 0, 0, 0, 0, 0\\n0, 0, 0, 1, 0, 0, 0, 0, 0, 0, 0, 0, 0, 0\\n0, 0, 0, 0, 0, 0, 0, 0, 0, 0, 0, 0, 0, 0\\n0, 0, 0, 0, 0, 0, 0, 0, 0, 0, 0, 0, 0, 0\\n0, 0, 0, 0, 0, 0, 0, 0, 0, 0, 0, 0, 0, 1\\n0, 0, 0, 0, 1, 0, 0, 0, 0, 0, 0, 0, 3, 0\\n0, 0, 0, 0, 0, 0, 0, 0, 0, 0, 0, 0, 0, 0\\n0, 0, 0, 0, 0, 0, 0, 0]'),\n",
              " Text(0.7717391304347826, 0.75, 'gini = 0.0\\nsamples = 3\\nvalue = [0, 0, 0, 0, 0, 0, 0, 0, 0, 0, 0, 0, 0, 0\\n0, 0, 0, 0, 0, 0, 0, 0, 0, 0, 0, 0, 0, 0\\n0, 0, 0, 0, 0, 0, 0, 0, 0, 0, 0, 0, 0, 0\\n0, 0, 0, 0, 0, 0, 0, 0, 0, 0, 0, 0, 0, 0\\n0, 0, 0, 0, 0, 0, 0, 0, 0, 0, 0, 0, 0, 0\\n0, 0, 0, 0, 0, 0, 0, 0, 0, 0, 0, 0, 3, 0\\n0, 0, 0, 0, 0, 0, 0, 0, 0, 0, 0, 0, 0, 0\\n0, 0, 0, 0, 0, 0, 0, 0]'),\n",
              " Text(0.7934782608695652, 0.75, 'X[10] <= 1.185\\ngini = 0.667\\nsamples = 3\\nvalue = [0, 0, 0, 0, 0, 0, 0, 0, 0, 0, 0, 0, 0, 0\\n0, 0, 0, 1, 0, 0, 0, 0, 0, 0, 0, 0, 0, 0\\n0, 0, 0, 0, 0, 0, 0, 0, 0, 0, 0, 0, 0, 0\\n0, 0, 0, 0, 0, 0, 0, 0, 0, 0, 0, 0, 0, 0\\n0, 0, 0, 0, 0, 0, 0, 0, 0, 0, 0, 0, 0, 1\\n0, 0, 0, 0, 1, 0, 0, 0, 0, 0, 0, 0, 0, 0\\n0, 0, 0, 0, 0, 0, 0, 0, 0, 0, 0, 0, 0, 0\\n0, 0, 0, 0, 0, 0, 0, 0]'),\n",
              " Text(0.782608695652174, 0.7166666666666667, 'gini = 0.0\\nsamples = 1\\nvalue = [0, 0, 0, 0, 0, 0, 0, 0, 0, 0, 0, 0, 0, 0\\n0, 0, 0, 0, 0, 0, 0, 0, 0, 0, 0, 0, 0, 0\\n0, 0, 0, 0, 0, 0, 0, 0, 0, 0, 0, 0, 0, 0\\n0, 0, 0, 0, 0, 0, 0, 0, 0, 0, 0, 0, 0, 0\\n0, 0, 0, 0, 0, 0, 0, 0, 0, 0, 0, 0, 0, 1\\n0, 0, 0, 0, 0, 0, 0, 0, 0, 0, 0, 0, 0, 0\\n0, 0, 0, 0, 0, 0, 0, 0, 0, 0, 0, 0, 0, 0\\n0, 0, 0, 0, 0, 0, 0, 0]'),\n",
              " Text(0.8043478260869565, 0.7166666666666667, 'X[1] <= 1.705\\ngini = 0.5\\nsamples = 2\\nvalue = [0, 0, 0, 0, 0, 0, 0, 0, 0, 0, 0, 0, 0, 0\\n0, 0, 0, 1, 0, 0, 0, 0, 0, 0, 0, 0, 0, 0\\n0, 0, 0, 0, 0, 0, 0, 0, 0, 0, 0, 0, 0, 0\\n0, 0, 0, 0, 0, 0, 0, 0, 0, 0, 0, 0, 0, 0\\n0, 0, 0, 0, 0, 0, 0, 0, 0, 0, 0, 0, 0, 0\\n0, 0, 0, 0, 1, 0, 0, 0, 0, 0, 0, 0, 0, 0\\n0, 0, 0, 0, 0, 0, 0, 0, 0, 0, 0, 0, 0, 0\\n0, 0, 0, 0, 0, 0, 0, 0]'),\n",
              " Text(0.7934782608695652, 0.6833333333333333, 'gini = 0.0\\nsamples = 1\\nvalue = [0, 0, 0, 0, 0, 0, 0, 0, 0, 0, 0, 0, 0, 0\\n0, 0, 0, 1, 0, 0, 0, 0, 0, 0, 0, 0, 0, 0\\n0, 0, 0, 0, 0, 0, 0, 0, 0, 0, 0, 0, 0, 0\\n0, 0, 0, 0, 0, 0, 0, 0, 0, 0, 0, 0, 0, 0\\n0, 0, 0, 0, 0, 0, 0, 0, 0, 0, 0, 0, 0, 0\\n0, 0, 0, 0, 0, 0, 0, 0, 0, 0, 0, 0, 0, 0\\n0, 0, 0, 0, 0, 0, 0, 0, 0, 0, 0, 0, 0, 0\\n0, 0, 0, 0, 0, 0, 0, 0]'),\n",
              " Text(0.8152173913043478, 0.6833333333333333, 'gini = 0.0\\nsamples = 1\\nvalue = [0, 0, 0, 0, 0, 0, 0, 0, 0, 0, 0, 0, 0, 0\\n0, 0, 0, 0, 0, 0, 0, 0, 0, 0, 0, 0, 0, 0\\n0, 0, 0, 0, 0, 0, 0, 0, 0, 0, 0, 0, 0, 0\\n0, 0, 0, 0, 0, 0, 0, 0, 0, 0, 0, 0, 0, 0\\n0, 0, 0, 0, 0, 0, 0, 0, 0, 0, 0, 0, 0, 0\\n0, 0, 0, 0, 1, 0, 0, 0, 0, 0, 0, 0, 0, 0\\n0, 0, 0, 0, 0, 0, 0, 0, 0, 0, 0, 0, 0, 0\\n0, 0, 0, 0, 0, 0, 0, 0]'),\n",
              " Text(0.8586956521739131, 0.7833333333333333, 'X[6] <= 2.625\\ngini = 0.929\\nsamples = 14\\nvalue = [0, 0, 0, 0, 0, 0, 0, 0, 0, 0, 0, 0, 0, 0\\n0, 0, 0, 0, 0, 0, 0, 0, 0, 0, 0, 0, 0, 0\\n0, 0, 0, 0, 0, 0, 0, 0, 0, 0, 0, 0, 0, 0\\n0, 0, 0, 0, 0, 0, 0, 0, 0, 0, 0, 0, 0, 0\\n0, 0, 0, 0, 0, 0, 0, 0, 0, 1, 0, 0, 0, 1\\n0, 0, 0, 0, 0, 1, 0, 0, 1, 0, 0, 0, 0, 1\\n0, 0, 0, 0, 1, 0, 1, 0, 0, 0, 1, 1, 1, 0\\n0, 0, 0, 1, 1, 0, 1, 1]'),\n",
              " Text(0.8478260869565217, 0.75, 'gini = 0.0\\nsamples = 1\\nvalue = [0, 0, 0, 0, 0, 0, 0, 0, 0, 0, 0, 0, 0, 0\\n0, 0, 0, 0, 0, 0, 0, 0, 0, 0, 0, 0, 0, 0\\n0, 0, 0, 0, 0, 0, 0, 0, 0, 0, 0, 0, 0, 0\\n0, 0, 0, 0, 0, 0, 0, 0, 0, 0, 0, 0, 0, 0\\n0, 0, 0, 0, 0, 0, 0, 0, 0, 0, 0, 0, 0, 0\\n0, 0, 0, 0, 0, 0, 0, 0, 0, 0, 0, 0, 0, 0\\n0, 0, 0, 0, 0, 0, 0, 0, 0, 0, 0, 0, 0, 0\\n0, 0, 0, 1, 0, 0, 0, 0]'),\n",
              " Text(0.8695652173913043, 0.75, 'X[7] <= 0.185\\ngini = 0.923\\nsamples = 13\\nvalue = [0, 0, 0, 0, 0, 0, 0, 0, 0, 0, 0, 0, 0, 0\\n0, 0, 0, 0, 0, 0, 0, 0, 0, 0, 0, 0, 0, 0\\n0, 0, 0, 0, 0, 0, 0, 0, 0, 0, 0, 0, 0, 0\\n0, 0, 0, 0, 0, 0, 0, 0, 0, 0, 0, 0, 0, 0\\n0, 0, 0, 0, 0, 0, 0, 0, 0, 1, 0, 0, 0, 1\\n0, 0, 0, 0, 0, 1, 0, 0, 1, 0, 0, 0, 0, 1\\n0, 0, 0, 0, 1, 0, 1, 0, 0, 0, 1, 1, 1, 0\\n0, 0, 0, 0, 1, 0, 1, 1]'),\n",
              " Text(0.8478260869565217, 0.7166666666666667, 'X[1] <= 2.495\\ngini = 0.5\\nsamples = 2\\nvalue = [0, 0, 0, 0, 0, 0, 0, 0, 0, 0, 0, 0, 0, 0\\n0, 0, 0, 0, 0, 0, 0, 0, 0, 0, 0, 0, 0, 0\\n0, 0, 0, 0, 0, 0, 0, 0, 0, 0, 0, 0, 0, 0\\n0, 0, 0, 0, 0, 0, 0, 0, 0, 0, 0, 0, 0, 0\\n0, 0, 0, 0, 0, 0, 0, 0, 0, 0, 0, 0, 0, 1\\n0, 0, 0, 0, 0, 0, 0, 0, 0, 0, 0, 0, 0, 0\\n0, 0, 0, 0, 1, 0, 0, 0, 0, 0, 0, 0, 0, 0\\n0, 0, 0, 0, 0, 0, 0, 0]'),\n",
              " Text(0.8369565217391305, 0.6833333333333333, 'gini = 0.0\\nsamples = 1\\nvalue = [0, 0, 0, 0, 0, 0, 0, 0, 0, 0, 0, 0, 0, 0\\n0, 0, 0, 0, 0, 0, 0, 0, 0, 0, 0, 0, 0, 0\\n0, 0, 0, 0, 0, 0, 0, 0, 0, 0, 0, 0, 0, 0\\n0, 0, 0, 0, 0, 0, 0, 0, 0, 0, 0, 0, 0, 0\\n0, 0, 0, 0, 0, 0, 0, 0, 0, 0, 0, 0, 0, 0\\n0, 0, 0, 0, 0, 0, 0, 0, 0, 0, 0, 0, 0, 0\\n0, 0, 0, 0, 1, 0, 0, 0, 0, 0, 0, 0, 0, 0\\n0, 0, 0, 0, 0, 0, 0, 0]'),\n",
              " Text(0.8586956521739131, 0.6833333333333333, 'gini = 0.0\\nsamples = 1\\nvalue = [0, 0, 0, 0, 0, 0, 0, 0, 0, 0, 0, 0, 0, 0\\n0, 0, 0, 0, 0, 0, 0, 0, 0, 0, 0, 0, 0, 0\\n0, 0, 0, 0, 0, 0, 0, 0, 0, 0, 0, 0, 0, 0\\n0, 0, 0, 0, 0, 0, 0, 0, 0, 0, 0, 0, 0, 0\\n0, 0, 0, 0, 0, 0, 0, 0, 0, 0, 0, 0, 0, 1\\n0, 0, 0, 0, 0, 0, 0, 0, 0, 0, 0, 0, 0, 0\\n0, 0, 0, 0, 0, 0, 0, 0, 0, 0, 0, 0, 0, 0\\n0, 0, 0, 0, 0, 0, 0, 0]'),\n",
              " Text(0.8913043478260869, 0.7166666666666667, 'X[7] <= 0.205\\ngini = 0.909\\nsamples = 11\\nvalue = [0, 0, 0, 0, 0, 0, 0, 0, 0, 0, 0, 0, 0, 0\\n0, 0, 0, 0, 0, 0, 0, 0, 0, 0, 0, 0, 0, 0\\n0, 0, 0, 0, 0, 0, 0, 0, 0, 0, 0, 0, 0, 0\\n0, 0, 0, 0, 0, 0, 0, 0, 0, 0, 0, 0, 0, 0\\n0, 0, 0, 0, 0, 0, 0, 0, 0, 1, 0, 0, 0, 0\\n0, 0, 0, 0, 0, 1, 0, 0, 1, 0, 0, 0, 0, 1\\n0, 0, 0, 0, 0, 0, 1, 0, 0, 0, 1, 1, 1, 0\\n0, 0, 0, 0, 1, 0, 1, 1]'),\n",
              " Text(0.8804347826086957, 0.6833333333333333, 'gini = 0.0\\nsamples = 1\\nvalue = [0, 0, 0, 0, 0, 0, 0, 0, 0, 0, 0, 0, 0, 0\\n0, 0, 0, 0, 0, 0, 0, 0, 0, 0, 0, 0, 0, 0\\n0, 0, 0, 0, 0, 0, 0, 0, 0, 0, 0, 0, 0, 0\\n0, 0, 0, 0, 0, 0, 0, 0, 0, 0, 0, 0, 0, 0\\n0, 0, 0, 0, 0, 0, 0, 0, 0, 0, 0, 0, 0, 0\\n0, 0, 0, 0, 0, 0, 0, 0, 0, 0, 0, 0, 0, 0\\n0, 0, 0, 0, 0, 0, 1, 0, 0, 0, 0, 0, 0, 0\\n0, 0, 0, 0, 0, 0, 0, 0]'),\n",
              " Text(0.9021739130434783, 0.6833333333333333, 'X[2] <= 2.195\\ngini = 0.9\\nsamples = 10\\nvalue = [0, 0, 0, 0, 0, 0, 0, 0, 0, 0, 0, 0, 0, 0\\n0, 0, 0, 0, 0, 0, 0, 0, 0, 0, 0, 0, 0, 0\\n0, 0, 0, 0, 0, 0, 0, 0, 0, 0, 0, 0, 0, 0\\n0, 0, 0, 0, 0, 0, 0, 0, 0, 0, 0, 0, 0, 0\\n0, 0, 0, 0, 0, 0, 0, 0, 0, 1, 0, 0, 0, 0\\n0, 0, 0, 0, 0, 1, 0, 0, 1, 0, 0, 0, 0, 1\\n0, 0, 0, 0, 0, 0, 0, 0, 0, 0, 1, 1, 1, 0\\n0, 0, 0, 0, 1, 0, 1, 1]'),\n",
              " Text(0.8913043478260869, 0.65, 'gini = 0.0\\nsamples = 1\\nvalue = [0, 0, 0, 0, 0, 0, 0, 0, 0, 0, 0, 0, 0, 0\\n0, 0, 0, 0, 0, 0, 0, 0, 0, 0, 0, 0, 0, 0\\n0, 0, 0, 0, 0, 0, 0, 0, 0, 0, 0, 0, 0, 0\\n0, 0, 0, 0, 0, 0, 0, 0, 0, 0, 0, 0, 0, 0\\n0, 0, 0, 0, 0, 0, 0, 0, 0, 0, 0, 0, 0, 0\\n0, 0, 0, 0, 0, 0, 0, 0, 1, 0, 0, 0, 0, 0\\n0, 0, 0, 0, 0, 0, 0, 0, 0, 0, 0, 0, 0, 0\\n0, 0, 0, 0, 0, 0, 0, 0]'),\n",
              " Text(0.9130434782608695, 0.65, 'X[9] <= 4.95\\ngini = 0.889\\nsamples = 9\\nvalue = [0, 0, 0, 0, 0, 0, 0, 0, 0, 0, 0, 0, 0, 0\\n0, 0, 0, 0, 0, 0, 0, 0, 0, 0, 0, 0, 0, 0\\n0, 0, 0, 0, 0, 0, 0, 0, 0, 0, 0, 0, 0, 0\\n0, 0, 0, 0, 0, 0, 0, 0, 0, 0, 0, 0, 0, 0\\n0, 0, 0, 0, 0, 0, 0, 0, 0, 1, 0, 0, 0, 0\\n0, 0, 0, 0, 0, 1, 0, 0, 0, 0, 0, 0, 0, 1\\n0, 0, 0, 0, 0, 0, 0, 0, 0, 0, 1, 1, 1, 0\\n0, 0, 0, 0, 1, 0, 1, 1]'),\n",
              " Text(0.9021739130434783, 0.6166666666666667, 'gini = 0.0\\nsamples = 1\\nvalue = [0, 0, 0, 0, 0, 0, 0, 0, 0, 0, 0, 0, 0, 0\\n0, 0, 0, 0, 0, 0, 0, 0, 0, 0, 0, 0, 0, 0\\n0, 0, 0, 0, 0, 0, 0, 0, 0, 0, 0, 0, 0, 0\\n0, 0, 0, 0, 0, 0, 0, 0, 0, 0, 0, 0, 0, 0\\n0, 0, 0, 0, 0, 0, 0, 0, 0, 0, 0, 0, 0, 0\\n0, 0, 0, 0, 0, 0, 0, 0, 0, 0, 0, 0, 0, 0\\n0, 0, 0, 0, 0, 0, 0, 0, 0, 0, 1, 0, 0, 0\\n0, 0, 0, 0, 0, 0, 0, 0]'),\n",
              " Text(0.9239130434782609, 0.6166666666666667, 'X[10] <= 0.98\\ngini = 0.875\\nsamples = 8\\nvalue = [0, 0, 0, 0, 0, 0, 0, 0, 0, 0, 0, 0, 0, 0\\n0, 0, 0, 0, 0, 0, 0, 0, 0, 0, 0, 0, 0, 0\\n0, 0, 0, 0, 0, 0, 0, 0, 0, 0, 0, 0, 0, 0\\n0, 0, 0, 0, 0, 0, 0, 0, 0, 0, 0, 0, 0, 0\\n0, 0, 0, 0, 0, 0, 0, 0, 0, 1, 0, 0, 0, 0\\n0, 0, 0, 0, 0, 1, 0, 0, 0, 0, 0, 0, 0, 1\\n0, 0, 0, 0, 0, 0, 0, 0, 0, 0, 0, 1, 1, 0\\n0, 0, 0, 0, 1, 0, 1, 1]'),\n",
              " Text(0.9130434782608695, 0.5833333333333334, 'gini = 0.0\\nsamples = 1\\nvalue = [0, 0, 0, 0, 0, 0, 0, 0, 0, 0, 0, 0, 0, 0\\n0, 0, 0, 0, 0, 0, 0, 0, 0, 0, 0, 0, 0, 0\\n0, 0, 0, 0, 0, 0, 0, 0, 0, 0, 0, 0, 0, 0\\n0, 0, 0, 0, 0, 0, 0, 0, 0, 0, 0, 0, 0, 0\\n0, 0, 0, 0, 0, 0, 0, 0, 0, 1, 0, 0, 0, 0\\n0, 0, 0, 0, 0, 0, 0, 0, 0, 0, 0, 0, 0, 0\\n0, 0, 0, 0, 0, 0, 0, 0, 0, 0, 0, 0, 0, 0\\n0, 0, 0, 0, 0, 0, 0, 0]'),\n",
              " Text(0.9347826086956522, 0.5833333333333334, 'X[5] <= 2.575\\ngini = 0.857\\nsamples = 7\\nvalue = [0, 0, 0, 0, 0, 0, 0, 0, 0, 0, 0, 0, 0, 0\\n0, 0, 0, 0, 0, 0, 0, 0, 0, 0, 0, 0, 0, 0\\n0, 0, 0, 0, 0, 0, 0, 0, 0, 0, 0, 0, 0, 0\\n0, 0, 0, 0, 0, 0, 0, 0, 0, 0, 0, 0, 0, 0\\n0, 0, 0, 0, 0, 0, 0, 0, 0, 0, 0, 0, 0, 0\\n0, 0, 0, 0, 0, 1, 0, 0, 0, 0, 0, 0, 0, 1\\n0, 0, 0, 0, 0, 0, 0, 0, 0, 0, 0, 1, 1, 0\\n0, 0, 0, 0, 1, 0, 1, 1]'),\n",
              " Text(0.9239130434782609, 0.55, 'gini = 0.0\\nsamples = 1\\nvalue = [0, 0, 0, 0, 0, 0, 0, 0, 0, 0, 0, 0, 0, 0\\n0, 0, 0, 0, 0, 0, 0, 0, 0, 0, 0, 0, 0, 0\\n0, 0, 0, 0, 0, 0, 0, 0, 0, 0, 0, 0, 0, 0\\n0, 0, 0, 0, 0, 0, 0, 0, 0, 0, 0, 0, 0, 0\\n0, 0, 0, 0, 0, 0, 0, 0, 0, 0, 0, 0, 0, 0\\n0, 0, 0, 0, 0, 0, 0, 0, 0, 0, 0, 0, 0, 0\\n0, 0, 0, 0, 0, 0, 0, 0, 0, 0, 0, 0, 1, 0\\n0, 0, 0, 0, 0, 0, 0, 0]'),\n",
              " Text(0.9456521739130435, 0.55, 'X[7] <= 0.24\\ngini = 0.833\\nsamples = 6\\nvalue = [0, 0, 0, 0, 0, 0, 0, 0, 0, 0, 0, 0, 0, 0\\n0, 0, 0, 0, 0, 0, 0, 0, 0, 0, 0, 0, 0, 0\\n0, 0, 0, 0, 0, 0, 0, 0, 0, 0, 0, 0, 0, 0\\n0, 0, 0, 0, 0, 0, 0, 0, 0, 0, 0, 0, 0, 0\\n0, 0, 0, 0, 0, 0, 0, 0, 0, 0, 0, 0, 0, 0\\n0, 0, 0, 0, 0, 1, 0, 0, 0, 0, 0, 0, 0, 1\\n0, 0, 0, 0, 0, 0, 0, 0, 0, 0, 0, 1, 0, 0\\n0, 0, 0, 0, 1, 0, 1, 1]'),\n",
              " Text(0.9239130434782609, 0.5166666666666667, 'X[4] <= 101.5\\ngini = 0.667\\nsamples = 3\\nvalue = [0, 0, 0, 0, 0, 0, 0, 0, 0, 0, 0, 0, 0, 0\\n0, 0, 0, 0, 0, 0, 0, 0, 0, 0, 0, 0, 0, 0\\n0, 0, 0, 0, 0, 0, 0, 0, 0, 0, 0, 0, 0, 0\\n0, 0, 0, 0, 0, 0, 0, 0, 0, 0, 0, 0, 0, 0\\n0, 0, 0, 0, 0, 0, 0, 0, 0, 0, 0, 0, 0, 0\\n0, 0, 0, 0, 0, 0, 0, 0, 0, 0, 0, 0, 0, 1\\n0, 0, 0, 0, 0, 0, 0, 0, 0, 0, 0, 0, 0, 0\\n0, 0, 0, 0, 0, 0, 1, 1]'),\n",
              " Text(0.9130434782608695, 0.48333333333333334, 'gini = 0.0\\nsamples = 1\\nvalue = [0, 0, 0, 0, 0, 0, 0, 0, 0, 0, 0, 0, 0, 0\\n0, 0, 0, 0, 0, 0, 0, 0, 0, 0, 0, 0, 0, 0\\n0, 0, 0, 0, 0, 0, 0, 0, 0, 0, 0, 0, 0, 0\\n0, 0, 0, 0, 0, 0, 0, 0, 0, 0, 0, 0, 0, 0\\n0, 0, 0, 0, 0, 0, 0, 0, 0, 0, 0, 0, 0, 0\\n0, 0, 0, 0, 0, 0, 0, 0, 0, 0, 0, 0, 0, 1\\n0, 0, 0, 0, 0, 0, 0, 0, 0, 0, 0, 0, 0, 0\\n0, 0, 0, 0, 0, 0, 0, 0]'),\n",
              " Text(0.9347826086956522, 0.48333333333333334, 'X[4] <= 105.5\\ngini = 0.5\\nsamples = 2\\nvalue = [0, 0, 0, 0, 0, 0, 0, 0, 0, 0, 0, 0, 0, 0\\n0, 0, 0, 0, 0, 0, 0, 0, 0, 0, 0, 0, 0, 0\\n0, 0, 0, 0, 0, 0, 0, 0, 0, 0, 0, 0, 0, 0\\n0, 0, 0, 0, 0, 0, 0, 0, 0, 0, 0, 0, 0, 0\\n0, 0, 0, 0, 0, 0, 0, 0, 0, 0, 0, 0, 0, 0\\n0, 0, 0, 0, 0, 0, 0, 0, 0, 0, 0, 0, 0, 0\\n0, 0, 0, 0, 0, 0, 0, 0, 0, 0, 0, 0, 0, 0\\n0, 0, 0, 0, 0, 0, 1, 1]'),\n",
              " Text(0.9239130434782609, 0.45, 'gini = 0.0\\nsamples = 1\\nvalue = [0, 0, 0, 0, 0, 0, 0, 0, 0, 0, 0, 0, 0, 0\\n0, 0, 0, 0, 0, 0, 0, 0, 0, 0, 0, 0, 0, 0\\n0, 0, 0, 0, 0, 0, 0, 0, 0, 0, 0, 0, 0, 0\\n0, 0, 0, 0, 0, 0, 0, 0, 0, 0, 0, 0, 0, 0\\n0, 0, 0, 0, 0, 0, 0, 0, 0, 0, 0, 0, 0, 0\\n0, 0, 0, 0, 0, 0, 0, 0, 0, 0, 0, 0, 0, 0\\n0, 0, 0, 0, 0, 0, 0, 0, 0, 0, 0, 0, 0, 0\\n0, 0, 0, 0, 0, 0, 1, 0]'),\n",
              " Text(0.9456521739130435, 0.45, 'gini = 0.0\\nsamples = 1\\nvalue = [0, 0, 0, 0, 0, 0, 0, 0, 0, 0, 0, 0, 0, 0\\n0, 0, 0, 0, 0, 0, 0, 0, 0, 0, 0, 0, 0, 0\\n0, 0, 0, 0, 0, 0, 0, 0, 0, 0, 0, 0, 0, 0\\n0, 0, 0, 0, 0, 0, 0, 0, 0, 0, 0, 0, 0, 0\\n0, 0, 0, 0, 0, 0, 0, 0, 0, 0, 0, 0, 0, 0\\n0, 0, 0, 0, 0, 0, 0, 0, 0, 0, 0, 0, 0, 0\\n0, 0, 0, 0, 0, 0, 0, 0, 0, 0, 0, 0, 0, 0\\n0, 0, 0, 0, 0, 0, 0, 1]'),\n",
              " Text(0.967391304347826, 0.5166666666666667, 'X[2] <= 2.555\\ngini = 0.667\\nsamples = 3\\nvalue = [0, 0, 0, 0, 0, 0, 0, 0, 0, 0, 0, 0, 0, 0\\n0, 0, 0, 0, 0, 0, 0, 0, 0, 0, 0, 0, 0, 0\\n0, 0, 0, 0, 0, 0, 0, 0, 0, 0, 0, 0, 0, 0\\n0, 0, 0, 0, 0, 0, 0, 0, 0, 0, 0, 0, 0, 0\\n0, 0, 0, 0, 0, 0, 0, 0, 0, 0, 0, 0, 0, 0\\n0, 0, 0, 0, 0, 1, 0, 0, 0, 0, 0, 0, 0, 0\\n0, 0, 0, 0, 0, 0, 0, 0, 0, 0, 0, 1, 0, 0\\n0, 0, 0, 0, 1, 0, 0, 0]'),\n",
              " Text(0.9565217391304348, 0.48333333333333334, 'gini = 0.0\\nsamples = 1\\nvalue = [0, 0, 0, 0, 0, 0, 0, 0, 0, 0, 0, 0, 0, 0\\n0, 0, 0, 0, 0, 0, 0, 0, 0, 0, 0, 0, 0, 0\\n0, 0, 0, 0, 0, 0, 0, 0, 0, 0, 0, 0, 0, 0\\n0, 0, 0, 0, 0, 0, 0, 0, 0, 0, 0, 0, 0, 0\\n0, 0, 0, 0, 0, 0, 0, 0, 0, 0, 0, 0, 0, 0\\n0, 0, 0, 0, 0, 1, 0, 0, 0, 0, 0, 0, 0, 0\\n0, 0, 0, 0, 0, 0, 0, 0, 0, 0, 0, 0, 0, 0\\n0, 0, 0, 0, 0, 0, 0, 0]'),\n",
              " Text(0.9782608695652174, 0.48333333333333334, 'X[0] <= 13.695\\ngini = 0.5\\nsamples = 2\\nvalue = [0, 0, 0, 0, 0, 0, 0, 0, 0, 0, 0, 0, 0, 0\\n0, 0, 0, 0, 0, 0, 0, 0, 0, 0, 0, 0, 0, 0\\n0, 0, 0, 0, 0, 0, 0, 0, 0, 0, 0, 0, 0, 0\\n0, 0, 0, 0, 0, 0, 0, 0, 0, 0, 0, 0, 0, 0\\n0, 0, 0, 0, 0, 0, 0, 0, 0, 0, 0, 0, 0, 0\\n0, 0, 0, 0, 0, 0, 0, 0, 0, 0, 0, 0, 0, 0\\n0, 0, 0, 0, 0, 0, 0, 0, 0, 0, 0, 1, 0, 0\\n0, 0, 0, 0, 1, 0, 0, 0]'),\n",
              " Text(0.967391304347826, 0.45, 'gini = 0.0\\nsamples = 1\\nvalue = [0, 0, 0, 0, 0, 0, 0, 0, 0, 0, 0, 0, 0, 0\\n0, 0, 0, 0, 0, 0, 0, 0, 0, 0, 0, 0, 0, 0\\n0, 0, 0, 0, 0, 0, 0, 0, 0, 0, 0, 0, 0, 0\\n0, 0, 0, 0, 0, 0, 0, 0, 0, 0, 0, 0, 0, 0\\n0, 0, 0, 0, 0, 0, 0, 0, 0, 0, 0, 0, 0, 0\\n0, 0, 0, 0, 0, 0, 0, 0, 0, 0, 0, 0, 0, 0\\n0, 0, 0, 0, 0, 0, 0, 0, 0, 0, 0, 0, 0, 0\\n0, 0, 0, 0, 1, 0, 0, 0]'),\n",
              " Text(0.9891304347826086, 0.45, 'gini = 0.0\\nsamples = 1\\nvalue = [0, 0, 0, 0, 0, 0, 0, 0, 0, 0, 0, 0, 0, 0\\n0, 0, 0, 0, 0, 0, 0, 0, 0, 0, 0, 0, 0, 0\\n0, 0, 0, 0, 0, 0, 0, 0, 0, 0, 0, 0, 0, 0\\n0, 0, 0, 0, 0, 0, 0, 0, 0, 0, 0, 0, 0, 0\\n0, 0, 0, 0, 0, 0, 0, 0, 0, 0, 0, 0, 0, 0\\n0, 0, 0, 0, 0, 0, 0, 0, 0, 0, 0, 0, 0, 0\\n0, 0, 0, 0, 0, 0, 0, 0, 0, 0, 0, 1, 0, 0\\n0, 0, 0, 0, 0, 0, 0, 0]'),\n",
              " Text(0.9021739130434783, 0.8833333333333333, 'X[10] <= 1.055\\ngini = 0.816\\nsamples = 7\\nvalue = [0, 0, 0, 0, 0, 0, 0, 0, 0, 0, 0, 0, 0, 0\\n0, 0, 0, 0, 0, 0, 0, 0, 0, 0, 0, 0, 0, 0\\n0, 0, 0, 0, 0, 0, 0, 0, 0, 0, 0, 0, 0, 0\\n0, 0, 0, 0, 0, 0, 0, 0, 0, 0, 0, 0, 0, 0\\n0, 0, 0, 0, 0, 0, 0, 0, 0, 0, 0, 0, 0, 0\\n0, 0, 0, 0, 0, 0, 0, 1, 0, 0, 0, 0, 0, 0\\n0, 0, 1, 1, 0, 0, 0, 0, 0, 0, 0, 0, 0, 0\\n2, 0, 1, 0, 0, 1, 0, 0]'),\n",
              " Text(0.8913043478260869, 0.85, 'X[4] <= 103.5\\ngini = 0.8\\nsamples = 5\\nvalue = [0, 0, 0, 0, 0, 0, 0, 0, 0, 0, 0, 0, 0, 0\\n0, 0, 0, 0, 0, 0, 0, 0, 0, 0, 0, 0, 0, 0\\n0, 0, 0, 0, 0, 0, 0, 0, 0, 0, 0, 0, 0, 0\\n0, 0, 0, 0, 0, 0, 0, 0, 0, 0, 0, 0, 0, 0\\n0, 0, 0, 0, 0, 0, 0, 0, 0, 0, 0, 0, 0, 0\\n0, 0, 0, 0, 0, 0, 0, 1, 0, 0, 0, 0, 0, 0\\n0, 0, 1, 1, 0, 0, 0, 0, 0, 0, 0, 0, 0, 0\\n0, 0, 1, 0, 0, 1, 0, 0]'),\n",
              " Text(0.8804347826086957, 0.8166666666666667, 'gini = 0.0\\nsamples = 1\\nvalue = [0, 0, 0, 0, 0, 0, 0, 0, 0, 0, 0, 0, 0, 0\\n0, 0, 0, 0, 0, 0, 0, 0, 0, 0, 0, 0, 0, 0\\n0, 0, 0, 0, 0, 0, 0, 0, 0, 0, 0, 0, 0, 0\\n0, 0, 0, 0, 0, 0, 0, 0, 0, 0, 0, 0, 0, 0\\n0, 0, 0, 0, 0, 0, 0, 0, 0, 0, 0, 0, 0, 0\\n0, 0, 0, 0, 0, 0, 0, 0, 0, 0, 0, 0, 0, 0\\n0, 0, 0, 0, 0, 0, 0, 0, 0, 0, 0, 0, 0, 0\\n0, 0, 1, 0, 0, 0, 0, 0]'),\n",
              " Text(0.9021739130434783, 0.8166666666666667, 'X[5] <= 2.825\\ngini = 0.75\\nsamples = 4\\nvalue = [0, 0, 0, 0, 0, 0, 0, 0, 0, 0, 0, 0, 0, 0\\n0, 0, 0, 0, 0, 0, 0, 0, 0, 0, 0, 0, 0, 0\\n0, 0, 0, 0, 0, 0, 0, 0, 0, 0, 0, 0, 0, 0\\n0, 0, 0, 0, 0, 0, 0, 0, 0, 0, 0, 0, 0, 0\\n0, 0, 0, 0, 0, 0, 0, 0, 0, 0, 0, 0, 0, 0\\n0, 0, 0, 0, 0, 0, 0, 1, 0, 0, 0, 0, 0, 0\\n0, 0, 1, 1, 0, 0, 0, 0, 0, 0, 0, 0, 0, 0\\n0, 0, 0, 0, 0, 1, 0, 0]'),\n",
              " Text(0.8913043478260869, 0.7833333333333333, 'gini = 0.0\\nsamples = 1\\nvalue = [0, 0, 0, 0, 0, 0, 0, 0, 0, 0, 0, 0, 0, 0\\n0, 0, 0, 0, 0, 0, 0, 0, 0, 0, 0, 0, 0, 0\\n0, 0, 0, 0, 0, 0, 0, 0, 0, 0, 0, 0, 0, 0\\n0, 0, 0, 0, 0, 0, 0, 0, 0, 0, 0, 0, 0, 0\\n0, 0, 0, 0, 0, 0, 0, 0, 0, 0, 0, 0, 0, 0\\n0, 0, 0, 0, 0, 0, 0, 0, 0, 0, 0, 0, 0, 0\\n0, 0, 1, 0, 0, 0, 0, 0, 0, 0, 0, 0, 0, 0\\n0, 0, 0, 0, 0, 0, 0, 0]'),\n",
              " Text(0.9130434782608695, 0.7833333333333333, 'X[9] <= 5.81\\ngini = 0.667\\nsamples = 3\\nvalue = [0, 0, 0, 0, 0, 0, 0, 0, 0, 0, 0, 0, 0, 0\\n0, 0, 0, 0, 0, 0, 0, 0, 0, 0, 0, 0, 0, 0\\n0, 0, 0, 0, 0, 0, 0, 0, 0, 0, 0, 0, 0, 0\\n0, 0, 0, 0, 0, 0, 0, 0, 0, 0, 0, 0, 0, 0\\n0, 0, 0, 0, 0, 0, 0, 0, 0, 0, 0, 0, 0, 0\\n0, 0, 0, 0, 0, 0, 0, 1, 0, 0, 0, 0, 0, 0\\n0, 0, 0, 1, 0, 0, 0, 0, 0, 0, 0, 0, 0, 0\\n0, 0, 0, 0, 0, 1, 0, 0]'),\n",
              " Text(0.9021739130434783, 0.75, 'gini = 0.0\\nsamples = 1\\nvalue = [0, 0, 0, 0, 0, 0, 0, 0, 0, 0, 0, 0, 0, 0\\n0, 0, 0, 0, 0, 0, 0, 0, 0, 0, 0, 0, 0, 0\\n0, 0, 0, 0, 0, 0, 0, 0, 0, 0, 0, 0, 0, 0\\n0, 0, 0, 0, 0, 0, 0, 0, 0, 0, 0, 0, 0, 0\\n0, 0, 0, 0, 0, 0, 0, 0, 0, 0, 0, 0, 0, 0\\n0, 0, 0, 0, 0, 0, 0, 0, 0, 0, 0, 0, 0, 0\\n0, 0, 0, 1, 0, 0, 0, 0, 0, 0, 0, 0, 0, 0\\n0, 0, 0, 0, 0, 0, 0, 0]'),\n",
              " Text(0.9239130434782609, 0.75, 'X[4] <= 115.5\\ngini = 0.5\\nsamples = 2\\nvalue = [0, 0, 0, 0, 0, 0, 0, 0, 0, 0, 0, 0, 0, 0\\n0, 0, 0, 0, 0, 0, 0, 0, 0, 0, 0, 0, 0, 0\\n0, 0, 0, 0, 0, 0, 0, 0, 0, 0, 0, 0, 0, 0\\n0, 0, 0, 0, 0, 0, 0, 0, 0, 0, 0, 0, 0, 0\\n0, 0, 0, 0, 0, 0, 0, 0, 0, 0, 0, 0, 0, 0\\n0, 0, 0, 0, 0, 0, 0, 1, 0, 0, 0, 0, 0, 0\\n0, 0, 0, 0, 0, 0, 0, 0, 0, 0, 0, 0, 0, 0\\n0, 0, 0, 0, 0, 1, 0, 0]'),\n",
              " Text(0.9130434782608695, 0.7166666666666667, 'gini = 0.0\\nsamples = 1\\nvalue = [0, 0, 0, 0, 0, 0, 0, 0, 0, 0, 0, 0, 0, 0\\n0, 0, 0, 0, 0, 0, 0, 0, 0, 0, 0, 0, 0, 0\\n0, 0, 0, 0, 0, 0, 0, 0, 0, 0, 0, 0, 0, 0\\n0, 0, 0, 0, 0, 0, 0, 0, 0, 0, 0, 0, 0, 0\\n0, 0, 0, 0, 0, 0, 0, 0, 0, 0, 0, 0, 0, 0\\n0, 0, 0, 0, 0, 0, 0, 0, 0, 0, 0, 0, 0, 0\\n0, 0, 0, 0, 0, 0, 0, 0, 0, 0, 0, 0, 0, 0\\n0, 0, 0, 0, 0, 1, 0, 0]'),\n",
              " Text(0.9347826086956522, 0.7166666666666667, 'gini = 0.0\\nsamples = 1\\nvalue = [0, 0, 0, 0, 0, 0, 0, 0, 0, 0, 0, 0, 0, 0\\n0, 0, 0, 0, 0, 0, 0, 0, 0, 0, 0, 0, 0, 0\\n0, 0, 0, 0, 0, 0, 0, 0, 0, 0, 0, 0, 0, 0\\n0, 0, 0, 0, 0, 0, 0, 0, 0, 0, 0, 0, 0, 0\\n0, 0, 0, 0, 0, 0, 0, 0, 0, 0, 0, 0, 0, 0\\n0, 0, 0, 0, 0, 0, 0, 1, 0, 0, 0, 0, 0, 0\\n0, 0, 0, 0, 0, 0, 0, 0, 0, 0, 0, 0, 0, 0\\n0, 0, 0, 0, 0, 0, 0, 0]'),\n",
              " Text(0.9130434782608695, 0.85, 'gini = 0.0\\nsamples = 2\\nvalue = [0, 0, 0, 0, 0, 0, 0, 0, 0, 0, 0, 0, 0, 0\\n0, 0, 0, 0, 0, 0, 0, 0, 0, 0, 0, 0, 0, 0\\n0, 0, 0, 0, 0, 0, 0, 0, 0, 0, 0, 0, 0, 0\\n0, 0, 0, 0, 0, 0, 0, 0, 0, 0, 0, 0, 0, 0\\n0, 0, 0, 0, 0, 0, 0, 0, 0, 0, 0, 0, 0, 0\\n0, 0, 0, 0, 0, 0, 0, 0, 0, 0, 0, 0, 0, 0\\n0, 0, 0, 0, 0, 0, 0, 0, 0, 0, 0, 0, 0, 0\\n2, 0, 0, 0, 0, 0, 0, 0]')]"
            ]
          },
          "metadata": {},
          "execution_count": 92
        },
        {
          "output_type": "display_data",
          "data": {
            "text/plain": [
              "<Figure size 432x288 with 1 Axes>"
            ],
            "image/png": "[encoded data removed]"
          },
          "metadata": {
            "needs_background": "light"
          }
        }
      ]
    },
    {
      "cell_type": "markdown",
      "source": [
        "## 3.1-. Naive Bayes 20% for test and 80%\n"
      ],
      "metadata": {
        "id": "7fzs_lPD7Er1"
      }
    },
    {
      "cell_type": "code",
      "source": [
        "from sklearn.naive_bayes import GaussianNB\n",
        "\n",
        "# Crear modelo basado en un clasificador naive Bayes (Gaussiano)\n",
        "clf = GaussianNB()\n",
        "\n",
        "# Entrenamiento\n",
        "clf = clf.fit(X_train_wine, Y_train_wine)\n",
        "\n",
        "# Prueba\n",
        "y_train_pred = clf.predict(X_train_wine)\n",
        "\n",
        "# Resultados\n",
        "print(\"===== TRAINING DATA ======\")\n",
        "print(confusion_matrix(Y_train_wine, y_train_pred))\n",
        "print(classification_report(Y_train_wine, y_train_pred))"
      ],
      "metadata": {
        "colab": {
          "base_uri": "https://localhost:8080/"
        },
        "id": "jS0byWxz7gV1",
        "outputId": "60ce76cb-07ab-459c-ef19-b2bee05de9d7"
      },
      "execution_count": 93,
      "outputs": [
        {
          "output_type": "stream",
          "name": "stdout",
          "text": [
            "===== TRAINING DATA ======\n",
            "[[1 0 0 ... 0 0 0]\n",
            " [0 1 0 ... 0 0 0]\n",
            " [0 0 1 ... 0 0 0]\n",
            " ...\n",
            " [0 0 0 ... 1 0 0]\n",
            " [0 0 0 ... 0 1 0]\n",
            " [0 0 0 ... 0 0 1]]\n",
            "              precision    recall  f1-score   support\n",
            "\n",
            "         278       1.00      1.00      1.00         1\n",
            "         290       1.00      1.00      1.00         1\n",
            "         312       1.00      1.00      1.00         1\n",
            "         315       1.00      1.00      1.00         1\n",
            "         325       1.00      1.00      1.00         1\n",
            "         342       1.00      1.00      1.00         1\n",
            "         345       1.00      1.00      1.00         1\n",
            "         352       1.00      1.00      1.00         1\n",
            "         355       1.00      1.00      1.00         1\n",
            "         365       1.00      1.00      1.00         1\n",
            "         372       1.00      1.00      1.00         1\n",
            "         378       1.00      1.00      1.00         1\n",
            "         380       1.00      1.00      1.00         1\n",
            "         385       1.00      1.00      1.00         1\n",
            "         392       1.00      1.00      1.00         1\n",
            "         406       1.00      1.00      1.00         1\n",
            "         407       1.00      1.00      1.00         1\n",
            "         410       1.00      1.00      1.00         1\n",
            "         415       1.00      1.00      1.00         2\n",
            "         428       1.00      1.00      1.00         1\n",
            "         434       1.00      1.00      1.00         1\n",
            "         438       1.00      1.00      1.00         1\n",
            "         450       0.50      1.00      0.67         3\n",
            "         465       1.00      1.00      1.00         1\n",
            "         466       1.00      1.00      1.00         1\n",
            "         470       1.00      1.00      1.00         1\n",
            "         472       1.00      1.00      1.00         1\n",
            "         480       0.67      0.67      0.67         3\n",
            "         488       1.00      1.00      1.00         1\n",
            "         500       1.00      1.00      1.00         1\n",
            "         502       1.00      1.00      1.00         1\n",
            "         510       1.00      1.00      1.00         2\n",
            "         515       1.00      1.00      1.00         2\n",
            "         520       1.00      1.00      1.00         1\n",
            "         530       1.00      1.00      1.00         1\n",
            "         550       1.00      1.00      1.00         2\n",
            "         560       1.00      1.00      1.00         1\n",
            "         562       0.67      0.67      0.67         3\n",
            "         564       1.00      1.00      1.00         1\n",
            "         580       1.00      1.00      1.00         2\n",
            "         590       1.00      1.00      1.00         1\n",
            "         600       1.00      1.00      1.00         2\n",
            "         607       1.00      1.00      1.00         1\n",
            "         615       1.00      1.00      1.00         1\n",
            "         620       1.00      1.00      1.00         1\n",
            "         625       0.75      0.75      0.75         4\n",
            "         630       1.00      0.75      0.86         4\n",
            "         640       1.00      1.00      1.00         1\n",
            "         650       1.00      1.00      1.00         2\n",
            "         660       1.00      1.00      1.00         2\n",
            "         672       1.00      1.00      1.00         1\n",
            "         675       1.00      1.00      1.00         2\n",
            "         678       1.00      1.00      1.00         1\n",
            "         680       0.50      0.25      0.33         4\n",
            "         685       1.00      1.00      1.00         1\n",
            "         695       1.00      1.00      1.00         1\n",
            "         710       1.00      1.00      1.00         1\n",
            "         714       1.00      1.00      1.00         1\n",
            "         720       1.00      1.00      1.00         1\n",
            "         725       1.00      1.00      1.00         1\n",
            "         735       1.00      1.00      1.00         1\n",
            "         740       1.00      1.00      1.00         1\n",
            "         750       0.50      0.50      0.50         4\n",
            "         770       1.00      1.00      1.00         1\n",
            "         780       1.00      1.00      1.00         1\n",
            "         795       1.00      1.00      1.00         1\n",
            "         830       1.00      1.00      1.00         2\n",
            "         835       1.00      1.00      1.00         1\n",
            "         840       1.00      1.00      1.00         1\n",
            "         845       1.00      1.00      1.00         2\n",
            "         855       1.00      1.00      1.00         1\n",
            "         870       1.00      1.00      1.00         1\n",
            "         880       1.00      1.00      1.00         1\n",
            "         886       1.00      1.00      1.00         1\n",
            "         915       1.00      1.00      1.00         1\n",
            "         920       1.00      1.00      1.00         1\n",
            "         937       1.00      1.00      1.00         1\n",
            "         970       1.00      1.00      1.00         1\n",
            "         985       1.00      1.00      1.00         2\n",
            "         990       1.00      1.00      1.00         1\n",
            "        1015       1.00      1.00      1.00         1\n",
            "        1020       1.00      1.00      1.00         1\n",
            "        1035       0.75      1.00      0.86         3\n",
            "        1045       1.00      1.00      1.00         1\n",
            "        1050       1.00      1.00      1.00         1\n",
            "        1060       1.00      1.00      1.00         1\n",
            "        1065       1.00      1.00      1.00         1\n",
            "        1080       1.00      1.00      1.00         1\n",
            "        1095       1.00      1.00      1.00         2\n",
            "        1105       1.00      1.00      1.00         1\n",
            "        1120       1.00      1.00      1.00         1\n",
            "        1130       1.00      1.00      1.00         1\n",
            "        1150       1.00      1.00      1.00         1\n",
            "        1185       1.00      1.00      1.00         1\n",
            "        1195       1.00      1.00      1.00         1\n",
            "        1235       1.00      1.00      1.00         1\n",
            "        1265       1.00      1.00      1.00         1\n",
            "        1270       1.00      1.00      1.00         1\n",
            "        1280       1.00      1.00      1.00         2\n",
            "        1285       1.00      0.67      0.80         3\n",
            "        1290       1.00      1.00      1.00         1\n",
            "        1295       1.00      1.00      1.00         1\n",
            "        1310       1.00      1.00      1.00         1\n",
            "        1480       1.00      1.00      1.00         1\n",
            "        1510       1.00      1.00      1.00         1\n",
            "        1515       1.00      1.00      1.00         1\n",
            "\n",
            "    accuracy                           0.93       142\n",
            "   macro avg       0.97      0.97      0.97       142\n",
            "weighted avg       0.93      0.93      0.93       142\n",
            "\n"
          ]
        }
      ]
    },
    {
      "cell_type": "markdown",
      "source": [
        "## 4-. Decision tree 50% for test and 50%"
      ],
      "metadata": {
        "id": "pKRkwM6-7roS"
      }
    },
    {
      "cell_type": "code",
      "source": [
        "from sklearn.metrics import classification_report, confusion_matrix\n",
        "from sklearn.model_selection import train_test_split\n",
        "from sklearn import tree\n",
        "\n",
        "X_train_wine_2 = x_train_enc\n",
        "Y_train_wine_2 = y_train_enc\n",
        "#divided the data into 50% for test and 50% for train\n",
        "X_train_wine_2, X_test, Y_train_wine_2, y_test = train_test_split(X_wine, Y_wine, test_size=0.5)\n",
        "\n",
        "#Crear modelo basado en árbol de decisión\n",
        "clf = tree.DecisionTreeClassifier()\n",
        "\n",
        "#Entrenamiento\n",
        "clf = clf.fit(X_train_wine_2, Y_train_wine_2)\n",
        "\n",
        "#Prueba\n",
        "y_train_pred = clf.predict(X_train_wine_2)\n",
        "\n",
        "#Resultados\n",
        "print(confusion_matrix(Y_train_wine_2, y_train_pred))\n",
        "print(classification_report(Y_train_wine_2, y_train_pred))\n",
        "\n",
        "tree.plot_tree(clf)"
      ],
      "metadata": {
        "colab": {
          "base_uri": "https://localhost:8080/",
          "height": 1000
        },
        "id": "DDnZ27Zk7rzU",
        "outputId": "d38c12eb-d374-41d2-8b92-431d64be3cb2"
      },
      "execution_count": 97,
      "outputs": [
        {
          "output_type": "stream",
          "name": "stdout",
          "text": [
            "[[1 0 0 ... 0 0 0]\n",
            " [0 1 0 ... 0 0 0]\n",
            " [0 0 1 ... 0 0 0]\n",
            " ...\n",
            " [0 0 0 ... 1 0 0]\n",
            " [0 0 0 ... 0 1 0]\n",
            " [0 0 0 ... 0 0 1]]\n",
            "              precision    recall  f1-score   support\n",
            "\n",
            "         315       1.00      1.00      1.00         1\n",
            "         342       1.00      1.00      1.00         1\n",
            "         345       1.00      1.00      1.00         1\n",
            "         372       1.00      1.00      1.00         1\n",
            "         378       1.00      1.00      1.00         1\n",
            "         406       1.00      1.00      1.00         1\n",
            "         415       1.00      1.00      1.00         1\n",
            "         420       1.00      1.00      1.00         1\n",
            "         428       1.00      1.00      1.00         1\n",
            "         438       1.00      1.00      1.00         1\n",
            "         450       1.00      1.00      1.00         1\n",
            "         463       1.00      1.00      1.00         1\n",
            "         465       1.00      1.00      1.00         1\n",
            "         466       1.00      1.00      1.00         1\n",
            "         470       1.00      1.00      1.00         1\n",
            "         480       1.00      1.00      1.00         1\n",
            "         488       1.00      1.00      1.00         1\n",
            "         495       1.00      1.00      1.00         3\n",
            "         500       1.00      1.00      1.00         1\n",
            "         510       1.00      1.00      1.00         2\n",
            "         515       1.00      1.00      1.00         1\n",
            "         520       1.00      1.00      1.00         3\n",
            "         550       1.00      1.00      1.00         2\n",
            "         560       1.00      1.00      1.00         2\n",
            "         562       1.00      1.00      1.00         2\n",
            "         564       1.00      1.00      1.00         1\n",
            "         580       1.00      1.00      1.00         1\n",
            "         590       1.00      1.00      1.00         1\n",
            "         600       1.00      1.00      1.00         1\n",
            "         607       1.00      1.00      1.00         1\n",
            "         615       1.00      1.00      1.00         1\n",
            "         625       1.00      1.00      1.00         3\n",
            "         630       1.00      1.00      1.00         1\n",
            "         650       1.00      1.00      1.00         1\n",
            "         678       1.00      1.00      1.00         1\n",
            "         680       1.00      1.00      1.00         4\n",
            "         685       1.00      1.00      1.00         1\n",
            "         695       1.00      1.00      1.00         2\n",
            "         710       1.00      1.00      1.00         1\n",
            "         720       1.00      1.00      1.00         1\n",
            "         725       1.00      1.00      1.00         1\n",
            "         750       1.00      1.00      1.00         2\n",
            "         760       1.00      1.00      1.00         1\n",
            "         770       1.00      1.00      1.00         1\n",
            "         830       1.00      1.00      1.00         1\n",
            "         835       1.00      1.00      1.00         1\n",
            "         845       1.00      1.00      1.00         1\n",
            "         885       1.00      1.00      1.00         1\n",
            "         886       1.00      1.00      1.00         1\n",
            "         915       1.00      1.00      1.00         1\n",
            "         970       1.00      1.00      1.00         1\n",
            "         985       1.00      1.00      1.00         1\n",
            "        1015       1.00      1.00      1.00         1\n",
            "        1035       1.00      1.00      1.00         1\n",
            "        1045       1.00      1.00      1.00         1\n",
            "        1050       1.00      1.00      1.00         1\n",
            "        1065       1.00      1.00      1.00         1\n",
            "        1080       1.00      1.00      1.00         1\n",
            "        1095       1.00      1.00      1.00         2\n",
            "        1105       1.00      1.00      1.00         1\n",
            "        1120       1.00      1.00      1.00         1\n",
            "        1130       1.00      1.00      1.00         1\n",
            "        1150       1.00      1.00      1.00         1\n",
            "        1185       1.00      1.00      1.00         1\n",
            "        1235       1.00      1.00      1.00         1\n",
            "        1260       1.00      1.00      1.00         1\n",
            "        1270       1.00      1.00      1.00         1\n",
            "        1285       1.00      1.00      1.00         2\n",
            "        1295       1.00      1.00      1.00         1\n",
            "        1320       1.00      1.00      1.00         1\n",
            "        1547       1.00      1.00      1.00         1\n",
            "        1680       1.00      1.00      1.00         1\n",
            "\n",
            "    accuracy                           1.00        89\n",
            "   macro avg       1.00      1.00      1.00        89\n",
            "weighted avg       1.00      1.00      1.00        89\n",
            "\n"
          ]
        },
        {
          "output_type": "execute_result",
          "data": {
            "text/plain": [
              "[Text(0.3553316885964912, 0.9791666666666666, 'X[1] <= 0.965\\ngini = 0.983\\nsamples = 89\\nvalue = [1, 1, 1, 1, 1, 1, 1, 1, 1, 1, 1, 1, 1, 1\\n1, 1, 1, 3, 1, 2, 1, 3, 2, 2, 2, 1, 1, 1\\n1, 1, 1, 3, 1, 1, 1, 4, 1, 2, 1, 1, 1, 2\\n1, 1, 1, 1, 1, 1, 1, 1, 1, 1, 1, 1, 1, 1\\n1, 1, 2, 1, 1, 1, 1, 1, 1, 1, 1, 2, 1, 1\\n1, 1]'),\n",
              " Text(0.3377878289473684, 0.9375, 'gini = 0.0\\nsamples = 2\\nvalue = [0, 0, 0, 0, 0, 0, 0, 0, 0, 0, 0, 0, 0, 0\\n0, 0, 0, 0, 0, 0, 0, 2, 0, 0, 0, 0, 0, 0\\n0, 0, 0, 0, 0, 0, 0, 0, 0, 0, 0, 0, 0, 0\\n0, 0, 0, 0, 0, 0, 0, 0, 0, 0, 0, 0, 0, 0\\n0, 0, 0, 0, 0, 0, 0, 0, 0, 0, 0, 0, 0, 0\\n0, 0]'),\n",
              " Text(0.37287554824561403, 0.9375, 'X[9] <= 3.285\\ngini = 0.983\\nsamples = 87\\nvalue = [1, 1, 1, 1, 1, 1, 1, 1, 1, 1, 1, 1, 1, 1\\n1, 1, 1, 3, 1, 2, 1, 1, 2, 2, 2, 1, 1, 1\\n1, 1, 1, 3, 1, 1, 1, 4, 1, 2, 1, 1, 1, 2\\n1, 1, 1, 1, 1, 1, 1, 1, 1, 1, 1, 1, 1, 1\\n1, 1, 2, 1, 1, 1, 1, 1, 1, 1, 1, 2, 1, 1\\n1, 1]'),\n",
              " Text(0.09649122807017543, 0.8958333333333334, 'X[5] <= 1.99\\ngini = 0.92\\nsamples = 20\\nvalue = [1, 1, 1, 0, 1, 1, 0, 0, 0, 1, 0, 1, 0, 1\\n0, 0, 0, 3, 0, 0, 0, 0, 0, 0, 2, 1, 1, 0\\n0, 0, 0, 2, 0, 0, 0, 2, 0, 0, 0, 0, 0, 0\\n0, 0, 0, 0, 0, 0, 1, 0, 0, 0, 0, 0, 0, 0\\n0, 0, 0, 0, 0, 0, 0, 0, 0, 0, 0, 0, 0, 0\\n0, 0]'),\n",
              " Text(0.03508771929824561, 0.8541666666666666, 'X[1] <= 1.64\\ngini = 0.56\\nsamples = 5\\nvalue = [1, 0, 0, 0, 0, 0, 0, 0, 0, 0, 0, 0, 0, 0\\n0, 0, 0, 3, 0, 0, 0, 0, 0, 0, 1, 0, 0, 0\\n0, 0, 0, 0, 0, 0, 0, 0, 0, 0, 0, 0, 0, 0\\n0, 0, 0, 0, 0, 0, 0, 0, 0, 0, 0, 0, 0, 0\\n0, 0, 0, 0, 0, 0, 0, 0, 0, 0, 0, 0, 0, 0\\n0, 0]'),\n",
              " Text(0.017543859649122806, 0.8125, 'gini = 0.0\\nsamples = 3\\nvalue = [0, 0, 0, 0, 0, 0, 0, 0, 0, 0, 0, 0, 0, 0\\n0, 0, 0, 3, 0, 0, 0, 0, 0, 0, 0, 0, 0, 0\\n0, 0, 0, 0, 0, 0, 0, 0, 0, 0, 0, 0, 0, 0\\n0, 0, 0, 0, 0, 0, 0, 0, 0, 0, 0, 0, 0, 0\\n0, 0, 0, 0, 0, 0, 0, 0, 0, 0, 0, 0, 0, 0\\n0, 0]'),\n",
              " Text(0.05263157894736842, 0.8125, 'X[1] <= 2.11\\ngini = 0.5\\nsamples = 2\\nvalue = [1, 0, 0, 0, 0, 0, 0, 0, 0, 0, 0, 0, 0, 0\\n0, 0, 0, 0, 0, 0, 0, 0, 0, 0, 1, 0, 0, 0\\n0, 0, 0, 0, 0, 0, 0, 0, 0, 0, 0, 0, 0, 0\\n0, 0, 0, 0, 0, 0, 0, 0, 0, 0, 0, 0, 0, 0\\n0, 0, 0, 0, 0, 0, 0, 0, 0, 0, 0, 0, 0, 0\\n0, 0]'),\n",
              " Text(0.03508771929824561, 0.7708333333333334, 'gini = 0.0\\nsamples = 1\\nvalue = [0, 0, 0, 0, 0, 0, 0, 0, 0, 0, 0, 0, 0, 0\\n0, 0, 0, 0, 0, 0, 0, 0, 0, 0, 1, 0, 0, 0\\n0, 0, 0, 0, 0, 0, 0, 0, 0, 0, 0, 0, 0, 0\\n0, 0, 0, 0, 0, 0, 0, 0, 0, 0, 0, 0, 0, 0\\n0, 0, 0, 0, 0, 0, 0, 0, 0, 0, 0, 0, 0, 0\\n0, 0]'),\n",
              " Text(0.07017543859649122, 0.7708333333333334, 'gini = 0.0\\nsamples = 1\\nvalue = [1, 0, 0, 0, 0, 0, 0, 0, 0, 0, 0, 0, 0, 0\\n0, 0, 0, 0, 0, 0, 0, 0, 0, 0, 0, 0, 0, 0\\n0, 0, 0, 0, 0, 0, 0, 0, 0, 0, 0, 0, 0, 0\\n0, 0, 0, 0, 0, 0, 0, 0, 0, 0, 0, 0, 0, 0\\n0, 0, 0, 0, 0, 0, 0, 0, 0, 0, 0, 0, 0, 0\\n0, 0]'),\n",
              " Text(0.15789473684210525, 0.8541666666666666, 'X[1] <= 1.48\\ngini = 0.916\\nsamples = 15\\nvalue = [0, 1, 1, 0, 1, 1, 0, 0, 0, 1, 0, 1, 0, 1\\n0, 0, 0, 0, 0, 0, 0, 0, 0, 0, 1, 1, 1, 0\\n0, 0, 0, 2, 0, 0, 0, 2, 0, 0, 0, 0, 0, 0\\n0, 0, 0, 0, 0, 0, 1, 0, 0, 0, 0, 0, 0, 0\\n0, 0, 0, 0, 0, 0, 0, 0, 0, 0, 0, 0, 0, 0\\n0, 0]'),\n",
              " Text(0.12280701754385964, 0.8125, 'X[3] <= 20.5\\ngini = 0.625\\nsamples = 4\\nvalue = [0, 0, 0, 0, 0, 0, 0, 0, 0, 0, 0, 0, 0, 0\\n0, 0, 0, 0, 0, 0, 0, 0, 0, 0, 0, 0, 0, 0\\n0, 0, 0, 1, 0, 0, 0, 2, 0, 0, 0, 0, 0, 0\\n0, 0, 0, 0, 0, 0, 1, 0, 0, 0, 0, 0, 0, 0\\n0, 0, 0, 0, 0, 0, 0, 0, 0, 0, 0, 0, 0, 0\\n0, 0]'),\n",
              " Text(0.10526315789473684, 0.7708333333333334, 'gini = 0.0\\nsamples = 2\\nvalue = [0, 0, 0, 0, 0, 0, 0, 0, 0, 0, 0, 0, 0, 0\\n0, 0, 0, 0, 0, 0, 0, 0, 0, 0, 0, 0, 0, 0\\n0, 0, 0, 0, 0, 0, 0, 2, 0, 0, 0, 0, 0, 0\\n0, 0, 0, 0, 0, 0, 0, 0, 0, 0, 0, 0, 0, 0\\n0, 0, 0, 0, 0, 0, 0, 0, 0, 0, 0, 0, 0, 0\\n0, 0]'),\n",
              " Text(0.14035087719298245, 0.7708333333333334, 'X[4] <= 85.5\\ngini = 0.5\\nsamples = 2\\nvalue = [0, 0, 0, 0, 0, 0, 0, 0, 0, 0, 0, 0, 0, 0\\n0, 0, 0, 0, 0, 0, 0, 0, 0, 0, 0, 0, 0, 0\\n0, 0, 0, 1, 0, 0, 0, 0, 0, 0, 0, 0, 0, 0\\n0, 0, 0, 0, 0, 0, 1, 0, 0, 0, 0, 0, 0, 0\\n0, 0, 0, 0, 0, 0, 0, 0, 0, 0, 0, 0, 0, 0\\n0, 0]'),\n",
              " Text(0.12280701754385964, 0.7291666666666666, 'gini = 0.0\\nsamples = 1\\nvalue = [0, 0, 0, 0, 0, 0, 0, 0, 0, 0, 0, 0, 0, 0\\n0, 0, 0, 0, 0, 0, 0, 0, 0, 0, 0, 0, 0, 0\\n0, 0, 0, 1, 0, 0, 0, 0, 0, 0, 0, 0, 0, 0\\n0, 0, 0, 0, 0, 0, 0, 0, 0, 0, 0, 0, 0, 0\\n0, 0, 0, 0, 0, 0, 0, 0, 0, 0, 0, 0, 0, 0\\n0, 0]'),\n",
              " Text(0.15789473684210525, 0.7291666666666666, 'gini = 0.0\\nsamples = 1\\nvalue = [0, 0, 0, 0, 0, 0, 0, 0, 0, 0, 0, 0, 0, 0\\n0, 0, 0, 0, 0, 0, 0, 0, 0, 0, 0, 0, 0, 0\\n0, 0, 0, 0, 0, 0, 0, 0, 0, 0, 0, 0, 0, 0\\n0, 0, 0, 0, 0, 0, 1, 0, 0, 0, 0, 0, 0, 0\\n0, 0, 0, 0, 0, 0, 0, 0, 0, 0, 0, 0, 0, 0\\n0, 0]'),\n",
              " Text(0.19298245614035087, 0.8125, 'X[1] <= 1.62\\ngini = 0.909\\nsamples = 11\\nvalue = [0, 1, 1, 0, 1, 1, 0, 0, 0, 1, 0, 1, 0, 1\\n0, 0, 0, 0, 0, 0, 0, 0, 0, 0, 1, 1, 1, 0\\n0, 0, 0, 1, 0, 0, 0, 0, 0, 0, 0, 0, 0, 0\\n0, 0, 0, 0, 0, 0, 0, 0, 0, 0, 0, 0, 0, 0\\n0, 0, 0, 0, 0, 0, 0, 0, 0, 0, 0, 0, 0, 0\\n0, 0]'),\n",
              " Text(0.17543859649122806, 0.7708333333333334, 'gini = 0.0\\nsamples = 1\\nvalue = [0, 0, 1, 0, 0, 0, 0, 0, 0, 0, 0, 0, 0, 0\\n0, 0, 0, 0, 0, 0, 0, 0, 0, 0, 0, 0, 0, 0\\n0, 0, 0, 0, 0, 0, 0, 0, 0, 0, 0, 0, 0, 0\\n0, 0, 0, 0, 0, 0, 0, 0, 0, 0, 0, 0, 0, 0\\n0, 0, 0, 0, 0, 0, 0, 0, 0, 0, 0, 0, 0, 0\\n0, 0]'),\n",
              " Text(0.21052631578947367, 0.7708333333333334, 'X[6] <= 1.695\\ngini = 0.9\\nsamples = 10\\nvalue = [0, 1, 0, 0, 1, 1, 0, 0, 0, 1, 0, 1, 0, 1\\n0, 0, 0, 0, 0, 0, 0, 0, 0, 0, 1, 1, 1, 0\\n0, 0, 0, 1, 0, 0, 0, 0, 0, 0, 0, 0, 0, 0\\n0, 0, 0, 0, 0, 0, 0, 0, 0, 0, 0, 0, 0, 0\\n0, 0, 0, 0, 0, 0, 0, 0, 0, 0, 0, 0, 0, 0\\n0, 0]'),\n",
              " Text(0.19298245614035087, 0.7291666666666666, 'gini = 0.0\\nsamples = 1\\nvalue = [0, 0, 0, 0, 0, 0, 0, 0, 0, 0, 0, 0, 0, 0\\n0, 0, 0, 0, 0, 0, 0, 0, 0, 0, 0, 1, 0, 0\\n0, 0, 0, 0, 0, 0, 0, 0, 0, 0, 0, 0, 0, 0\\n0, 0, 0, 0, 0, 0, 0, 0, 0, 0, 0, 0, 0, 0\\n0, 0, 0, 0, 0, 0, 0, 0, 0, 0, 0, 0, 0, 0\\n0, 0]'),\n",
              " Text(0.22807017543859648, 0.7291666666666666, 'X[3] <= 18.75\\ngini = 0.889\\nsamples = 9\\nvalue = [0, 1, 0, 0, 1, 1, 0, 0, 0, 1, 0, 1, 0, 1\\n0, 0, 0, 0, 0, 0, 0, 0, 0, 0, 1, 0, 1, 0\\n0, 0, 0, 1, 0, 0, 0, 0, 0, 0, 0, 0, 0, 0\\n0, 0, 0, 0, 0, 0, 0, 0, 0, 0, 0, 0, 0, 0\\n0, 0, 0, 0, 0, 0, 0, 0, 0, 0, 0, 0, 0, 0\\n0, 0]'),\n",
              " Text(0.21052631578947367, 0.6875, 'gini = 0.0\\nsamples = 1\\nvalue = [0, 0, 0, 0, 0, 1, 0, 0, 0, 0, 0, 0, 0, 0\\n0, 0, 0, 0, 0, 0, 0, 0, 0, 0, 0, 0, 0, 0\\n0, 0, 0, 0, 0, 0, 0, 0, 0, 0, 0, 0, 0, 0\\n0, 0, 0, 0, 0, 0, 0, 0, 0, 0, 0, 0, 0, 0\\n0, 0, 0, 0, 0, 0, 0, 0, 0, 0, 0, 0, 0, 0\\n0, 0]'),\n",
              " Text(0.24561403508771928, 0.6875, 'X[5] <= 2.115\\ngini = 0.875\\nsamples = 8\\nvalue = [0, 1, 0, 0, 1, 0, 0, 0, 0, 1, 0, 1, 0, 1\\n0, 0, 0, 0, 0, 0, 0, 0, 0, 0, 1, 0, 1, 0\\n0, 0, 0, 1, 0, 0, 0, 0, 0, 0, 0, 0, 0, 0\\n0, 0, 0, 0, 0, 0, 0, 0, 0, 0, 0, 0, 0, 0\\n0, 0, 0, 0, 0, 0, 0, 0, 0, 0, 0, 0, 0, 0\\n0, 0]'),\n",
              " Text(0.22807017543859648, 0.6458333333333334, 'gini = 0.0\\nsamples = 1\\nvalue = [0, 0, 0, 0, 0, 0, 0, 0, 0, 0, 0, 0, 0, 0\\n0, 0, 0, 0, 0, 0, 0, 0, 0, 0, 0, 0, 1, 0\\n0, 0, 0, 0, 0, 0, 0, 0, 0, 0, 0, 0, 0, 0\\n0, 0, 0, 0, 0, 0, 0, 0, 0, 0, 0, 0, 0, 0\\n0, 0, 0, 0, 0, 0, 0, 0, 0, 0, 0, 0, 0, 0\\n0, 0]'),\n",
              " Text(0.2631578947368421, 0.6458333333333334, 'X[6] <= 2.175\\ngini = 0.857\\nsamples = 7\\nvalue = [0, 1, 0, 0, 1, 0, 0, 0, 0, 1, 0, 1, 0, 1\\n0, 0, 0, 0, 0, 0, 0, 0, 0, 0, 1, 0, 0, 0\\n0, 0, 0, 1, 0, 0, 0, 0, 0, 0, 0, 0, 0, 0\\n0, 0, 0, 0, 0, 0, 0, 0, 0, 0, 0, 0, 0, 0\\n0, 0, 0, 0, 0, 0, 0, 0, 0, 0, 0, 0, 0, 0\\n0, 0]'),\n",
              " Text(0.24561403508771928, 0.6041666666666666, 'gini = 0.0\\nsamples = 1\\nvalue = [0, 0, 0, 0, 0, 0, 0, 0, 0, 1, 0, 0, 0, 0\\n0, 0, 0, 0, 0, 0, 0, 0, 0, 0, 0, 0, 0, 0\\n0, 0, 0, 0, 0, 0, 0, 0, 0, 0, 0, 0, 0, 0\\n0, 0, 0, 0, 0, 0, 0, 0, 0, 0, 0, 0, 0, 0\\n0, 0, 0, 0, 0, 0, 0, 0, 0, 0, 0, 0, 0, 0\\n0, 0]'),\n",
              " Text(0.2807017543859649, 0.6041666666666666, 'X[5] <= 2.175\\ngini = 0.833\\nsamples = 6\\nvalue = [0, 1, 0, 0, 1, 0, 0, 0, 0, 0, 0, 1, 0, 1\\n0, 0, 0, 0, 0, 0, 0, 0, 0, 0, 1, 0, 0, 0\\n0, 0, 0, 1, 0, 0, 0, 0, 0, 0, 0, 0, 0, 0\\n0, 0, 0, 0, 0, 0, 0, 0, 0, 0, 0, 0, 0, 0\\n0, 0, 0, 0, 0, 0, 0, 0, 0, 0, 0, 0, 0, 0\\n0, 0]'),\n",
              " Text(0.2631578947368421, 0.5625, 'gini = 0.0\\nsamples = 1\\nvalue = [0, 0, 0, 0, 0, 0, 0, 0, 0, 0, 0, 0, 0, 1\\n0, 0, 0, 0, 0, 0, 0, 0, 0, 0, 0, 0, 0, 0\\n0, 0, 0, 0, 0, 0, 0, 0, 0, 0, 0, 0, 0, 0\\n0, 0, 0, 0, 0, 0, 0, 0, 0, 0, 0, 0, 0, 0\\n0, 0, 0, 0, 0, 0, 0, 0, 0, 0, 0, 0, 0, 0\\n0, 0]'),\n",
              " Text(0.2982456140350877, 0.5625, 'X[10] <= 0.775\\ngini = 0.8\\nsamples = 5\\nvalue = [0, 1, 0, 0, 1, 0, 0, 0, 0, 0, 0, 1, 0, 0\\n0, 0, 0, 0, 0, 0, 0, 0, 0, 0, 1, 0, 0, 0\\n0, 0, 0, 1, 0, 0, 0, 0, 0, 0, 0, 0, 0, 0\\n0, 0, 0, 0, 0, 0, 0, 0, 0, 0, 0, 0, 0, 0\\n0, 0, 0, 0, 0, 0, 0, 0, 0, 0, 0, 0, 0, 0\\n0, 0]'),\n",
              " Text(0.2807017543859649, 0.5208333333333334, 'gini = 0.0\\nsamples = 1\\nvalue = [0, 0, 0, 0, 0, 0, 0, 0, 0, 0, 0, 0, 0, 0\\n0, 0, 0, 0, 0, 0, 0, 0, 0, 0, 1, 0, 0, 0\\n0, 0, 0, 0, 0, 0, 0, 0, 0, 0, 0, 0, 0, 0\\n0, 0, 0, 0, 0, 0, 0, 0, 0, 0, 0, 0, 0, 0\\n0, 0, 0, 0, 0, 0, 0, 0, 0, 0, 0, 0, 0, 0\\n0, 0]'),\n",
              " Text(0.3157894736842105, 0.5208333333333334, 'X[7] <= 0.345\\ngini = 0.75\\nsamples = 4\\nvalue = [0, 1, 0, 0, 1, 0, 0, 0, 0, 0, 0, 1, 0, 0\\n0, 0, 0, 0, 0, 0, 0, 0, 0, 0, 0, 0, 0, 0\\n0, 0, 0, 1, 0, 0, 0, 0, 0, 0, 0, 0, 0, 0\\n0, 0, 0, 0, 0, 0, 0, 0, 0, 0, 0, 0, 0, 0\\n0, 0, 0, 0, 0, 0, 0, 0, 0, 0, 0, 0, 0, 0\\n0, 0]'),\n",
              " Text(0.2982456140350877, 0.4791666666666667, 'gini = 0.0\\nsamples = 1\\nvalue = [0, 0, 0, 0, 0, 0, 0, 0, 0, 0, 0, 0, 0, 0\\n0, 0, 0, 0, 0, 0, 0, 0, 0, 0, 0, 0, 0, 0\\n0, 0, 0, 1, 0, 0, 0, 0, 0, 0, 0, 0, 0, 0\\n0, 0, 0, 0, 0, 0, 0, 0, 0, 0, 0, 0, 0, 0\\n0, 0, 0, 0, 0, 0, 0, 0, 0, 0, 0, 0, 0, 0\\n0, 0]'),\n",
              " Text(0.3333333333333333, 0.4791666666666667, 'X[5] <= 2.41\\ngini = 0.667\\nsamples = 3\\nvalue = [0, 1, 0, 0, 1, 0, 0, 0, 0, 0, 0, 1, 0, 0\\n0, 0, 0, 0, 0, 0, 0, 0, 0, 0, 0, 0, 0, 0\\n0, 0, 0, 0, 0, 0, 0, 0, 0, 0, 0, 0, 0, 0\\n0, 0, 0, 0, 0, 0, 0, 0, 0, 0, 0, 0, 0, 0\\n0, 0, 0, 0, 0, 0, 0, 0, 0, 0, 0, 0, 0, 0\\n0, 0]'),\n",
              " Text(0.3157894736842105, 0.4375, 'gini = 0.0\\nsamples = 1\\nvalue = [0, 1, 0, 0, 0, 0, 0, 0, 0, 0, 0, 0, 0, 0\\n0, 0, 0, 0, 0, 0, 0, 0, 0, 0, 0, 0, 0, 0\\n0, 0, 0, 0, 0, 0, 0, 0, 0, 0, 0, 0, 0, 0\\n0, 0, 0, 0, 0, 0, 0, 0, 0, 0, 0, 0, 0, 0\\n0, 0, 0, 0, 0, 0, 0, 0, 0, 0, 0, 0, 0, 0\\n0, 0]'),\n",
              " Text(0.3508771929824561, 0.4375, 'X[11] <= 3.205\\ngini = 0.5\\nsamples = 2\\nvalue = [0, 0, 0, 0, 1, 0, 0, 0, 0, 0, 0, 1, 0, 0\\n0, 0, 0, 0, 0, 0, 0, 0, 0, 0, 0, 0, 0, 0\\n0, 0, 0, 0, 0, 0, 0, 0, 0, 0, 0, 0, 0, 0\\n0, 0, 0, 0, 0, 0, 0, 0, 0, 0, 0, 0, 0, 0\\n0, 0, 0, 0, 0, 0, 0, 0, 0, 0, 0, 0, 0, 0\\n0, 0]'),\n",
              " Text(0.3333333333333333, 0.3958333333333333, 'gini = 0.0\\nsamples = 1\\nvalue = [0, 0, 0, 0, 0, 0, 0, 0, 0, 0, 0, 1, 0, 0\\n0, 0, 0, 0, 0, 0, 0, 0, 0, 0, 0, 0, 0, 0\\n0, 0, 0, 0, 0, 0, 0, 0, 0, 0, 0, 0, 0, 0\\n0, 0, 0, 0, 0, 0, 0, 0, 0, 0, 0, 0, 0, 0\\n0, 0, 0, 0, 0, 0, 0, 0, 0, 0, 0, 0, 0, 0\\n0, 0]'),\n",
              " Text(0.3684210526315789, 0.3958333333333333, 'gini = 0.0\\nsamples = 1\\nvalue = [0, 0, 0, 0, 1, 0, 0, 0, 0, 0, 0, 0, 0, 0\\n0, 0, 0, 0, 0, 0, 0, 0, 0, 0, 0, 0, 0, 0\\n0, 0, 0, 0, 0, 0, 0, 0, 0, 0, 0, 0, 0, 0\\n0, 0, 0, 0, 0, 0, 0, 0, 0, 0, 0, 0, 0, 0\\n0, 0, 0, 0, 0, 0, 0, 0, 0, 0, 0, 0, 0, 0\\n0, 0]'),\n",
              " Text(0.6492598684210527, 0.8958333333333334, 'X[3] <= 23.5\\ngini = 0.982\\nsamples = 67\\nvalue = [0, 0, 0, 1, 0, 0, 1, 1, 1, 0, 1, 0, 1, 0\\n1, 1, 1, 0, 1, 2, 1, 1, 2, 2, 0, 0, 0, 1\\n1, 1, 1, 1, 1, 1, 1, 2, 1, 2, 1, 1, 1, 2\\n1, 1, 1, 1, 1, 1, 0, 1, 1, 1, 1, 1, 1, 1\\n1, 1, 2, 1, 1, 1, 1, 1, 1, 1, 1, 2, 1, 1\\n1, 1]'),\n",
              " Text(0.4213267543859649, 0.8541666666666666, 'X[0] <= 12.29\\ngini = 0.98\\nsamples = 61\\nvalue = [0, 0, 0, 1, 0, 0, 1, 1, 1, 0, 1, 0, 0, 0\\n1, 1, 1, 0, 0, 2, 1, 1, 2, 0, 0, 0, 0, 0\\n1, 1, 1, 1, 1, 1, 1, 2, 1, 2, 1, 1, 1, 2\\n1, 1, 1, 1, 1, 1, 0, 1, 1, 0, 1, 1, 1, 1\\n1, 1, 2, 1, 1, 1, 1, 1, 1, 1, 1, 2, 1, 1\\n1, 1]'),\n",
              " Text(0.3157894736842105, 0.8125, 'X[0] <= 12.14\\ngini = 0.816\\nsamples = 7\\nvalue = [0, 0, 0, 0, 0, 0, 0, 0, 1, 0, 1, 0, 0, 0\\n0, 0, 0, 0, 0, 2, 0, 0, 0, 0, 0, 0, 0, 0\\n0, 1, 0, 0, 0, 0, 0, 0, 0, 0, 1, 1, 0, 0\\n0, 0, 0, 0, 0, 0, 0, 0, 0, 0, 0, 0, 0, 0\\n0, 0, 0, 0, 0, 0, 0, 0, 0, 0, 0, 0, 0, 0\\n0, 0]'),\n",
              " Text(0.2807017543859649, 0.7708333333333334, 'X[8] <= 1.1\\ngini = 0.75\\nsamples = 4\\nvalue = [0, 0, 0, 0, 0, 0, 0, 0, 1, 0, 1, 0, 0, 0\\n0, 0, 0, 0, 0, 0, 0, 0, 0, 0, 0, 0, 0, 0\\n0, 1, 0, 0, 0, 0, 0, 0, 0, 0, 1, 0, 0, 0\\n0, 0, 0, 0, 0, 0, 0, 0, 0, 0, 0, 0, 0, 0\\n0, 0, 0, 0, 0, 0, 0, 0, 0, 0, 0, 0, 0, 0\\n0, 0]'),\n",
              " Text(0.2631578947368421, 0.7291666666666666, 'gini = 0.0\\nsamples = 1\\nvalue = [0, 0, 0, 0, 0, 0, 0, 0, 0, 0, 0, 0, 0, 0\\n0, 0, 0, 0, 0, 0, 0, 0, 0, 0, 0, 0, 0, 0\\n0, 1, 0, 0, 0, 0, 0, 0, 0, 0, 0, 0, 0, 0\\n0, 0, 0, 0, 0, 0, 0, 0, 0, 0, 0, 0, 0, 0\\n0, 0, 0, 0, 0, 0, 0, 0, 0, 0, 0, 0, 0, 0\\n0, 0]'),\n",
              " Text(0.2982456140350877, 0.7291666666666666, 'X[10] <= 1.14\\ngini = 0.667\\nsamples = 3\\nvalue = [0, 0, 0, 0, 0, 0, 0, 0, 1, 0, 1, 0, 0, 0\\n0, 0, 0, 0, 0, 0, 0, 0, 0, 0, 0, 0, 0, 0\\n0, 0, 0, 0, 0, 0, 0, 0, 0, 0, 1, 0, 0, 0\\n0, 0, 0, 0, 0, 0, 0, 0, 0, 0, 0, 0, 0, 0\\n0, 0, 0, 0, 0, 0, 0, 0, 0, 0, 0, 0, 0, 0\\n0, 0]'),\n",
              " Text(0.2807017543859649, 0.6875, 'gini = 0.0\\nsamples = 1\\nvalue = [0, 0, 0, 0, 0, 0, 0, 0, 0, 0, 1, 0, 0, 0\\n0, 0, 0, 0, 0, 0, 0, 0, 0, 0, 0, 0, 0, 0\\n0, 0, 0, 0, 0, 0, 0, 0, 0, 0, 0, 0, 0, 0\\n0, 0, 0, 0, 0, 0, 0, 0, 0, 0, 0, 0, 0, 0\\n0, 0, 0, 0, 0, 0, 0, 0, 0, 0, 0, 0, 0, 0\\n0, 0]'),\n",
              " Text(0.3157894736842105, 0.6875, 'X[8] <= 1.275\\ngini = 0.5\\nsamples = 2\\nvalue = [0, 0, 0, 0, 0, 0, 0, 0, 1, 0, 0, 0, 0, 0\\n0, 0, 0, 0, 0, 0, 0, 0, 0, 0, 0, 0, 0, 0\\n0, 0, 0, 0, 0, 0, 0, 0, 0, 0, 1, 0, 0, 0\\n0, 0, 0, 0, 0, 0, 0, 0, 0, 0, 0, 0, 0, 0\\n0, 0, 0, 0, 0, 0, 0, 0, 0, 0, 0, 0, 0, 0\\n0, 0]'),\n",
              " Text(0.2982456140350877, 0.6458333333333334, 'gini = 0.0\\nsamples = 1\\nvalue = [0, 0, 0, 0, 0, 0, 0, 0, 1, 0, 0, 0, 0, 0\\n0, 0, 0, 0, 0, 0, 0, 0, 0, 0, 0, 0, 0, 0\\n0, 0, 0, 0, 0, 0, 0, 0, 0, 0, 0, 0, 0, 0\\n0, 0, 0, 0, 0, 0, 0, 0, 0, 0, 0, 0, 0, 0\\n0, 0, 0, 0, 0, 0, 0, 0, 0, 0, 0, 0, 0, 0\\n0, 0]'),\n",
              " Text(0.3333333333333333, 0.6458333333333334, 'gini = 0.0\\nsamples = 1\\nvalue = [0, 0, 0, 0, 0, 0, 0, 0, 0, 0, 0, 0, 0, 0\\n0, 0, 0, 0, 0, 0, 0, 0, 0, 0, 0, 0, 0, 0\\n0, 0, 0, 0, 0, 0, 0, 0, 0, 0, 1, 0, 0, 0\\n0, 0, 0, 0, 0, 0, 0, 0, 0, 0, 0, 0, 0, 0\\n0, 0, 0, 0, 0, 0, 0, 0, 0, 0, 0, 0, 0, 0\\n0, 0]'),\n",
              " Text(0.3508771929824561, 0.7708333333333334, 'X[7] <= 0.465\\ngini = 0.444\\nsamples = 3\\nvalue = [0, 0, 0, 0, 0, 0, 0, 0, 0, 0, 0, 0, 0, 0\\n0, 0, 0, 0, 0, 2, 0, 0, 0, 0, 0, 0, 0, 0\\n0, 0, 0, 0, 0, 0, 0, 0, 0, 0, 0, 1, 0, 0\\n0, 0, 0, 0, 0, 0, 0, 0, 0, 0, 0, 0, 0, 0\\n0, 0, 0, 0, 0, 0, 0, 0, 0, 0, 0, 0, 0, 0\\n0, 0]'),\n",
              " Text(0.3333333333333333, 0.7291666666666666, 'gini = 0.0\\nsamples = 2\\nvalue = [0, 0, 0, 0, 0, 0, 0, 0, 0, 0, 0, 0, 0, 0\\n0, 0, 0, 0, 0, 2, 0, 0, 0, 0, 0, 0, 0, 0\\n0, 0, 0, 0, 0, 0, 0, 0, 0, 0, 0, 0, 0, 0\\n0, 0, 0, 0, 0, 0, 0, 0, 0, 0, 0, 0, 0, 0\\n0, 0, 0, 0, 0, 0, 0, 0, 0, 0, 0, 0, 0, 0\\n0, 0]'),\n",
              " Text(0.3684210526315789, 0.7291666666666666, 'gini = 0.0\\nsamples = 1\\nvalue = [0, 0, 0, 0, 0, 0, 0, 0, 0, 0, 0, 0, 0, 0\\n0, 0, 0, 0, 0, 0, 0, 0, 0, 0, 0, 0, 0, 0\\n0, 0, 0, 0, 0, 0, 0, 0, 0, 0, 0, 1, 0, 0\\n0, 0, 0, 0, 0, 0, 0, 0, 0, 0, 0, 0, 0, 0\\n0, 0, 0, 0, 0, 0, 0, 0, 0, 0, 0, 0, 0, 0\\n0, 0]'),\n",
              " Text(0.5268640350877193, 0.8125, 'X[1] <= 1.515\\ngini = 0.977\\nsamples = 54\\nvalue = [0, 0, 0, 1, 0, 0, 1, 1, 0, 0, 0, 0, 0, 0\\n1, 1, 1, 0, 0, 0, 1, 1, 2, 0, 0, 0, 0, 0\\n1, 0, 1, 1, 1, 1, 1, 2, 1, 2, 0, 0, 1, 2\\n1, 1, 1, 1, 1, 1, 0, 1, 1, 0, 1, 1, 1, 1\\n1, 1, 2, 1, 1, 1, 1, 1, 1, 1, 1, 2, 1, 1\\n1, 1]'),\n",
              " Text(0.42105263157894735, 0.7708333333333334, 'X[9] <= 5.575\\ngini = 0.816\\nsamples = 7\\nvalue = [0, 0, 0, 0, 0, 0, 0, 1, 0, 0, 0, 0, 0, 0\\n0, 0, 0, 0, 0, 0, 0, 0, 0, 0, 0, 0, 0, 0\\n0, 0, 0, 0, 1, 1, 1, 0, 0, 0, 0, 0, 0, 1\\n0, 0, 0, 0, 0, 0, 0, 0, 0, 0, 0, 0, 0, 0\\n0, 0, 0, 0, 0, 0, 0, 0, 0, 0, 0, 2, 0, 0\\n0, 0]'),\n",
              " Text(0.40350877192982454, 0.7291666666666666, 'X[2] <= 2.055\\ngini = 0.8\\nsamples = 5\\nvalue = [0, 0, 0, 0, 0, 0, 0, 1, 0, 0, 0, 0, 0, 0\\n0, 0, 0, 0, 0, 0, 0, 0, 0, 0, 0, 0, 0, 0\\n0, 0, 0, 0, 1, 1, 1, 0, 0, 0, 0, 0, 0, 1\\n0, 0, 0, 0, 0, 0, 0, 0, 0, 0, 0, 0, 0, 0\\n0, 0, 0, 0, 0, 0, 0, 0, 0, 0, 0, 0, 0, 0\\n0, 0]'),\n",
              " Text(0.38596491228070173, 0.6875, 'gini = 0.0\\nsamples = 1\\nvalue = [0, 0, 0, 0, 0, 0, 0, 0, 0, 0, 0, 0, 0, 0\\n0, 0, 0, 0, 0, 0, 0, 0, 0, 0, 0, 0, 0, 0\\n0, 0, 0, 0, 0, 0, 0, 0, 0, 0, 0, 0, 0, 1\\n0, 0, 0, 0, 0, 0, 0, 0, 0, 0, 0, 0, 0, 0\\n0, 0, 0, 0, 0, 0, 0, 0, 0, 0, 0, 0, 0, 0\\n0, 0]'),\n",
              " Text(0.42105263157894735, 0.6875, 'X[9] <= 4.275\\ngini = 0.75\\nsamples = 4\\nvalue = [0, 0, 0, 0, 0, 0, 0, 1, 0, 0, 0, 0, 0, 0\\n0, 0, 0, 0, 0, 0, 0, 0, 0, 0, 0, 0, 0, 0\\n0, 0, 0, 0, 1, 1, 1, 0, 0, 0, 0, 0, 0, 0\\n0, 0, 0, 0, 0, 0, 0, 0, 0, 0, 0, 0, 0, 0\\n0, 0, 0, 0, 0, 0, 0, 0, 0, 0, 0, 0, 0, 0\\n0, 0]'),\n",
              " Text(0.40350877192982454, 0.6458333333333334, 'gini = 0.0\\nsamples = 1\\nvalue = [0, 0, 0, 0, 0, 0, 0, 0, 0, 0, 0, 0, 0, 0\\n0, 0, 0, 0, 0, 0, 0, 0, 0, 0, 0, 0, 0, 0\\n0, 0, 0, 0, 1, 0, 0, 0, 0, 0, 0, 0, 0, 0\\n0, 0, 0, 0, 0, 0, 0, 0, 0, 0, 0, 0, 0, 0\\n0, 0, 0, 0, 0, 0, 0, 0, 0, 0, 0, 0, 0, 0\\n0, 0]'),\n",
              " Text(0.43859649122807015, 0.6458333333333334, 'X[0] <= 12.44\\ngini = 0.667\\nsamples = 3\\nvalue = [0, 0, 0, 0, 0, 0, 0, 1, 0, 0, 0, 0, 0, 0\\n0, 0, 0, 0, 0, 0, 0, 0, 0, 0, 0, 0, 0, 0\\n0, 0, 0, 0, 0, 1, 1, 0, 0, 0, 0, 0, 0, 0\\n0, 0, 0, 0, 0, 0, 0, 0, 0, 0, 0, 0, 0, 0\\n0, 0, 0, 0, 0, 0, 0, 0, 0, 0, 0, 0, 0, 0\\n0, 0]'),\n",
              " Text(0.42105263157894735, 0.6041666666666666, 'X[9] <= 4.525\\ngini = 0.5\\nsamples = 2\\nvalue = [0, 0, 0, 0, 0, 0, 0, 1, 0, 0, 0, 0, 0, 0\\n0, 0, 0, 0, 0, 0, 0, 0, 0, 0, 0, 0, 0, 0\\n0, 0, 0, 0, 0, 0, 1, 0, 0, 0, 0, 0, 0, 0\\n0, 0, 0, 0, 0, 0, 0, 0, 0, 0, 0, 0, 0, 0\\n0, 0, 0, 0, 0, 0, 0, 0, 0, 0, 0, 0, 0, 0\\n0, 0]'),\n",
              " Text(0.40350877192982454, 0.5625, 'gini = 0.0\\nsamples = 1\\nvalue = [0, 0, 0, 0, 0, 0, 0, 1, 0, 0, 0, 0, 0, 0\\n0, 0, 0, 0, 0, 0, 0, 0, 0, 0, 0, 0, 0, 0\\n0, 0, 0, 0, 0, 0, 0, 0, 0, 0, 0, 0, 0, 0\\n0, 0, 0, 0, 0, 0, 0, 0, 0, 0, 0, 0, 0, 0\\n0, 0, 0, 0, 0, 0, 0, 0, 0, 0, 0, 0, 0, 0\\n0, 0]'),\n",
              " Text(0.43859649122807015, 0.5625, 'gini = 0.0\\nsamples = 1\\nvalue = [0, 0, 0, 0, 0, 0, 0, 0, 0, 0, 0, 0, 0, 0\\n0, 0, 0, 0, 0, 0, 0, 0, 0, 0, 0, 0, 0, 0\\n0, 0, 0, 0, 0, 0, 1, 0, 0, 0, 0, 0, 0, 0\\n0, 0, 0, 0, 0, 0, 0, 0, 0, 0, 0, 0, 0, 0\\n0, 0, 0, 0, 0, 0, 0, 0, 0, 0, 0, 0, 0, 0\\n0, 0]'),\n",
              " Text(0.45614035087719296, 0.6041666666666666, 'gini = 0.0\\nsamples = 1\\nvalue = [0, 0, 0, 0, 0, 0, 0, 0, 0, 0, 0, 0, 0, 0\\n0, 0, 0, 0, 0, 0, 0, 0, 0, 0, 0, 0, 0, 0\\n0, 0, 0, 0, 0, 1, 0, 0, 0, 0, 0, 0, 0, 0\\n0, 0, 0, 0, 0, 0, 0, 0, 0, 0, 0, 0, 0, 0\\n0, 0, 0, 0, 0, 0, 0, 0, 0, 0, 0, 0, 0, 0\\n0, 0]'),\n",
              " Text(0.43859649122807015, 0.7291666666666666, 'gini = 0.0\\nsamples = 2\\nvalue = [0, 0, 0, 0, 0, 0, 0, 0, 0, 0, 0, 0, 0, 0\\n0, 0, 0, 0, 0, 0, 0, 0, 0, 0, 0, 0, 0, 0\\n0, 0, 0, 0, 0, 0, 0, 0, 0, 0, 0, 0, 0, 0\\n0, 0, 0, 0, 0, 0, 0, 0, 0, 0, 0, 0, 0, 0\\n0, 0, 0, 0, 0, 0, 0, 0, 0, 0, 0, 2, 0, 0\\n0, 0]'),\n",
              " Text(0.6326754385964912, 0.7708333333333334, 'X[11] <= 1.605\\ngini = 0.975\\nsamples = 47\\nvalue = [0, 0, 0, 1, 0, 0, 1, 0, 0, 0, 0, 0, 0, 0\\n1, 1, 1, 0, 0, 0, 1, 1, 2, 0, 0, 0, 0, 0\\n1, 0, 1, 1, 0, 0, 0, 2, 1, 2, 0, 0, 1, 1\\n1, 1, 1, 1, 1, 1, 0, 1, 1, 0, 1, 1, 1, 1\\n1, 1, 2, 1, 1, 1, 1, 1, 1, 1, 1, 0, 1, 1\\n1, 1]'),\n",
              " Text(0.5087719298245614, 0.7291666666666666, 'X[10] <= 0.715\\ngini = 0.844\\nsamples = 8\\nvalue = [0, 0, 0, 0, 0, 0, 1, 0, 0, 0, 0, 0, 0, 0\\n0, 1, 0, 0, 0, 0, 0, 0, 1, 0, 0, 0, 0, 0\\n0, 0, 0, 0, 0, 0, 0, 0, 0, 2, 0, 0, 1, 1\\n0, 0, 0, 1, 0, 0, 0, 0, 0, 0, 0, 0, 0, 0\\n0, 0, 0, 0, 0, 0, 0, 0, 0, 0, 0, 0, 0, 0\\n0, 0]'),\n",
              " Text(0.49122807017543857, 0.6875, 'X[8] <= 0.91\\ngini = 0.833\\nsamples = 6\\nvalue = [0, 0, 0, 0, 0, 0, 1, 0, 0, 0, 0, 0, 0, 0\\n0, 1, 0, 0, 0, 0, 0, 0, 1, 0, 0, 0, 0, 0\\n0, 0, 0, 0, 0, 0, 0, 0, 0, 0, 0, 0, 1, 1\\n0, 0, 0, 1, 0, 0, 0, 0, 0, 0, 0, 0, 0, 0\\n0, 0, 0, 0, 0, 0, 0, 0, 0, 0, 0, 0, 0, 0\\n0, 0]'),\n",
              " Text(0.47368421052631576, 0.6458333333333334, 'gini = 0.0\\nsamples = 1\\nvalue = [0, 0, 0, 0, 0, 0, 1, 0, 0, 0, 0, 0, 0, 0\\n0, 0, 0, 0, 0, 0, 0, 0, 0, 0, 0, 0, 0, 0\\n0, 0, 0, 0, 0, 0, 0, 0, 0, 0, 0, 0, 0, 0\\n0, 0, 0, 0, 0, 0, 0, 0, 0, 0, 0, 0, 0, 0\\n0, 0, 0, 0, 0, 0, 0, 0, 0, 0, 0, 0, 0, 0\\n0, 0]'),\n",
              " Text(0.5087719298245614, 0.6458333333333334, 'X[1] <= 3.285\\ngini = 0.8\\nsamples = 5\\nvalue = [0, 0, 0, 0, 0, 0, 0, 0, 0, 0, 0, 0, 0, 0\\n0, 1, 0, 0, 0, 0, 0, 0, 1, 0, 0, 0, 0, 0\\n0, 0, 0, 0, 0, 0, 0, 0, 0, 0, 0, 0, 1, 1\\n0, 0, 0, 1, 0, 0, 0, 0, 0, 0, 0, 0, 0, 0\\n0, 0, 0, 0, 0, 0, 0, 0, 0, 0, 0, 0, 0, 0\\n0, 0]'),\n",
              " Text(0.49122807017543857, 0.6041666666666666, 'gini = 0.0\\nsamples = 1\\nvalue = [0, 0, 0, 0, 0, 0, 0, 0, 0, 0, 0, 0, 0, 0\\n0, 1, 0, 0, 0, 0, 0, 0, 0, 0, 0, 0, 0, 0\\n0, 0, 0, 0, 0, 0, 0, 0, 0, 0, 0, 0, 0, 0\\n0, 0, 0, 0, 0, 0, 0, 0, 0, 0, 0, 0, 0, 0\\n0, 0, 0, 0, 0, 0, 0, 0, 0, 0, 0, 0, 0, 0\\n0, 0]'),\n",
              " Text(0.5263157894736842, 0.6041666666666666, 'X[6] <= 0.66\\ngini = 0.75\\nsamples = 4\\nvalue = [0, 0, 0, 0, 0, 0, 0, 0, 0, 0, 0, 0, 0, 0\\n0, 0, 0, 0, 0, 0, 0, 0, 1, 0, 0, 0, 0, 0\\n0, 0, 0, 0, 0, 0, 0, 0, 0, 0, 0, 0, 1, 1\\n0, 0, 0, 1, 0, 0, 0, 0, 0, 0, 0, 0, 0, 0\\n0, 0, 0, 0, 0, 0, 0, 0, 0, 0, 0, 0, 0, 0\\n0, 0]'),\n",
              " Text(0.5087719298245614, 0.5625, 'gini = 0.0\\nsamples = 1\\nvalue = [0, 0, 0, 0, 0, 0, 0, 0, 0, 0, 0, 0, 0, 0\\n0, 0, 0, 0, 0, 0, 0, 0, 0, 0, 0, 0, 0, 0\\n0, 0, 0, 0, 0, 0, 0, 0, 0, 0, 0, 0, 1, 0\\n0, 0, 0, 0, 0, 0, 0, 0, 0, 0, 0, 0, 0, 0\\n0, 0, 0, 0, 0, 0, 0, 0, 0, 0, 0, 0, 0, 0\\n0, 0]'),\n",
              " Text(0.543859649122807, 0.5625, 'X[7] <= 0.385\\ngini = 0.667\\nsamples = 3\\nvalue = [0, 0, 0, 0, 0, 0, 0, 0, 0, 0, 0, 0, 0, 0\\n0, 0, 0, 0, 0, 0, 0, 0, 1, 0, 0, 0, 0, 0\\n0, 0, 0, 0, 0, 0, 0, 0, 0, 0, 0, 0, 0, 1\\n0, 0, 0, 1, 0, 0, 0, 0, 0, 0, 0, 0, 0, 0\\n0, 0, 0, 0, 0, 0, 0, 0, 0, 0, 0, 0, 0, 0\\n0, 0]'),\n",
              " Text(0.5263157894736842, 0.5208333333333334, 'gini = 0.0\\nsamples = 1\\nvalue = [0, 0, 0, 0, 0, 0, 0, 0, 0, 0, 0, 0, 0, 0\\n0, 0, 0, 0, 0, 0, 0, 0, 1, 0, 0, 0, 0, 0\\n0, 0, 0, 0, 0, 0, 0, 0, 0, 0, 0, 0, 0, 0\\n0, 0, 0, 0, 0, 0, 0, 0, 0, 0, 0, 0, 0, 0\\n0, 0, 0, 0, 0, 0, 0, 0, 0, 0, 0, 0, 0, 0\\n0, 0]'),\n",
              " Text(0.5614035087719298, 0.5208333333333334, 'X[3] <= 21.5\\ngini = 0.5\\nsamples = 2\\nvalue = [0, 0, 0, 0, 0, 0, 0, 0, 0, 0, 0, 0, 0, 0\\n0, 0, 0, 0, 0, 0, 0, 0, 0, 0, 0, 0, 0, 0\\n0, 0, 0, 0, 0, 0, 0, 0, 0, 0, 0, 0, 0, 1\\n0, 0, 0, 1, 0, 0, 0, 0, 0, 0, 0, 0, 0, 0\\n0, 0, 0, 0, 0, 0, 0, 0, 0, 0, 0, 0, 0, 0\\n0, 0]'),\n",
              " Text(0.543859649122807, 0.4791666666666667, 'gini = 0.0\\nsamples = 1\\nvalue = [0, 0, 0, 0, 0, 0, 0, 0, 0, 0, 0, 0, 0, 0\\n0, 0, 0, 0, 0, 0, 0, 0, 0, 0, 0, 0, 0, 0\\n0, 0, 0, 0, 0, 0, 0, 0, 0, 0, 0, 0, 0, 0\\n0, 0, 0, 1, 0, 0, 0, 0, 0, 0, 0, 0, 0, 0\\n0, 0, 0, 0, 0, 0, 0, 0, 0, 0, 0, 0, 0, 0\\n0, 0]'),\n",
              " Text(0.5789473684210527, 0.4791666666666667, 'gini = 0.0\\nsamples = 1\\nvalue = [0, 0, 0, 0, 0, 0, 0, 0, 0, 0, 0, 0, 0, 0\\n0, 0, 0, 0, 0, 0, 0, 0, 0, 0, 0, 0, 0, 0\\n0, 0, 0, 0, 0, 0, 0, 0, 0, 0, 0, 0, 0, 1\\n0, 0, 0, 0, 0, 0, 0, 0, 0, 0, 0, 0, 0, 0\\n0, 0, 0, 0, 0, 0, 0, 0, 0, 0, 0, 0, 0, 0\\n0, 0]'),\n",
              " Text(0.5263157894736842, 0.6875, 'gini = 0.0\\nsamples = 2\\nvalue = [0, 0, 0, 0, 0, 0, 0, 0, 0, 0, 0, 0, 0, 0\\n0, 0, 0, 0, 0, 0, 0, 0, 0, 0, 0, 0, 0, 0\\n0, 0, 0, 0, 0, 0, 0, 0, 0, 2, 0, 0, 0, 0\\n0, 0, 0, 0, 0, 0, 0, 0, 0, 0, 0, 0, 0, 0\\n0, 0, 0, 0, 0, 0, 0, 0, 0, 0, 0, 0, 0, 0\\n0, 0]'),\n",
              " Text(0.756578947368421, 0.7291666666666666, 'X[2] <= 2.575\\ngini = 0.972\\nsamples = 39\\nvalue = [0, 0, 0, 1, 0, 0, 0, 0, 0, 0, 0, 0, 0, 0\\n1, 0, 1, 0, 0, 0, 1, 1, 1, 0, 0, 0, 0, 0\\n1, 0, 1, 1, 0, 0, 0, 2, 1, 0, 0, 0, 0, 0\\n1, 1, 1, 0, 1, 1, 0, 1, 1, 0, 1, 1, 1, 1\\n1, 1, 2, 1, 1, 1, 1, 1, 1, 1, 1, 0, 1, 1\\n1, 1]'),\n",
              " Text(0.6710526315789473, 0.6875, 'X[4] <= 102.5\\ngini = 0.963\\nsamples = 29\\nvalue = [0, 0, 0, 1, 0, 0, 0, 0, 0, 0, 0, 0, 0, 0\\n1, 0, 1, 0, 0, 0, 1, 1, 1, 0, 0, 0, 0, 0\\n0, 0, 1, 1, 0, 0, 0, 2, 1, 0, 0, 0, 0, 0\\n1, 0, 1, 0, 1, 1, 0, 0, 1, 0, 1, 1, 1, 1\\n1, 1, 0, 1, 1, 0, 1, 0, 0, 1, 0, 0, 0, 1\\n1, 1]'),\n",
              " Text(0.6052631578947368, 0.6458333333333334, 'X[0] <= 12.745\\ngini = 0.947\\nsamples = 19\\nvalue = [0, 0, 0, 1, 0, 0, 0, 0, 0, 0, 0, 0, 0, 0\\n1, 0, 1, 0, 0, 0, 1, 1, 1, 0, 0, 0, 0, 0\\n0, 0, 1, 1, 0, 0, 0, 0, 1, 0, 0, 0, 0, 0\\n0, 0, 1, 0, 0, 0, 0, 0, 0, 0, 1, 1, 1, 1\\n1, 0, 0, 1, 0, 0, 1, 0, 0, 0, 0, 0, 0, 1\\n1, 0]'),\n",
              " Text(0.5877192982456141, 0.6041666666666666, 'gini = 0.0\\nsamples = 1\\nvalue = [0, 0, 0, 0, 0, 0, 0, 0, 0, 0, 0, 0, 0, 0\\n0, 0, 1, 0, 0, 0, 0, 0, 0, 0, 0, 0, 0, 0\\n0, 0, 0, 0, 0, 0, 0, 0, 0, 0, 0, 0, 0, 0\\n0, 0, 0, 0, 0, 0, 0, 0, 0, 0, 0, 0, 0, 0\\n0, 0, 0, 0, 0, 0, 0, 0, 0, 0, 0, 0, 0, 0\\n0, 0]'),\n",
              " Text(0.6228070175438597, 0.6041666666666666, 'X[10] <= 0.555\\ngini = 0.944\\nsamples = 18\\nvalue = [0, 0, 0, 1, 0, 0, 0, 0, 0, 0, 0, 0, 0, 0\\n1, 0, 0, 0, 0, 0, 1, 1, 1, 0, 0, 0, 0, 0\\n0, 0, 1, 1, 0, 0, 0, 0, 1, 0, 0, 0, 0, 0\\n0, 0, 1, 0, 0, 0, 0, 0, 0, 0, 1, 1, 1, 1\\n1, 0, 0, 1, 0, 0, 1, 0, 0, 0, 0, 0, 0, 1\\n1, 0]'),\n",
              " Text(0.6052631578947368, 0.5625, 'gini = 0.0\\nsamples = 1\\nvalue = [0, 0, 0, 0, 0, 0, 0, 0, 0, 0, 0, 0, 0, 0\\n0, 0, 0, 0, 0, 0, 0, 0, 0, 0, 0, 0, 0, 0\\n0, 0, 0, 1, 0, 0, 0, 0, 0, 0, 0, 0, 0, 0\\n0, 0, 0, 0, 0, 0, 0, 0, 0, 0, 0, 0, 0, 0\\n0, 0, 0, 0, 0, 0, 0, 0, 0, 0, 0, 0, 0, 0\\n0, 0]'),\n",
              " Text(0.6403508771929824, 0.5625, 'X[6] <= 0.49\\ngini = 0.941\\nsamples = 17\\nvalue = [0, 0, 0, 1, 0, 0, 0, 0, 0, 0, 0, 0, 0, 0\\n1, 0, 0, 0, 0, 0, 1, 1, 1, 0, 0, 0, 0, 0\\n0, 0, 1, 0, 0, 0, 0, 0, 1, 0, 0, 0, 0, 0\\n0, 0, 1, 0, 0, 0, 0, 0, 0, 0, 1, 1, 1, 1\\n1, 0, 0, 1, 0, 0, 1, 0, 0, 0, 0, 0, 0, 1\\n1, 0]'),\n",
              " Text(0.6228070175438597, 0.5208333333333334, 'gini = 0.0\\nsamples = 1\\nvalue = [0, 0, 0, 0, 0, 0, 0, 0, 0, 0, 0, 0, 0, 0\\n0, 0, 0, 0, 0, 0, 0, 1, 0, 0, 0, 0, 0, 0\\n0, 0, 0, 0, 0, 0, 0, 0, 0, 0, 0, 0, 0, 0\\n0, 0, 0, 0, 0, 0, 0, 0, 0, 0, 0, 0, 0, 0\\n0, 0, 0, 0, 0, 0, 0, 0, 0, 0, 0, 0, 0, 0\\n0, 0]'),\n",
              " Text(0.6578947368421053, 0.5208333333333334, 'X[0] <= 12.795\\ngini = 0.938\\nsamples = 16\\nvalue = [0, 0, 0, 1, 0, 0, 0, 0, 0, 0, 0, 0, 0, 0\\n1, 0, 0, 0, 0, 0, 1, 0, 1, 0, 0, 0, 0, 0\\n0, 0, 1, 0, 0, 0, 0, 0, 1, 0, 0, 0, 0, 0\\n0, 0, 1, 0, 0, 0, 0, 0, 0, 0, 1, 1, 1, 1\\n1, 0, 0, 1, 0, 0, 1, 0, 0, 0, 0, 0, 0, 1\\n1, 0]'),\n",
              " Text(0.6140350877192983, 0.4791666666666667, 'X[9] <= 6.65\\ngini = 0.5\\nsamples = 2\\nvalue = [0, 0, 0, 1, 0, 0, 0, 0, 0, 0, 0, 0, 0, 0\\n1, 0, 0, 0, 0, 0, 0, 0, 0, 0, 0, 0, 0, 0\\n0, 0, 0, 0, 0, 0, 0, 0, 0, 0, 0, 0, 0, 0\\n0, 0, 0, 0, 0, 0, 0, 0, 0, 0, 0, 0, 0, 0\\n0, 0, 0, 0, 0, 0, 0, 0, 0, 0, 0, 0, 0, 0\\n0, 0]'),\n",
              " Text(0.5964912280701754, 0.4375, 'gini = 0.0\\nsamples = 1\\nvalue = [0, 0, 0, 1, 0, 0, 0, 0, 0, 0, 0, 0, 0, 0\\n0, 0, 0, 0, 0, 0, 0, 0, 0, 0, 0, 0, 0, 0\\n0, 0, 0, 0, 0, 0, 0, 0, 0, 0, 0, 0, 0, 0\\n0, 0, 0, 0, 0, 0, 0, 0, 0, 0, 0, 0, 0, 0\\n0, 0, 0, 0, 0, 0, 0, 0, 0, 0, 0, 0, 0, 0\\n0, 0]'),\n",
              " Text(0.631578947368421, 0.4375, 'gini = 0.0\\nsamples = 1\\nvalue = [0, 0, 0, 0, 0, 0, 0, 0, 0, 0, 0, 0, 0, 0\\n1, 0, 0, 0, 0, 0, 0, 0, 0, 0, 0, 0, 0, 0\\n0, 0, 0, 0, 0, 0, 0, 0, 0, 0, 0, 0, 0, 0\\n0, 0, 0, 0, 0, 0, 0, 0, 0, 0, 0, 0, 0, 0\\n0, 0, 0, 0, 0, 0, 0, 0, 0, 0, 0, 0, 0, 0\\n0, 0]'),\n",
              " Text(0.7017543859649122, 0.4791666666666667, 'X[11] <= 1.715\\ngini = 0.929\\nsamples = 14\\nvalue = [0, 0, 0, 0, 0, 0, 0, 0, 0, 0, 0, 0, 0, 0\\n0, 0, 0, 0, 0, 0, 1, 0, 1, 0, 0, 0, 0, 0\\n0, 0, 1, 0, 0, 0, 0, 0, 1, 0, 0, 0, 0, 0\\n0, 0, 1, 0, 0, 0, 0, 0, 0, 0, 1, 1, 1, 1\\n1, 0, 0, 1, 0, 0, 1, 0, 0, 0, 0, 0, 0, 1\\n1, 0]'),\n",
              " Text(0.6666666666666666, 0.4375, 'X[8] <= 1.165\\ngini = 0.5\\nsamples = 2\\nvalue = [0, 0, 0, 0, 0, 0, 0, 0, 0, 0, 0, 0, 0, 0\\n0, 0, 0, 0, 0, 0, 0, 0, 0, 0, 0, 0, 0, 0\\n0, 0, 1, 0, 0, 0, 0, 0, 0, 0, 0, 0, 0, 0\\n0, 0, 1, 0, 0, 0, 0, 0, 0, 0, 0, 0, 0, 0\\n0, 0, 0, 0, 0, 0, 0, 0, 0, 0, 0, 0, 0, 0\\n0, 0]'),\n",
              " Text(0.6491228070175439, 0.3958333333333333, 'gini = 0.0\\nsamples = 1\\nvalue = [0, 0, 0, 0, 0, 0, 0, 0, 0, 0, 0, 0, 0, 0\\n0, 0, 0, 0, 0, 0, 0, 0, 0, 0, 0, 0, 0, 0\\n0, 0, 1, 0, 0, 0, 0, 0, 0, 0, 0, 0, 0, 0\\n0, 0, 0, 0, 0, 0, 0, 0, 0, 0, 0, 0, 0, 0\\n0, 0, 0, 0, 0, 0, 0, 0, 0, 0, 0, 0, 0, 0\\n0, 0]'),\n",
              " Text(0.6842105263157895, 0.3958333333333333, 'gini = 0.0\\nsamples = 1\\nvalue = [0, 0, 0, 0, 0, 0, 0, 0, 0, 0, 0, 0, 0, 0\\n0, 0, 0, 0, 0, 0, 0, 0, 0, 0, 0, 0, 0, 0\\n0, 0, 0, 0, 0, 0, 0, 0, 0, 0, 0, 0, 0, 0\\n0, 0, 1, 0, 0, 0, 0, 0, 0, 0, 0, 0, 0, 0\\n0, 0, 0, 0, 0, 0, 0, 0, 0, 0, 0, 0, 0, 0\\n0, 0]'),\n",
              " Text(0.7368421052631579, 0.4375, 'X[2] <= 2.13\\ngini = 0.917\\nsamples = 12\\nvalue = [0, 0, 0, 0, 0, 0, 0, 0, 0, 0, 0, 0, 0, 0\\n0, 0, 0, 0, 0, 0, 1, 0, 1, 0, 0, 0, 0, 0\\n0, 0, 0, 0, 0, 0, 0, 0, 1, 0, 0, 0, 0, 0\\n0, 0, 0, 0, 0, 0, 0, 0, 0, 0, 1, 1, 1, 1\\n1, 0, 0, 1, 0, 0, 1, 0, 0, 0, 0, 0, 0, 1\\n1, 0]'),\n",
              " Text(0.7192982456140351, 0.3958333333333333, 'gini = 0.0\\nsamples = 1\\nvalue = [0, 0, 0, 0, 0, 0, 0, 0, 0, 0, 0, 0, 0, 0\\n0, 0, 0, 0, 0, 0, 0, 0, 0, 0, 0, 0, 0, 0\\n0, 0, 0, 0, 0, 0, 0, 0, 0, 0, 0, 0, 0, 0\\n0, 0, 0, 0, 0, 0, 0, 0, 0, 0, 0, 1, 0, 0\\n0, 0, 0, 0, 0, 0, 0, 0, 0, 0, 0, 0, 0, 0\\n0, 0]'),\n",
              " Text(0.7543859649122807, 0.3958333333333333, 'X[7] <= 0.265\\ngini = 0.909\\nsamples = 11\\nvalue = [0, 0, 0, 0, 0, 0, 0, 0, 0, 0, 0, 0, 0, 0\\n0, 0, 0, 0, 0, 0, 1, 0, 1, 0, 0, 0, 0, 0\\n0, 0, 0, 0, 0, 0, 0, 0, 1, 0, 0, 0, 0, 0\\n0, 0, 0, 0, 0, 0, 0, 0, 0, 0, 1, 0, 1, 1\\n1, 0, 0, 1, 0, 0, 1, 0, 0, 0, 0, 0, 0, 1\\n1, 0]'),\n",
              " Text(0.7192982456140351, 0.3541666666666667, 'X[8] <= 1.37\\ngini = 0.5\\nsamples = 2\\nvalue = [0, 0, 0, 0, 0, 0, 0, 0, 0, 0, 0, 0, 0, 0\\n0, 0, 0, 0, 0, 0, 0, 0, 0, 0, 0, 0, 0, 0\\n0, 0, 0, 0, 0, 0, 0, 0, 0, 0, 0, 0, 0, 0\\n0, 0, 0, 0, 0, 0, 0, 0, 0, 0, 1, 0, 0, 1\\n0, 0, 0, 0, 0, 0, 0, 0, 0, 0, 0, 0, 0, 0\\n0, 0]'),\n",
              " Text(0.7017543859649122, 0.3125, 'gini = 0.0\\nsamples = 1\\nvalue = [0, 0, 0, 0, 0, 0, 0, 0, 0, 0, 0, 0, 0, 0\\n0, 0, 0, 0, 0, 0, 0, 0, 0, 0, 0, 0, 0, 0\\n0, 0, 0, 0, 0, 0, 0, 0, 0, 0, 0, 0, 0, 0\\n0, 0, 0, 0, 0, 0, 0, 0, 0, 0, 0, 0, 0, 1\\n0, 0, 0, 0, 0, 0, 0, 0, 0, 0, 0, 0, 0, 0\\n0, 0]'),\n",
              " Text(0.7368421052631579, 0.3125, 'gini = 0.0\\nsamples = 1\\nvalue = [0, 0, 0, 0, 0, 0, 0, 0, 0, 0, 0, 0, 0, 0\\n0, 0, 0, 0, 0, 0, 0, 0, 0, 0, 0, 0, 0, 0\\n0, 0, 0, 0, 0, 0, 0, 0, 0, 0, 0, 0, 0, 0\\n0, 0, 0, 0, 0, 0, 0, 0, 0, 0, 1, 0, 0, 0\\n0, 0, 0, 0, 0, 0, 0, 0, 0, 0, 0, 0, 0, 0\\n0, 0]'),\n",
              " Text(0.7894736842105263, 0.3541666666666667, 'X[5] <= 1.565\\ngini = 0.889\\nsamples = 9\\nvalue = [0, 0, 0, 0, 0, 0, 0, 0, 0, 0, 0, 0, 0, 0\\n0, 0, 0, 0, 0, 0, 1, 0, 1, 0, 0, 0, 0, 0\\n0, 0, 0, 0, 0, 0, 0, 0, 1, 0, 0, 0, 0, 0\\n0, 0, 0, 0, 0, 0, 0, 0, 0, 0, 0, 0, 1, 0\\n1, 0, 0, 1, 0, 0, 1, 0, 0, 0, 0, 0, 0, 1\\n1, 0]'),\n",
              " Text(0.7719298245614035, 0.3125, 'gini = 0.0\\nsamples = 1\\nvalue = [0, 0, 0, 0, 0, 0, 0, 0, 0, 0, 0, 0, 0, 0\\n0, 0, 0, 0, 0, 0, 0, 0, 0, 0, 0, 0, 0, 0\\n0, 0, 0, 0, 0, 0, 0, 0, 1, 0, 0, 0, 0, 0\\n0, 0, 0, 0, 0, 0, 0, 0, 0, 0, 0, 0, 0, 0\\n0, 0, 0, 0, 0, 0, 0, 0, 0, 0, 0, 0, 0, 0\\n0, 0]'),\n",
              " Text(0.8070175438596491, 0.3125, 'X[8] <= 1.23\\ngini = 0.875\\nsamples = 8\\nvalue = [0, 0, 0, 0, 0, 0, 0, 0, 0, 0, 0, 0, 0, 0\\n0, 0, 0, 0, 0, 0, 1, 0, 1, 0, 0, 0, 0, 0\\n0, 0, 0, 0, 0, 0, 0, 0, 0, 0, 0, 0, 0, 0\\n0, 0, 0, 0, 0, 0, 0, 0, 0, 0, 0, 0, 1, 0\\n1, 0, 0, 1, 0, 0, 1, 0, 0, 0, 0, 0, 0, 1\\n1, 0]'),\n",
              " Text(0.7894736842105263, 0.2708333333333333, 'gini = 0.0\\nsamples = 1\\nvalue = [0, 0, 0, 0, 0, 0, 0, 0, 0, 0, 0, 0, 0, 0\\n0, 0, 0, 0, 0, 0, 0, 0, 1, 0, 0, 0, 0, 0\\n0, 0, 0, 0, 0, 0, 0, 0, 0, 0, 0, 0, 0, 0\\n0, 0, 0, 0, 0, 0, 0, 0, 0, 0, 0, 0, 0, 0\\n0, 0, 0, 0, 0, 0, 0, 0, 0, 0, 0, 0, 0, 0\\n0, 0]'),\n",
              " Text(0.8245614035087719, 0.2708333333333333, 'X[1] <= 1.645\\ngini = 0.857\\nsamples = 7\\nvalue = [0, 0, 0, 0, 0, 0, 0, 0, 0, 0, 0, 0, 0, 0\\n0, 0, 0, 0, 0, 0, 1, 0, 0, 0, 0, 0, 0, 0\\n0, 0, 0, 0, 0, 0, 0, 0, 0, 0, 0, 0, 0, 0\\n0, 0, 0, 0, 0, 0, 0, 0, 0, 0, 0, 0, 1, 0\\n1, 0, 0, 1, 0, 0, 1, 0, 0, 0, 0, 0, 0, 1\\n1, 0]'),\n",
              " Text(0.8070175438596491, 0.22916666666666666, 'gini = 0.0\\nsamples = 1\\nvalue = [0, 0, 0, 0, 0, 0, 0, 0, 0, 0, 0, 0, 0, 0\\n0, 0, 0, 0, 0, 0, 0, 0, 0, 0, 0, 0, 0, 0\\n0, 0, 0, 0, 0, 0, 0, 0, 0, 0, 0, 0, 0, 0\\n0, 0, 0, 0, 0, 0, 0, 0, 0, 0, 0, 0, 1, 0\\n0, 0, 0, 0, 0, 0, 0, 0, 0, 0, 0, 0, 0, 0\\n0, 0]'),\n",
              " Text(0.8421052631578947, 0.22916666666666666, 'X[1] <= 1.69\\ngini = 0.833\\nsamples = 6\\nvalue = [0, 0, 0, 0, 0, 0, 0, 0, 0, 0, 0, 0, 0, 0\\n0, 0, 0, 0, 0, 0, 1, 0, 0, 0, 0, 0, 0, 0\\n0, 0, 0, 0, 0, 0, 0, 0, 0, 0, 0, 0, 0, 0\\n0, 0, 0, 0, 0, 0, 0, 0, 0, 0, 0, 0, 0, 0\\n1, 0, 0, 1, 0, 0, 1, 0, 0, 0, 0, 0, 0, 1\\n1, 0]'),\n",
              " Text(0.8245614035087719, 0.1875, 'gini = 0.0\\nsamples = 1\\nvalue = [0, 0, 0, 0, 0, 0, 0, 0, 0, 0, 0, 0, 0, 0\\n0, 0, 0, 0, 0, 0, 0, 0, 0, 0, 0, 0, 0, 0\\n0, 0, 0, 0, 0, 0, 0, 0, 0, 0, 0, 0, 0, 0\\n0, 0, 0, 0, 0, 0, 0, 0, 0, 0, 0, 0, 0, 0\\n0, 0, 0, 1, 0, 0, 0, 0, 0, 0, 0, 0, 0, 0\\n0, 0]'),\n",
              " Text(0.8596491228070176, 0.1875, 'X[6] <= 2.175\\ngini = 0.8\\nsamples = 5\\nvalue = [0, 0, 0, 0, 0, 0, 0, 0, 0, 0, 0, 0, 0, 0\\n0, 0, 0, 0, 0, 0, 1, 0, 0, 0, 0, 0, 0, 0\\n0, 0, 0, 0, 0, 0, 0, 0, 0, 0, 0, 0, 0, 0\\n0, 0, 0, 0, 0, 0, 0, 0, 0, 0, 0, 0, 0, 0\\n1, 0, 0, 0, 0, 0, 1, 0, 0, 0, 0, 0, 0, 1\\n1, 0]'),\n",
              " Text(0.8421052631578947, 0.14583333333333334, 'gini = 0.0\\nsamples = 1\\nvalue = [0, 0, 0, 0, 0, 0, 0, 0, 0, 0, 0, 0, 0, 0\\n0, 0, 0, 0, 0, 0, 1, 0, 0, 0, 0, 0, 0, 0\\n0, 0, 0, 0, 0, 0, 0, 0, 0, 0, 0, 0, 0, 0\\n0, 0, 0, 0, 0, 0, 0, 0, 0, 0, 0, 0, 0, 0\\n0, 0, 0, 0, 0, 0, 0, 0, 0, 0, 0, 0, 0, 0\\n0, 0]'),\n",
              " Text(0.8771929824561403, 0.14583333333333334, 'X[2] <= 2.33\\ngini = 0.75\\nsamples = 4\\nvalue = [0, 0, 0, 0, 0, 0, 0, 0, 0, 0, 0, 0, 0, 0\\n0, 0, 0, 0, 0, 0, 0, 0, 0, 0, 0, 0, 0, 0\\n0, 0, 0, 0, 0, 0, 0, 0, 0, 0, 0, 0, 0, 0\\n0, 0, 0, 0, 0, 0, 0, 0, 0, 0, 0, 0, 0, 0\\n1, 0, 0, 0, 0, 0, 1, 0, 0, 0, 0, 0, 0, 1\\n1, 0]'),\n",
              " Text(0.8596491228070176, 0.10416666666666667, 'gini = 0.0\\nsamples = 1\\nvalue = [0, 0, 0, 0, 0, 0, 0, 0, 0, 0, 0, 0, 0, 0\\n0, 0, 0, 0, 0, 0, 0, 0, 0, 0, 0, 0, 0, 0\\n0, 0, 0, 0, 0, 0, 0, 0, 0, 0, 0, 0, 0, 0\\n0, 0, 0, 0, 0, 0, 0, 0, 0, 0, 0, 0, 0, 0\\n1, 0, 0, 0, 0, 0, 0, 0, 0, 0, 0, 0, 0, 0\\n0, 0]'),\n",
              " Text(0.8947368421052632, 0.10416666666666667, 'X[4] <= 90.0\\ngini = 0.667\\nsamples = 3\\nvalue = [0, 0, 0, 0, 0, 0, 0, 0, 0, 0, 0, 0, 0, 0\\n0, 0, 0, 0, 0, 0, 0, 0, 0, 0, 0, 0, 0, 0\\n0, 0, 0, 0, 0, 0, 0, 0, 0, 0, 0, 0, 0, 0\\n0, 0, 0, 0, 0, 0, 0, 0, 0, 0, 0, 0, 0, 0\\n0, 0, 0, 0, 0, 0, 1, 0, 0, 0, 0, 0, 0, 1\\n1, 0]'),\n",
              " Text(0.8771929824561403, 0.0625, 'gini = 0.0\\nsamples = 1\\nvalue = [0, 0, 0, 0, 0, 0, 0, 0, 0, 0, 0, 0, 0, 0\\n0, 0, 0, 0, 0, 0, 0, 0, 0, 0, 0, 0, 0, 0\\n0, 0, 0, 0, 0, 0, 0, 0, 0, 0, 0, 0, 0, 0\\n0, 0, 0, 0, 0, 0, 0, 0, 0, 0, 0, 0, 0, 0\\n0, 0, 0, 0, 0, 0, 0, 0, 0, 0, 0, 0, 0, 1\\n0, 0]'),\n",
              " Text(0.9122807017543859, 0.0625, 'X[11] <= 2.865\\ngini = 0.5\\nsamples = 2\\nvalue = [0, 0, 0, 0, 0, 0, 0, 0, 0, 0, 0, 0, 0, 0\\n0, 0, 0, 0, 0, 0, 0, 0, 0, 0, 0, 0, 0, 0\\n0, 0, 0, 0, 0, 0, 0, 0, 0, 0, 0, 0, 0, 0\\n0, 0, 0, 0, 0, 0, 0, 0, 0, 0, 0, 0, 0, 0\\n0, 0, 0, 0, 0, 0, 1, 0, 0, 0, 0, 0, 0, 0\\n1, 0]'),\n",
              " Text(0.8947368421052632, 0.020833333333333332, 'gini = 0.0\\nsamples = 1\\nvalue = [0, 0, 0, 0, 0, 0, 0, 0, 0, 0, 0, 0, 0, 0\\n0, 0, 0, 0, 0, 0, 0, 0, 0, 0, 0, 0, 0, 0\\n0, 0, 0, 0, 0, 0, 0, 0, 0, 0, 0, 0, 0, 0\\n0, 0, 0, 0, 0, 0, 0, 0, 0, 0, 0, 0, 0, 0\\n0, 0, 0, 0, 0, 0, 1, 0, 0, 0, 0, 0, 0, 0\\n0, 0]'),\n",
              " Text(0.9298245614035088, 0.020833333333333332, 'gini = 0.0\\nsamples = 1\\nvalue = [0, 0, 0, 0, 0, 0, 0, 0, 0, 0, 0, 0, 0, 0\\n0, 0, 0, 0, 0, 0, 0, 0, 0, 0, 0, 0, 0, 0\\n0, 0, 0, 0, 0, 0, 0, 0, 0, 0, 0, 0, 0, 0\\n0, 0, 0, 0, 0, 0, 0, 0, 0, 0, 0, 0, 0, 0\\n0, 0, 0, 0, 0, 0, 0, 0, 0, 0, 0, 0, 0, 0\\n1, 0]'),\n",
              " Text(0.7368421052631579, 0.6458333333333334, 'X[5] <= 2.67\\ngini = 0.88\\nsamples = 10\\nvalue = [0, 0, 0, 0, 0, 0, 0, 0, 0, 0, 0, 0, 0, 0\\n0, 0, 0, 0, 0, 0, 0, 0, 0, 0, 0, 0, 0, 0\\n0, 0, 0, 0, 0, 0, 0, 2, 0, 0, 0, 0, 0, 0\\n1, 0, 0, 0, 1, 1, 0, 0, 1, 0, 0, 0, 0, 0\\n0, 1, 0, 0, 1, 0, 0, 0, 0, 1, 0, 0, 0, 0\\n0, 1]'),\n",
              " Text(0.7192982456140351, 0.6041666666666666, 'gini = 0.0\\nsamples = 2\\nvalue = [0, 0, 0, 0, 0, 0, 0, 0, 0, 0, 0, 0, 0, 0\\n0, 0, 0, 0, 0, 0, 0, 0, 0, 0, 0, 0, 0, 0\\n0, 0, 0, 0, 0, 0, 0, 2, 0, 0, 0, 0, 0, 0\\n0, 0, 0, 0, 0, 0, 0, 0, 0, 0, 0, 0, 0, 0\\n0, 0, 0, 0, 0, 0, 0, 0, 0, 0, 0, 0, 0, 0\\n0, 0]'),\n",
              " Text(0.7543859649122807, 0.6041666666666666, 'X[3] <= 14.2\\ngini = 0.875\\nsamples = 8\\nvalue = [0, 0, 0, 0, 0, 0, 0, 0, 0, 0, 0, 0, 0, 0\\n0, 0, 0, 0, 0, 0, 0, 0, 0, 0, 0, 0, 0, 0\\n0, 0, 0, 0, 0, 0, 0, 0, 0, 0, 0, 0, 0, 0\\n1, 0, 0, 0, 1, 1, 0, 0, 1, 0, 0, 0, 0, 0\\n0, 1, 0, 0, 1, 0, 0, 0, 0, 1, 0, 0, 0, 0\\n0, 1]'),\n",
              " Text(0.7368421052631579, 0.5625, 'gini = 0.0\\nsamples = 1\\nvalue = [0, 0, 0, 0, 0, 0, 0, 0, 0, 0, 0, 0, 0, 0\\n0, 0, 0, 0, 0, 0, 0, 0, 0, 0, 0, 0, 0, 0\\n0, 0, 0, 0, 0, 0, 0, 0, 0, 0, 0, 0, 0, 0\\n1, 0, 0, 0, 0, 0, 0, 0, 0, 0, 0, 0, 0, 0\\n0, 0, 0, 0, 0, 0, 0, 0, 0, 0, 0, 0, 0, 0\\n0, 0]'),\n",
              " Text(0.7719298245614035, 0.5625, 'X[6] <= 2.715\\ngini = 0.857\\nsamples = 7\\nvalue = [0, 0, 0, 0, 0, 0, 0, 0, 0, 0, 0, 0, 0, 0\\n0, 0, 0, 0, 0, 0, 0, 0, 0, 0, 0, 0, 0, 0\\n0, 0, 0, 0, 0, 0, 0, 0, 0, 0, 0, 0, 0, 0\\n0, 0, 0, 0, 1, 1, 0, 0, 1, 0, 0, 0, 0, 0\\n0, 1, 0, 0, 1, 0, 0, 0, 0, 1, 0, 0, 0, 0\\n0, 1]'),\n",
              " Text(0.7543859649122807, 0.5208333333333334, 'gini = 0.0\\nsamples = 1\\nvalue = [0, 0, 0, 0, 0, 0, 0, 0, 0, 0, 0, 0, 0, 0\\n0, 0, 0, 0, 0, 0, 0, 0, 0, 0, 0, 0, 0, 0\\n0, 0, 0, 0, 0, 0, 0, 0, 0, 0, 0, 0, 0, 0\\n0, 0, 0, 0, 0, 0, 0, 0, 0, 0, 0, 0, 0, 0\\n0, 1, 0, 0, 0, 0, 0, 0, 0, 0, 0, 0, 0, 0\\n0, 0]'),\n",
              " Text(0.7894736842105263, 0.5208333333333334, 'X[8] <= 1.76\\ngini = 0.833\\nsamples = 6\\nvalue = [0, 0, 0, 0, 0, 0, 0, 0, 0, 0, 0, 0, 0, 0\\n0, 0, 0, 0, 0, 0, 0, 0, 0, 0, 0, 0, 0, 0\\n0, 0, 0, 0, 0, 0, 0, 0, 0, 0, 0, 0, 0, 0\\n0, 0, 0, 0, 1, 1, 0, 0, 1, 0, 0, 0, 0, 0\\n0, 0, 0, 0, 1, 0, 0, 0, 0, 1, 0, 0, 0, 0\\n0, 1]'),\n",
              " Text(0.7719298245614035, 0.4791666666666667, 'gini = 0.0\\nsamples = 1\\nvalue = [0, 0, 0, 0, 0, 0, 0, 0, 0, 0, 0, 0, 0, 0\\n0, 0, 0, 0, 0, 0, 0, 0, 0, 0, 0, 0, 0, 0\\n0, 0, 0, 0, 0, 0, 0, 0, 0, 0, 0, 0, 0, 0\\n0, 0, 0, 0, 1, 0, 0, 0, 0, 0, 0, 0, 0, 0\\n0, 0, 0, 0, 0, 0, 0, 0, 0, 0, 0, 0, 0, 0\\n0, 0]'),\n",
              " Text(0.8070175438596491, 0.4791666666666667, 'X[7] <= 0.23\\ngini = 0.8\\nsamples = 5\\nvalue = [0, 0, 0, 0, 0, 0, 0, 0, 0, 0, 0, 0, 0, 0\\n0, 0, 0, 0, 0, 0, 0, 0, 0, 0, 0, 0, 0, 0\\n0, 0, 0, 0, 0, 0, 0, 0, 0, 0, 0, 0, 0, 0\\n0, 0, 0, 0, 0, 1, 0, 0, 1, 0, 0, 0, 0, 0\\n0, 0, 0, 0, 1, 0, 0, 0, 0, 1, 0, 0, 0, 0\\n0, 1]'),\n",
              " Text(0.7894736842105263, 0.4375, 'gini = 0.0\\nsamples = 1\\nvalue = [0, 0, 0, 0, 0, 0, 0, 0, 0, 0, 0, 0, 0, 0\\n0, 0, 0, 0, 0, 0, 0, 0, 0, 0, 0, 0, 0, 0\\n0, 0, 0, 0, 0, 0, 0, 0, 0, 0, 0, 0, 0, 0\\n0, 0, 0, 0, 0, 0, 0, 0, 0, 0, 0, 0, 0, 0\\n0, 0, 0, 0, 1, 0, 0, 0, 0, 0, 0, 0, 0, 0\\n0, 0]'),\n",
              " Text(0.8245614035087719, 0.4375, 'X[8] <= 1.945\\ngini = 0.75\\nsamples = 4\\nvalue = [0, 0, 0, 0, 0, 0, 0, 0, 0, 0, 0, 0, 0, 0\\n0, 0, 0, 0, 0, 0, 0, 0, 0, 0, 0, 0, 0, 0\\n0, 0, 0, 0, 0, 0, 0, 0, 0, 0, 0, 0, 0, 0\\n0, 0, 0, 0, 0, 1, 0, 0, 1, 0, 0, 0, 0, 0\\n0, 0, 0, 0, 0, 0, 0, 0, 0, 1, 0, 0, 0, 0\\n0, 1]'),\n",
              " Text(0.8070175438596491, 0.3958333333333333, 'gini = 0.0\\nsamples = 1\\nvalue = [0, 0, 0, 0, 0, 0, 0, 0, 0, 0, 0, 0, 0, 0\\n0, 0, 0, 0, 0, 0, 0, 0, 0, 0, 0, 0, 0, 0\\n0, 0, 0, 0, 0, 0, 0, 0, 0, 0, 0, 0, 0, 0\\n0, 0, 0, 0, 0, 0, 0, 0, 0, 0, 0, 0, 0, 0\\n0, 0, 0, 0, 0, 0, 0, 0, 0, 0, 0, 0, 0, 0\\n0, 1]'),\n",
              " Text(0.8421052631578947, 0.3958333333333333, 'X[10] <= 0.91\\ngini = 0.667\\nsamples = 3\\nvalue = [0, 0, 0, 0, 0, 0, 0, 0, 0, 0, 0, 0, 0, 0\\n0, 0, 0, 0, 0, 0, 0, 0, 0, 0, 0, 0, 0, 0\\n0, 0, 0, 0, 0, 0, 0, 0, 0, 0, 0, 0, 0, 0\\n0, 0, 0, 0, 0, 1, 0, 0, 1, 0, 0, 0, 0, 0\\n0, 0, 0, 0, 0, 0, 0, 0, 0, 1, 0, 0, 0, 0\\n0, 0]'),\n",
              " Text(0.8245614035087719, 0.3541666666666667, 'gini = 0.0\\nsamples = 1\\nvalue = [0, 0, 0, 0, 0, 0, 0, 0, 0, 0, 0, 0, 0, 0\\n0, 0, 0, 0, 0, 0, 0, 0, 0, 0, 0, 0, 0, 0\\n0, 0, 0, 0, 0, 0, 0, 0, 0, 0, 0, 0, 0, 0\\n0, 0, 0, 0, 0, 1, 0, 0, 0, 0, 0, 0, 0, 0\\n0, 0, 0, 0, 0, 0, 0, 0, 0, 0, 0, 0, 0, 0\\n0, 0]'),\n",
              " Text(0.8596491228070176, 0.3541666666666667, 'X[8] <= 2.055\\ngini = 0.5\\nsamples = 2\\nvalue = [0, 0, 0, 0, 0, 0, 0, 0, 0, 0, 0, 0, 0, 0\\n0, 0, 0, 0, 0, 0, 0, 0, 0, 0, 0, 0, 0, 0\\n0, 0, 0, 0, 0, 0, 0, 0, 0, 0, 0, 0, 0, 0\\n0, 0, 0, 0, 0, 0, 0, 0, 1, 0, 0, 0, 0, 0\\n0, 0, 0, 0, 0, 0, 0, 0, 0, 1, 0, 0, 0, 0\\n0, 0]'),\n",
              " Text(0.8421052631578947, 0.3125, 'gini = 0.0\\nsamples = 1\\nvalue = [0, 0, 0, 0, 0, 0, 0, 0, 0, 0, 0, 0, 0, 0\\n0, 0, 0, 0, 0, 0, 0, 0, 0, 0, 0, 0, 0, 0\\n0, 0, 0, 0, 0, 0, 0, 0, 0, 0, 0, 0, 0, 0\\n0, 0, 0, 0, 0, 0, 0, 0, 1, 0, 0, 0, 0, 0\\n0, 0, 0, 0, 0, 0, 0, 0, 0, 0, 0, 0, 0, 0\\n0, 0]'),\n",
              " Text(0.8771929824561403, 0.3125, 'gini = 0.0\\nsamples = 1\\nvalue = [0, 0, 0, 0, 0, 0, 0, 0, 0, 0, 0, 0, 0, 0\\n0, 0, 0, 0, 0, 0, 0, 0, 0, 0, 0, 0, 0, 0\\n0, 0, 0, 0, 0, 0, 0, 0, 0, 0, 0, 0, 0, 0\\n0, 0, 0, 0, 0, 0, 0, 0, 0, 0, 0, 0, 0, 0\\n0, 0, 0, 0, 0, 0, 0, 0, 0, 1, 0, 0, 0, 0\\n0, 0]'),\n",
              " Text(0.8421052631578947, 0.6875, 'X[7] <= 0.295\\ngini = 0.88\\nsamples = 10\\nvalue = [0, 0, 0, 0, 0, 0, 0, 0, 0, 0, 0, 0, 0, 0\\n0, 0, 0, 0, 0, 0, 0, 0, 0, 0, 0, 0, 0, 0\\n1, 0, 0, 0, 0, 0, 0, 0, 0, 0, 0, 0, 0, 0\\n0, 1, 0, 0, 0, 0, 0, 1, 0, 0, 0, 0, 0, 0\\n0, 0, 2, 0, 0, 1, 0, 1, 1, 0, 1, 0, 1, 0\\n0, 0]'),\n",
              " Text(0.8070175438596491, 0.6458333333333334, 'X[6] <= 2.47\\ngini = 0.444\\nsamples = 3\\nvalue = [0, 0, 0, 0, 0, 0, 0, 0, 0, 0, 0, 0, 0, 0\\n0, 0, 0, 0, 0, 0, 0, 0, 0, 0, 0, 0, 0, 0\\n0, 0, 0, 0, 0, 0, 0, 0, 0, 0, 0, 0, 0, 0\\n0, 1, 0, 0, 0, 0, 0, 0, 0, 0, 0, 0, 0, 0\\n0, 0, 2, 0, 0, 0, 0, 0, 0, 0, 0, 0, 0, 0\\n0, 0]'),\n",
              " Text(0.7894736842105263, 0.6041666666666666, 'gini = 0.0\\nsamples = 1\\nvalue = [0, 0, 0, 0, 0, 0, 0, 0, 0, 0, 0, 0, 0, 0\\n0, 0, 0, 0, 0, 0, 0, 0, 0, 0, 0, 0, 0, 0\\n0, 0, 0, 0, 0, 0, 0, 0, 0, 0, 0, 0, 0, 0\\n0, 1, 0, 0, 0, 0, 0, 0, 0, 0, 0, 0, 0, 0\\n0, 0, 0, 0, 0, 0, 0, 0, 0, 0, 0, 0, 0, 0\\n0, 0]'),\n",
              " Text(0.8245614035087719, 0.6041666666666666, 'gini = 0.0\\nsamples = 2\\nvalue = [0, 0, 0, 0, 0, 0, 0, 0, 0, 0, 0, 0, 0, 0\\n0, 0, 0, 0, 0, 0, 0, 0, 0, 0, 0, 0, 0, 0\\n0, 0, 0, 0, 0, 0, 0, 0, 0, 0, 0, 0, 0, 0\\n0, 0, 0, 0, 0, 0, 0, 0, 0, 0, 0, 0, 0, 0\\n0, 0, 2, 0, 0, 0, 0, 0, 0, 0, 0, 0, 0, 0\\n0, 0]'),\n",
              " Text(0.8771929824561403, 0.6458333333333334, 'X[1] <= 1.55\\ngini = 0.857\\nsamples = 7\\nvalue = [0, 0, 0, 0, 0, 0, 0, 0, 0, 0, 0, 0, 0, 0\\n0, 0, 0, 0, 0, 0, 0, 0, 0, 0, 0, 0, 0, 0\\n1, 0, 0, 0, 0, 0, 0, 0, 0, 0, 0, 0, 0, 0\\n0, 0, 0, 0, 0, 0, 0, 1, 0, 0, 0, 0, 0, 0\\n0, 0, 0, 0, 0, 1, 0, 1, 1, 0, 1, 0, 1, 0\\n0, 0]'),\n",
              " Text(0.8596491228070176, 0.6041666666666666, 'gini = 0.0\\nsamples = 1\\nvalue = [0, 0, 0, 0, 0, 0, 0, 0, 0, 0, 0, 0, 0, 0\\n0, 0, 0, 0, 0, 0, 0, 0, 0, 0, 0, 0, 0, 0\\n0, 0, 0, 0, 0, 0, 0, 0, 0, 0, 0, 0, 0, 0\\n0, 0, 0, 0, 0, 0, 0, 0, 0, 0, 0, 0, 0, 0\\n0, 0, 0, 0, 0, 0, 0, 0, 1, 0, 0, 0, 0, 0\\n0, 0]'),\n",
              " Text(0.8947368421052632, 0.6041666666666666, 'X[0] <= 13.045\\ngini = 0.833\\nsamples = 6\\nvalue = [0, 0, 0, 0, 0, 0, 0, 0, 0, 0, 0, 0, 0, 0\\n0, 0, 0, 0, 0, 0, 0, 0, 0, 0, 0, 0, 0, 0\\n1, 0, 0, 0, 0, 0, 0, 0, 0, 0, 0, 0, 0, 0\\n0, 0, 0, 0, 0, 0, 0, 1, 0, 0, 0, 0, 0, 0\\n0, 0, 0, 0, 0, 1, 0, 1, 0, 0, 1, 0, 1, 0\\n0, 0]'),\n",
              " Text(0.8771929824561403, 0.5625, 'gini = 0.0\\nsamples = 1\\nvalue = [0, 0, 0, 0, 0, 0, 0, 0, 0, 0, 0, 0, 0, 0\\n0, 0, 0, 0, 0, 0, 0, 0, 0, 0, 0, 0, 0, 0\\n1, 0, 0, 0, 0, 0, 0, 0, 0, 0, 0, 0, 0, 0\\n0, 0, 0, 0, 0, 0, 0, 0, 0, 0, 0, 0, 0, 0\\n0, 0, 0, 0, 0, 0, 0, 0, 0, 0, 0, 0, 0, 0\\n0, 0]'),\n",
              " Text(0.9122807017543859, 0.5625, 'X[4] <= 101.5\\ngini = 0.8\\nsamples = 5\\nvalue = [0, 0, 0, 0, 0, 0, 0, 0, 0, 0, 0, 0, 0, 0\\n0, 0, 0, 0, 0, 0, 0, 0, 0, 0, 0, 0, 0, 0\\n0, 0, 0, 0, 0, 0, 0, 0, 0, 0, 0, 0, 0, 0\\n0, 0, 0, 0, 0, 0, 0, 1, 0, 0, 0, 0, 0, 0\\n0, 0, 0, 0, 0, 1, 0, 1, 0, 0, 1, 0, 1, 0\\n0, 0]'),\n",
              " Text(0.8947368421052632, 0.5208333333333334, 'gini = 0.0\\nsamples = 1\\nvalue = [0, 0, 0, 0, 0, 0, 0, 0, 0, 0, 0, 0, 0, 0\\n0, 0, 0, 0, 0, 0, 0, 0, 0, 0, 0, 0, 0, 0\\n0, 0, 0, 0, 0, 0, 0, 0, 0, 0, 0, 0, 0, 0\\n0, 0, 0, 0, 0, 0, 0, 0, 0, 0, 0, 0, 0, 0\\n0, 0, 0, 0, 0, 0, 0, 1, 0, 0, 0, 0, 0, 0\\n0, 0]'),\n",
              " Text(0.9298245614035088, 0.5208333333333334, 'X[2] <= 2.615\\ngini = 0.75\\nsamples = 4\\nvalue = [0, 0, 0, 0, 0, 0, 0, 0, 0, 0, 0, 0, 0, 0\\n0, 0, 0, 0, 0, 0, 0, 0, 0, 0, 0, 0, 0, 0\\n0, 0, 0, 0, 0, 0, 0, 0, 0, 0, 0, 0, 0, 0\\n0, 0, 0, 0, 0, 0, 0, 1, 0, 0, 0, 0, 0, 0\\n0, 0, 0, 0, 0, 1, 0, 0, 0, 0, 1, 0, 1, 0\\n0, 0]'),\n",
              " Text(0.9122807017543859, 0.4791666666666667, 'gini = 0.0\\nsamples = 1\\nvalue = [0, 0, 0, 0, 0, 0, 0, 0, 0, 0, 0, 0, 0, 0\\n0, 0, 0, 0, 0, 0, 0, 0, 0, 0, 0, 0, 0, 0\\n0, 0, 0, 0, 0, 0, 0, 0, 0, 0, 0, 0, 0, 0\\n0, 0, 0, 0, 0, 0, 0, 0, 0, 0, 0, 0, 0, 0\\n0, 0, 0, 0, 0, 0, 0, 0, 0, 0, 0, 0, 1, 0\\n0, 0]'),\n",
              " Text(0.9473684210526315, 0.4791666666666667, 'X[11] <= 2.705\\ngini = 0.667\\nsamples = 3\\nvalue = [0, 0, 0, 0, 0, 0, 0, 0, 0, 0, 0, 0, 0, 0\\n0, 0, 0, 0, 0, 0, 0, 0, 0, 0, 0, 0, 0, 0\\n0, 0, 0, 0, 0, 0, 0, 0, 0, 0, 0, 0, 0, 0\\n0, 0, 0, 0, 0, 0, 0, 1, 0, 0, 0, 0, 0, 0\\n0, 0, 0, 0, 0, 1, 0, 0, 0, 0, 1, 0, 0, 0\\n0, 0]'),\n",
              " Text(0.9298245614035088, 0.4375, 'gini = 0.0\\nsamples = 1\\nvalue = [0, 0, 0, 0, 0, 0, 0, 0, 0, 0, 0, 0, 0, 0\\n0, 0, 0, 0, 0, 0, 0, 0, 0, 0, 0, 0, 0, 0\\n0, 0, 0, 0, 0, 0, 0, 0, 0, 0, 0, 0, 0, 0\\n0, 0, 0, 0, 0, 0, 0, 0, 0, 0, 0, 0, 0, 0\\n0, 0, 0, 0, 0, 1, 0, 0, 0, 0, 0, 0, 0, 0\\n0, 0]'),\n",
              " Text(0.9649122807017544, 0.4375, 'X[2] <= 2.74\\ngini = 0.5\\nsamples = 2\\nvalue = [0, 0, 0, 0, 0, 0, 0, 0, 0, 0, 0, 0, 0, 0\\n0, 0, 0, 0, 0, 0, 0, 0, 0, 0, 0, 0, 0, 0\\n0, 0, 0, 0, 0, 0, 0, 0, 0, 0, 0, 0, 0, 0\\n0, 0, 0, 0, 0, 0, 0, 1, 0, 0, 0, 0, 0, 0\\n0, 0, 0, 0, 0, 0, 0, 0, 0, 0, 1, 0, 0, 0\\n0, 0]'),\n",
              " Text(0.9473684210526315, 0.3958333333333333, 'gini = 0.0\\nsamples = 1\\nvalue = [0, 0, 0, 0, 0, 0, 0, 0, 0, 0, 0, 0, 0, 0\\n0, 0, 0, 0, 0, 0, 0, 0, 0, 0, 0, 0, 0, 0\\n0, 0, 0, 0, 0, 0, 0, 0, 0, 0, 0, 0, 0, 0\\n0, 0, 0, 0, 0, 0, 0, 0, 0, 0, 0, 0, 0, 0\\n0, 0, 0, 0, 0, 0, 0, 0, 0, 0, 1, 0, 0, 0\\n0, 0]'),\n",
              " Text(0.9824561403508771, 0.3958333333333333, 'gini = 0.0\\nsamples = 1\\nvalue = [0, 0, 0, 0, 0, 0, 0, 0, 0, 0, 0, 0, 0, 0\\n0, 0, 0, 0, 0, 0, 0, 0, 0, 0, 0, 0, 0, 0\\n0, 0, 0, 0, 0, 0, 0, 0, 0, 0, 0, 0, 0, 0\\n0, 0, 0, 0, 0, 0, 0, 1, 0, 0, 0, 0, 0, 0\\n0, 0, 0, 0, 0, 0, 0, 0, 0, 0, 0, 0, 0, 0\\n0, 0]'),\n",
              " Text(0.8771929824561403, 0.8541666666666666, 'X[4] <= 99.5\\ngini = 0.778\\nsamples = 6\\nvalue = [0, 0, 0, 0, 0, 0, 0, 0, 0, 0, 0, 0, 1, 0\\n0, 0, 0, 0, 1, 0, 0, 0, 0, 2, 0, 0, 0, 1\\n0, 0, 0, 0, 0, 0, 0, 0, 0, 0, 0, 0, 0, 0\\n0, 0, 0, 0, 0, 0, 0, 0, 0, 1, 0, 0, 0, 0\\n0, 0, 0, 0, 0, 0, 0, 0, 0, 0, 0, 0, 0, 0\\n0, 0]'),\n",
              " Text(0.8596491228070176, 0.8125, 'gini = 0.0\\nsamples = 2\\nvalue = [0, 0, 0, 0, 0, 0, 0, 0, 0, 0, 0, 0, 0, 0\\n0, 0, 0, 0, 0, 0, 0, 0, 0, 2, 0, 0, 0, 0\\n0, 0, 0, 0, 0, 0, 0, 0, 0, 0, 0, 0, 0, 0\\n0, 0, 0, 0, 0, 0, 0, 0, 0, 0, 0, 0, 0, 0\\n0, 0, 0, 0, 0, 0, 0, 0, 0, 0, 0, 0, 0, 0\\n0, 0]'),\n",
              " Text(0.8947368421052632, 0.8125, 'X[9] <= 4.135\\ngini = 0.75\\nsamples = 4\\nvalue = [0, 0, 0, 0, 0, 0, 0, 0, 0, 0, 0, 0, 1, 0\\n0, 0, 0, 0, 1, 0, 0, 0, 0, 0, 0, 0, 0, 1\\n0, 0, 0, 0, 0, 0, 0, 0, 0, 0, 0, 0, 0, 0\\n0, 0, 0, 0, 0, 0, 0, 0, 0, 1, 0, 0, 0, 0\\n0, 0, 0, 0, 0, 0, 0, 0, 0, 0, 0, 0, 0, 0\\n0, 0]'),\n",
              " Text(0.8771929824561403, 0.7708333333333334, 'gini = 0.0\\nsamples = 1\\nvalue = [0, 0, 0, 0, 0, 0, 0, 0, 0, 0, 0, 0, 0, 0\\n0, 0, 0, 0, 0, 0, 0, 0, 0, 0, 0, 0, 0, 0\\n0, 0, 0, 0, 0, 0, 0, 0, 0, 0, 0, 0, 0, 0\\n0, 0, 0, 0, 0, 0, 0, 0, 0, 1, 0, 0, 0, 0\\n0, 0, 0, 0, 0, 0, 0, 0, 0, 0, 0, 0, 0, 0\\n0, 0]'),\n",
              " Text(0.9122807017543859, 0.7708333333333334, 'X[3] <= 26.25\\ngini = 0.667\\nsamples = 3\\nvalue = [0, 0, 0, 0, 0, 0, 0, 0, 0, 0, 0, 0, 1, 0\\n0, 0, 0, 0, 1, 0, 0, 0, 0, 0, 0, 0, 0, 1\\n0, 0, 0, 0, 0, 0, 0, 0, 0, 0, 0, 0, 0, 0\\n0, 0, 0, 0, 0, 0, 0, 0, 0, 0, 0, 0, 0, 0\\n0, 0, 0, 0, 0, 0, 0, 0, 0, 0, 0, 0, 0, 0\\n0, 0]'),\n",
              " Text(0.8947368421052632, 0.7291666666666666, 'X[0] <= 13.17\\ngini = 0.5\\nsamples = 2\\nvalue = [0, 0, 0, 0, 0, 0, 0, 0, 0, 0, 0, 0, 0, 0\\n0, 0, 0, 0, 1, 0, 0, 0, 0, 0, 0, 0, 0, 1\\n0, 0, 0, 0, 0, 0, 0, 0, 0, 0, 0, 0, 0, 0\\n0, 0, 0, 0, 0, 0, 0, 0, 0, 0, 0, 0, 0, 0\\n0, 0, 0, 0, 0, 0, 0, 0, 0, 0, 0, 0, 0, 0\\n0, 0]'),\n",
              " Text(0.8771929824561403, 0.6875, 'gini = 0.0\\nsamples = 1\\nvalue = [0, 0, 0, 0, 0, 0, 0, 0, 0, 0, 0, 0, 0, 0\\n0, 0, 0, 0, 0, 0, 0, 0, 0, 0, 0, 0, 0, 1\\n0, 0, 0, 0, 0, 0, 0, 0, 0, 0, 0, 0, 0, 0\\n0, 0, 0, 0, 0, 0, 0, 0, 0, 0, 0, 0, 0, 0\\n0, 0, 0, 0, 0, 0, 0, 0, 0, 0, 0, 0, 0, 0\\n0, 0]'),\n",
              " Text(0.9122807017543859, 0.6875, 'gini = 0.0\\nsamples = 1\\nvalue = [0, 0, 0, 0, 0, 0, 0, 0, 0, 0, 0, 0, 0, 0\\n0, 0, 0, 0, 1, 0, 0, 0, 0, 0, 0, 0, 0, 0\\n0, 0, 0, 0, 0, 0, 0, 0, 0, 0, 0, 0, 0, 0\\n0, 0, 0, 0, 0, 0, 0, 0, 0, 0, 0, 0, 0, 0\\n0, 0, 0, 0, 0, 0, 0, 0, 0, 0, 0, 0, 0, 0\\n0, 0]'),\n",
              " Text(0.9298245614035088, 0.7291666666666666, 'gini = 0.0\\nsamples = 1\\nvalue = [0, 0, 0, 0, 0, 0, 0, 0, 0, 0, 0, 0, 1, 0\\n0, 0, 0, 0, 0, 0, 0, 0, 0, 0, 0, 0, 0, 0\\n0, 0, 0, 0, 0, 0, 0, 0, 0, 0, 0, 0, 0, 0\\n0, 0, 0, 0, 0, 0, 0, 0, 0, 0, 0, 0, 0, 0\\n0, 0, 0, 0, 0, 0, 0, 0, 0, 0, 0, 0, 0, 0\\n0, 0]')]"
            ]
          },
          "metadata": {},
          "execution_count": 97
        },
        {
          "output_type": "display_data",
          "data": {
            "text/plain": [
              "<Figure size 432x288 with 1 Axes>"
            ],
            "image/png": "[encoded data removed]"
          },
          "metadata": {
            "needs_background": "light"
          }
        }
      ]
    },
    {
      "cell_type": "markdown",
      "source": [
        "## 4.1-. Naive Bayes 50% for test and 50%\n"
      ],
      "metadata": {
        "id": "qB_-Bi8-7rQc"
      }
    },
    {
      "cell_type": "code",
      "source": [
        "from sklearn.naive_bayes import GaussianNB\n",
        "\n",
        "# Crear modelo basado en un clasificador naive Bayes (Gaussiano)\n",
        "clf = GaussianNB()\n",
        "\n",
        "# Entrenamiento\n",
        "clf = clf.fit(X_train_wine_2, Y_train_wine_2)\n",
        "\n",
        "# Prueba\n",
        "y_train_pred = clf.predict(X_train_wine_2)\n",
        "\n",
        "# Resultados\n",
        "print(\"===== TRAINING DATA ======\")\n",
        "print(confusion_matrix(Y_train_wine_2, y_train_pred))\n",
        "print(classification_report(Y_train_wine_2, y_train_pred))"
      ],
      "metadata": {
        "colab": {
          "base_uri": "https://localhost:8080/"
        },
        "id": "DW6G4x7o7rZF",
        "outputId": "2157063f-ede2-4303-bf69-22e632668ff1"
      },
      "execution_count": 98,
      "outputs": [
        {
          "output_type": "stream",
          "name": "stdout",
          "text": [
            "===== TRAINING DATA ======\n",
            "[[1 0 0 ... 0 0 0]\n",
            " [0 1 0 ... 0 0 0]\n",
            " [0 0 1 ... 0 0 0]\n",
            " ...\n",
            " [0 0 0 ... 1 0 0]\n",
            " [0 0 0 ... 0 1 0]\n",
            " [0 0 0 ... 0 0 1]]\n",
            "              precision    recall  f1-score   support\n",
            "\n",
            "         315       1.00      1.00      1.00         1\n",
            "         342       1.00      1.00      1.00         1\n",
            "         345       1.00      1.00      1.00         1\n",
            "         372       1.00      1.00      1.00         1\n",
            "         378       1.00      1.00      1.00         1\n",
            "         406       1.00      1.00      1.00         1\n",
            "         415       1.00      1.00      1.00         1\n",
            "         420       1.00      1.00      1.00         1\n",
            "         428       1.00      1.00      1.00         1\n",
            "         438       1.00      1.00      1.00         1\n",
            "         450       1.00      1.00      1.00         1\n",
            "         463       1.00      1.00      1.00         1\n",
            "         465       1.00      1.00      1.00         1\n",
            "         466       1.00      1.00      1.00         1\n",
            "         470       1.00      1.00      1.00         1\n",
            "         480       1.00      1.00      1.00         1\n",
            "         488       1.00      1.00      1.00         1\n",
            "         495       1.00      1.00      1.00         3\n",
            "         500       1.00      1.00      1.00         1\n",
            "         510       1.00      1.00      1.00         2\n",
            "         515       1.00      1.00      1.00         1\n",
            "         520       1.00      0.67      0.80         3\n",
            "         550       1.00      1.00      1.00         2\n",
            "         560       1.00      1.00      1.00         2\n",
            "         562       0.67      1.00      0.80         2\n",
            "         564       1.00      1.00      1.00         1\n",
            "         580       1.00      1.00      1.00         1\n",
            "         590       1.00      1.00      1.00         1\n",
            "         600       1.00      1.00      1.00         1\n",
            "         607       1.00      1.00      1.00         1\n",
            "         615       1.00      1.00      1.00         1\n",
            "         625       1.00      1.00      1.00         3\n",
            "         630       1.00      1.00      1.00         1\n",
            "         650       1.00      1.00      1.00         1\n",
            "         678       1.00      1.00      1.00         1\n",
            "         680       0.75      0.75      0.75         4\n",
            "         685       1.00      1.00      1.00         1\n",
            "         695       0.67      1.00      0.80         2\n",
            "         710       1.00      1.00      1.00         1\n",
            "         720       1.00      1.00      1.00         1\n",
            "         725       1.00      1.00      1.00         1\n",
            "         750       1.00      0.50      0.67         2\n",
            "         760       1.00      1.00      1.00         1\n",
            "         770       1.00      1.00      1.00         1\n",
            "         830       1.00      1.00      1.00         1\n",
            "         835       1.00      1.00      1.00         1\n",
            "         845       1.00      1.00      1.00         1\n",
            "         885       1.00      1.00      1.00         1\n",
            "         886       1.00      1.00      1.00         1\n",
            "         915       1.00      1.00      1.00         1\n",
            "         970       1.00      1.00      1.00         1\n",
            "         985       1.00      1.00      1.00         1\n",
            "        1015       1.00      1.00      1.00         1\n",
            "        1035       1.00      1.00      1.00         1\n",
            "        1045       1.00      1.00      1.00         1\n",
            "        1050       1.00      1.00      1.00         1\n",
            "        1065       1.00      1.00      1.00         1\n",
            "        1080       1.00      1.00      1.00         1\n",
            "        1095       1.00      1.00      1.00         2\n",
            "        1105       1.00      1.00      1.00         1\n",
            "        1120       1.00      1.00      1.00         1\n",
            "        1130       1.00      1.00      1.00         1\n",
            "        1150       1.00      1.00      1.00         1\n",
            "        1185       1.00      1.00      1.00         1\n",
            "        1235       1.00      1.00      1.00         1\n",
            "        1260       1.00      1.00      1.00         1\n",
            "        1270       1.00      1.00      1.00         1\n",
            "        1285       1.00      1.00      1.00         2\n",
            "        1295       1.00      1.00      1.00         1\n",
            "        1320       1.00      1.00      1.00         1\n",
            "        1547       1.00      1.00      1.00         1\n",
            "        1680       1.00      1.00      1.00         1\n",
            "\n",
            "    accuracy                           0.97        89\n",
            "   macro avg       0.99      0.98      0.98        89\n",
            "weighted avg       0.97      0.97      0.97        89\n",
            "\n"
          ]
        }
      ]
    },
    {
      "cell_type": "markdown",
      "metadata": {
        "id": "_PCFVbmAXgfE"
      },
      "source": [
        "##Conclusions\n",
        "Results for each dataset:\n",
        "- Iris 20% 80%\n",
        "\n",
        "Accuracy: {0.96, 120} \\\\\n",
        "Macro avg: {0.96, 0.96, 0.96, 120} \\\\\n",
        "Weighted avg: {0.96, 0.96, 0.96, 120}\n",
        "- iris 50% 50%\n",
        "\n",
        "Accuracy: {0.92, 75} \\\\\n",
        "Macro avg: {0.92, 0.92, 0.92, 75} \\\\\n",
        "Weighted avg: {0.92, 0.92, 0.92, 75}\n",
        "- Wine 20% 80%\n",
        "\n",
        "Accuracy: {0.97, 89} \\\\\n",
        "Macro avg: {0.99, 0.98, 0.98, 89} \\\\\n",
        "Weighted avg: {0.97, 0.97, 0.97, 89}\n",
        "- Wine 50% 50%\n",
        "\n",
        "Accuracy: {0.93, 142} \\\\\n",
        "Macro avg: {0.97, 0.97, 0.97, 142} \\\\\n",
        "Weighted avg: {0.93, 0.93, 0.93, 142} \\\\\n",
        "**Accuracy is just the percentage of predictions that were made correctly, expressed as a decimal number between 0 (0% of predictions correct) and 1 (100% of predictions correct).**\n",
        "\n",
        "It was an interesting work to see how to program each algorithms and split the datasets into two different quantities, this homework complement the theory that we saw in class and the topic about Naïve Bayes and Decision trees are more clear. \n",
        "\n",
        "##Resources\n",
        "- https://machinelearningmastery.com/how-to-prepare-categorical-data-for-deep-learning-in-python/\n",
        "- https://scikit-learn.org/stable/modules/tree.html#classification\n",
        "-  https://scikit-learn.org/stable/modules/naive_bayes.html# \n",
        "- https://towardsdatascience.com/choosing-performance-metrics-61b40819eae1\n"
      ]
    }
  ],
  "metadata": {
    "colab": {
      "name": "DecisionTree-NaiveBayes.ipynb",
      "provenance": [],
      "include_colab_link": true
    },
    "kernelspec": {
      "display_name": "Python 3",
      "name": "python3"
    }
  },
  "nbformat": 4,
  "nbformat_minor": 0
}